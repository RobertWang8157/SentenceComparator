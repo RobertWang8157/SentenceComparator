{
 "cells": [
  {
   "cell_type": "code",
   "execution_count": null,
   "id": "18f75d4be9068c53",
   "metadata": {},
   "outputs": [],
   "source": [
    "pip install sentence-transformers"
   ]
  },
  {
   "cell_type": "code",
   "execution_count": null,
   "id": "68891831d40dc6ef",
   "metadata": {},
   "outputs": [],
   "source": [
    "pip install mysql-connector-python"
   ]
  },
  {
   "cell_type": "code",
   "execution_count": 15,
   "outputs": [
    {
     "name": "stdout",
     "output_type": "stream",
     "text": [
      "Collecting en-core-web-sm==3.7.1\r\n",
      "  Downloading https://github.com/explosion/spacy-models/releases/download/en_core_web_sm-3.7.1/en_core_web_sm-3.7.1-py3-none-any.whl (12.8 MB)\r\n",
      "\u001B[2K     \u001B[90m━━━━━━━━━━━━━━━━━━━━━━━━━━━━━━━━━━━━━━━━\u001B[0m \u001B[32m12.8/12.8 MB\u001B[0m \u001B[31m9.4 MB/s\u001B[0m eta \u001B[36m0:00:00\u001B[0m00:01\u001B[0mm0:01\u001B[0m\r\n",
      "\u001B[?25hRequirement already satisfied: spacy<3.8.0,>=3.7.2 in /Users/johnny/anaconda3/lib/python3.10/site-packages (from en-core-web-sm==3.7.1) (3.7.2)\r\n",
      "Requirement already satisfied: spacy-legacy<3.1.0,>=3.0.11 in /Users/johnny/anaconda3/lib/python3.10/site-packages (from spacy<3.8.0,>=3.7.2->en-core-web-sm==3.7.1) (3.0.12)\r\n",
      "Requirement already satisfied: spacy-loggers<2.0.0,>=1.0.0 in /Users/johnny/anaconda3/lib/python3.10/site-packages (from spacy<3.8.0,>=3.7.2->en-core-web-sm==3.7.1) (1.0.5)\r\n",
      "Requirement already satisfied: murmurhash<1.1.0,>=0.28.0 in /Users/johnny/anaconda3/lib/python3.10/site-packages (from spacy<3.8.0,>=3.7.2->en-core-web-sm==3.7.1) (1.0.10)\r\n",
      "Requirement already satisfied: cymem<2.1.0,>=2.0.2 in /Users/johnny/anaconda3/lib/python3.10/site-packages (from spacy<3.8.0,>=3.7.2->en-core-web-sm==3.7.1) (2.0.8)\r\n",
      "Requirement already satisfied: preshed<3.1.0,>=3.0.2 in /Users/johnny/anaconda3/lib/python3.10/site-packages (from spacy<3.8.0,>=3.7.2->en-core-web-sm==3.7.1) (3.0.9)\r\n",
      "Requirement already satisfied: thinc<8.3.0,>=8.1.8 in /Users/johnny/anaconda3/lib/python3.10/site-packages (from spacy<3.8.0,>=3.7.2->en-core-web-sm==3.7.1) (8.2.2)\r\n",
      "Requirement already satisfied: wasabi<1.2.0,>=0.9.1 in /Users/johnny/anaconda3/lib/python3.10/site-packages (from spacy<3.8.0,>=3.7.2->en-core-web-sm==3.7.1) (1.1.2)\r\n",
      "Requirement already satisfied: srsly<3.0.0,>=2.4.3 in /Users/johnny/anaconda3/lib/python3.10/site-packages (from spacy<3.8.0,>=3.7.2->en-core-web-sm==3.7.1) (2.4.8)\r\n",
      "Requirement already satisfied: catalogue<2.1.0,>=2.0.6 in /Users/johnny/anaconda3/lib/python3.10/site-packages (from spacy<3.8.0,>=3.7.2->en-core-web-sm==3.7.1) (2.0.10)\r\n",
      "Requirement already satisfied: weasel<0.4.0,>=0.1.0 in /Users/johnny/anaconda3/lib/python3.10/site-packages (from spacy<3.8.0,>=3.7.2->en-core-web-sm==3.7.1) (0.3.4)\r\n",
      "Requirement already satisfied: typer<0.10.0,>=0.3.0 in /Users/johnny/anaconda3/lib/python3.10/site-packages (from spacy<3.8.0,>=3.7.2->en-core-web-sm==3.7.1) (0.9.0)\r\n",
      "Requirement already satisfied: smart-open<7.0.0,>=5.2.1 in /Users/johnny/anaconda3/lib/python3.10/site-packages (from spacy<3.8.0,>=3.7.2->en-core-web-sm==3.7.1) (5.2.1)\r\n",
      "Requirement already satisfied: tqdm<5.0.0,>=4.38.0 in /Users/johnny/anaconda3/lib/python3.10/site-packages (from spacy<3.8.0,>=3.7.2->en-core-web-sm==3.7.1) (4.64.1)\r\n",
      "Requirement already satisfied: requests<3.0.0,>=2.13.0 in /Users/johnny/anaconda3/lib/python3.10/site-packages (from spacy<3.8.0,>=3.7.2->en-core-web-sm==3.7.1) (2.28.1)\r\n",
      "Requirement already satisfied: pydantic!=1.8,!=1.8.1,<3.0.0,>=1.7.4 in /Users/johnny/anaconda3/lib/python3.10/site-packages (from spacy<3.8.0,>=3.7.2->en-core-web-sm==3.7.1) (2.5.3)\r\n",
      "Requirement already satisfied: jinja2 in /Users/johnny/anaconda3/lib/python3.10/site-packages (from spacy<3.8.0,>=3.7.2->en-core-web-sm==3.7.1) (3.1.2)\r\n",
      "Requirement already satisfied: setuptools in /Users/johnny/anaconda3/lib/python3.10/site-packages (from spacy<3.8.0,>=3.7.2->en-core-web-sm==3.7.1) (65.6.3)\r\n",
      "Requirement already satisfied: packaging>=20.0 in /Users/johnny/anaconda3/lib/python3.10/site-packages (from spacy<3.8.0,>=3.7.2->en-core-web-sm==3.7.1) (22.0)\r\n",
      "Requirement already satisfied: langcodes<4.0.0,>=3.2.0 in /Users/johnny/anaconda3/lib/python3.10/site-packages (from spacy<3.8.0,>=3.7.2->en-core-web-sm==3.7.1) (3.3.0)\r\n",
      "Requirement already satisfied: numpy>=1.19.0 in /Users/johnny/anaconda3/lib/python3.10/site-packages (from spacy<3.8.0,>=3.7.2->en-core-web-sm==3.7.1) (1.23.5)\r\n",
      "Requirement already satisfied: annotated-types>=0.4.0 in /Users/johnny/anaconda3/lib/python3.10/site-packages (from pydantic!=1.8,!=1.8.1,<3.0.0,>=1.7.4->spacy<3.8.0,>=3.7.2->en-core-web-sm==3.7.1) (0.6.0)\r\n",
      "Requirement already satisfied: pydantic-core==2.14.6 in /Users/johnny/anaconda3/lib/python3.10/site-packages (from pydantic!=1.8,!=1.8.1,<3.0.0,>=1.7.4->spacy<3.8.0,>=3.7.2->en-core-web-sm==3.7.1) (2.14.6)\r\n",
      "Requirement already satisfied: typing-extensions>=4.6.1 in /Users/johnny/anaconda3/lib/python3.10/site-packages (from pydantic!=1.8,!=1.8.1,<3.0.0,>=1.7.4->spacy<3.8.0,>=3.7.2->en-core-web-sm==3.7.1) (4.9.0)\r\n",
      "Requirement already satisfied: charset-normalizer<3,>=2 in /Users/johnny/anaconda3/lib/python3.10/site-packages (from requests<3.0.0,>=2.13.0->spacy<3.8.0,>=3.7.2->en-core-web-sm==3.7.1) (2.0.4)\r\n",
      "Requirement already satisfied: idna<4,>=2.5 in /Users/johnny/anaconda3/lib/python3.10/site-packages (from requests<3.0.0,>=2.13.0->spacy<3.8.0,>=3.7.2->en-core-web-sm==3.7.1) (3.4)\r\n",
      "Requirement already satisfied: urllib3<1.27,>=1.21.1 in /Users/johnny/anaconda3/lib/python3.10/site-packages (from requests<3.0.0,>=2.13.0->spacy<3.8.0,>=3.7.2->en-core-web-sm==3.7.1) (1.26.14)\r\n",
      "Requirement already satisfied: certifi>=2017.4.17 in /Users/johnny/anaconda3/lib/python3.10/site-packages (from requests<3.0.0,>=2.13.0->spacy<3.8.0,>=3.7.2->en-core-web-sm==3.7.1) (2022.12.7)\r\n",
      "Requirement already satisfied: blis<0.8.0,>=0.7.8 in /Users/johnny/anaconda3/lib/python3.10/site-packages (from thinc<8.3.0,>=8.1.8->spacy<3.8.0,>=3.7.2->en-core-web-sm==3.7.1) (0.7.11)\r\n",
      "Requirement already satisfied: confection<1.0.0,>=0.0.1 in /Users/johnny/anaconda3/lib/python3.10/site-packages (from thinc<8.3.0,>=8.1.8->spacy<3.8.0,>=3.7.2->en-core-web-sm==3.7.1) (0.1.4)\r\n",
      "Requirement already satisfied: click<9.0.0,>=7.1.1 in /Users/johnny/anaconda3/lib/python3.10/site-packages (from typer<0.10.0,>=0.3.0->spacy<3.8.0,>=3.7.2->en-core-web-sm==3.7.1) (8.0.4)\r\n",
      "Requirement already satisfied: cloudpathlib<0.17.0,>=0.7.0 in /Users/johnny/anaconda3/lib/python3.10/site-packages (from weasel<0.4.0,>=0.1.0->spacy<3.8.0,>=3.7.2->en-core-web-sm==3.7.1) (0.16.0)\r\n",
      "Requirement already satisfied: MarkupSafe>=2.0 in /Users/johnny/anaconda3/lib/python3.10/site-packages (from jinja2->spacy<3.8.0,>=3.7.2->en-core-web-sm==3.7.1) (2.1.1)\r\n",
      "Installing collected packages: en-core-web-sm\r\n",
      "Successfully installed en-core-web-sm-3.7.1\r\n",
      "\u001B[38;5;2m✔ Download and installation successful\u001B[0m\r\n",
      "You can now load the package via spacy.load('en_core_web_sm')\r\n"
     ]
    }
   ],
   "source": [
    "!python -m spacy download en_core_web_sm"
   ],
   "metadata": {
    "collapsed": false,
    "ExecuteTime": {
     "end_time": "2023-12-25T08:19:48.013661Z",
     "start_time": "2023-12-25T08:19:32.723508Z"
    }
   },
   "id": "8b9a0ac8575ed8c6"
  },
  {
   "cell_type": "code",
   "execution_count": 9,
   "outputs": [
    {
     "name": "stdout",
     "output_type": "stream",
     "text": [
      "Collecting spacy\r\n",
      "  Downloading spacy-3.7.2-cp310-cp310-macosx_10_9_x86_64.whl.metadata (25 kB)\r\n",
      "Collecting spacy-legacy<3.1.0,>=3.0.11 (from spacy)\r\n",
      "  Downloading spacy_legacy-3.0.12-py2.py3-none-any.whl (29 kB)\r\n",
      "Collecting spacy-loggers<2.0.0,>=1.0.0 (from spacy)\r\n",
      "  Downloading spacy_loggers-1.0.5-py3-none-any.whl.metadata (23 kB)\r\n",
      "Collecting murmurhash<1.1.0,>=0.28.0 (from spacy)\r\n",
      "  Downloading murmurhash-1.0.10-cp310-cp310-macosx_10_9_x86_64.whl.metadata (2.0 kB)\r\n",
      "Collecting cymem<2.1.0,>=2.0.2 (from spacy)\r\n",
      "  Downloading cymem-2.0.8-cp310-cp310-macosx_10_9_x86_64.whl.metadata (8.4 kB)\r\n",
      "Collecting preshed<3.1.0,>=3.0.2 (from spacy)\r\n",
      "  Downloading preshed-3.0.9-cp310-cp310-macosx_10_9_x86_64.whl.metadata (2.2 kB)\r\n",
      "Collecting thinc<8.3.0,>=8.1.8 (from spacy)\r\n",
      "  Downloading thinc-8.2.2-cp310-cp310-macosx_10_9_x86_64.whl.metadata (15 kB)\r\n",
      "Collecting wasabi<1.2.0,>=0.9.1 (from spacy)\r\n",
      "  Downloading wasabi-1.1.2-py3-none-any.whl.metadata (28 kB)\r\n",
      "Collecting srsly<3.0.0,>=2.4.3 (from spacy)\r\n",
      "  Downloading srsly-2.4.8-cp310-cp310-macosx_10_9_x86_64.whl.metadata (20 kB)\r\n",
      "Collecting catalogue<2.1.0,>=2.0.6 (from spacy)\r\n",
      "  Downloading catalogue-2.0.10-py3-none-any.whl.metadata (14 kB)\r\n",
      "Collecting weasel<0.4.0,>=0.1.0 (from spacy)\r\n",
      "  Downloading weasel-0.3.4-py3-none-any.whl.metadata (4.7 kB)\r\n",
      "Collecting typer<0.10.0,>=0.3.0 (from spacy)\r\n",
      "  Downloading typer-0.9.0-py3-none-any.whl (45 kB)\r\n",
      "\u001B[2K     \u001B[90m━━━━━━━━━━━━━━━━━━━━━━━━━━━━━━━━━━━━━━━\u001B[0m \u001B[32m45.9/45.9 kB\u001B[0m \u001B[31m917.5 kB/s\u001B[0m eta \u001B[36m0:00:00\u001B[0m \u001B[36m0:00:01\u001B[0m\r\n",
      "\u001B[?25hRequirement already satisfied: smart-open<7.0.0,>=5.2.1 in /Users/johnny/anaconda3/lib/python3.10/site-packages (from spacy) (5.2.1)\r\n",
      "Requirement already satisfied: tqdm<5.0.0,>=4.38.0 in /Users/johnny/anaconda3/lib/python3.10/site-packages (from spacy) (4.64.1)\r\n",
      "Requirement already satisfied: requests<3.0.0,>=2.13.0 in /Users/johnny/anaconda3/lib/python3.10/site-packages (from spacy) (2.28.1)\r\n",
      "Collecting pydantic!=1.8,!=1.8.1,<3.0.0,>=1.7.4 (from spacy)\r\n",
      "  Downloading pydantic-2.5.3-py3-none-any.whl.metadata (65 kB)\r\n",
      "\u001B[2K     \u001B[90m━━━━━━━━━━━━━━━━━━━━━━━━━━━━━━━━━━━━━━━\u001B[0m \u001B[32m65.6/65.6 kB\u001B[0m \u001B[31m580.2 kB/s\u001B[0m eta \u001B[36m0:00:00\u001B[0ma \u001B[36m0:00:01\u001B[0m\r\n",
      "\u001B[?25hRequirement already satisfied: jinja2 in /Users/johnny/anaconda3/lib/python3.10/site-packages (from spacy) (3.1.2)\r\n",
      "Requirement already satisfied: setuptools in /Users/johnny/anaconda3/lib/python3.10/site-packages (from spacy) (65.6.3)\r\n",
      "Requirement already satisfied: packaging>=20.0 in /Users/johnny/anaconda3/lib/python3.10/site-packages (from spacy) (22.0)\r\n",
      "Collecting langcodes<4.0.0,>=3.2.0 (from spacy)\r\n",
      "  Downloading langcodes-3.3.0-py3-none-any.whl (181 kB)\r\n",
      "\u001B[2K     \u001B[90m━━━━━━━━━━━━━━━━━━━━━━━━━━━━━━━━━━━━━\u001B[0m \u001B[32m181.6/181.6 kB\u001B[0m \u001B[31m691.7 kB/s\u001B[0m eta \u001B[36m0:00:00\u001B[0ma \u001B[36m0:00:01\u001B[0m\r\n",
      "\u001B[?25hRequirement already satisfied: numpy>=1.19.0 in /Users/johnny/anaconda3/lib/python3.10/site-packages (from spacy) (1.23.5)\r\n",
      "Collecting annotated-types>=0.4.0 (from pydantic!=1.8,!=1.8.1,<3.0.0,>=1.7.4->spacy)\r\n",
      "  Downloading annotated_types-0.6.0-py3-none-any.whl.metadata (12 kB)\r\n",
      "Collecting pydantic-core==2.14.6 (from pydantic!=1.8,!=1.8.1,<3.0.0,>=1.7.4->spacy)\r\n",
      "  Downloading pydantic_core-2.14.6-cp310-cp310-macosx_10_7_x86_64.whl.metadata (6.5 kB)\r\n",
      "Collecting typing-extensions>=4.6.1 (from pydantic!=1.8,!=1.8.1,<3.0.0,>=1.7.4->spacy)\r\n",
      "  Downloading typing_extensions-4.9.0-py3-none-any.whl.metadata (3.0 kB)\r\n",
      "Requirement already satisfied: charset-normalizer<3,>=2 in /Users/johnny/anaconda3/lib/python3.10/site-packages (from requests<3.0.0,>=2.13.0->spacy) (2.0.4)\r\n",
      "Requirement already satisfied: idna<4,>=2.5 in /Users/johnny/anaconda3/lib/python3.10/site-packages (from requests<3.0.0,>=2.13.0->spacy) (3.4)\r\n",
      "Requirement already satisfied: urllib3<1.27,>=1.21.1 in /Users/johnny/anaconda3/lib/python3.10/site-packages (from requests<3.0.0,>=2.13.0->spacy) (1.26.14)\r\n",
      "Requirement already satisfied: certifi>=2017.4.17 in /Users/johnny/anaconda3/lib/python3.10/site-packages (from requests<3.0.0,>=2.13.0->spacy) (2022.12.7)\r\n",
      "Collecting blis<0.8.0,>=0.7.8 (from thinc<8.3.0,>=8.1.8->spacy)\r\n",
      "  Downloading blis-0.7.11-cp310-cp310-macosx_10_9_x86_64.whl.metadata (7.4 kB)\r\n",
      "Collecting confection<1.0.0,>=0.0.1 (from thinc<8.3.0,>=8.1.8->spacy)\r\n",
      "  Downloading confection-0.1.4-py3-none-any.whl.metadata (19 kB)\r\n",
      "Requirement already satisfied: click<9.0.0,>=7.1.1 in /Users/johnny/anaconda3/lib/python3.10/site-packages (from typer<0.10.0,>=0.3.0->spacy) (8.0.4)\r\n",
      "Collecting cloudpathlib<0.17.0,>=0.7.0 (from weasel<0.4.0,>=0.1.0->spacy)\r\n",
      "  Downloading cloudpathlib-0.16.0-py3-none-any.whl.metadata (14 kB)\r\n",
      "Requirement already satisfied: MarkupSafe>=2.0 in /Users/johnny/anaconda3/lib/python3.10/site-packages (from jinja2->spacy) (2.1.1)\r\n",
      "Downloading spacy-3.7.2-cp310-cp310-macosx_10_9_x86_64.whl (6.8 MB)\r\n",
      "\u001B[2K   \u001B[90m━━━━━━━━━━━━━━━━━━━━━━━━━━━━━━━━━━━━━━━━\u001B[0m \u001B[32m6.8/6.8 MB\u001B[0m \u001B[31m757.0 kB/s\u001B[0m eta \u001B[36m0:00:00\u001B[0m00:01\u001B[0m00:01\u001B[0m\r\n",
      "\u001B[?25hDownloading catalogue-2.0.10-py3-none-any.whl (17 kB)\r\n",
      "Downloading cymem-2.0.8-cp310-cp310-macosx_10_9_x86_64.whl (41 kB)\r\n",
      "\u001B[2K   \u001B[90m━━━━━━━━━━━━━━━━━━━━━━━━━━━━━━━━━━━━━━━━\u001B[0m \u001B[32m41.6/41.6 kB\u001B[0m \u001B[31m600.5 kB/s\u001B[0m eta \u001B[36m0:00:00\u001B[0m:01\u001B[0m\r\n",
      "\u001B[?25hDownloading murmurhash-1.0.10-cp310-cp310-macosx_10_9_x86_64.whl (26 kB)\r\n",
      "Downloading preshed-3.0.9-cp310-cp310-macosx_10_9_x86_64.whl (132 kB)\r\n",
      "\u001B[2K   \u001B[90m━━━━━━━━━━━━━━━━━━━━━━━━━━━━━━━━━━━━━━━\u001B[0m \u001B[32m132.2/132.2 kB\u001B[0m \u001B[31m842.2 kB/s\u001B[0m eta \u001B[36m0:00:00\u001B[0ma \u001B[36m0:00:01\u001B[0m\r\n",
      "\u001B[?25hDownloading pydantic-2.5.3-py3-none-any.whl (381 kB)\r\n",
      "\u001B[2K   \u001B[90m━━━━━━━━━━━━━━━━━━━━━━━━━━━━━━━━━━━━━━━\u001B[0m \u001B[32m381.9/381.9 kB\u001B[0m \u001B[31m903.7 kB/s\u001B[0m eta \u001B[36m0:00:00\u001B[0ma \u001B[36m0:00:01\u001B[0m\r\n",
      "\u001B[?25hDownloading pydantic_core-2.14.6-cp310-cp310-macosx_10_7_x86_64.whl (1.9 MB)\r\n",
      "\u001B[2K   \u001B[90m━━━━━━━━━━━━━━━━━━━━━━━━━━━━━━━━━━━━━━━━\u001B[0m \u001B[32m1.9/1.9 MB\u001B[0m \u001B[31m887.3 kB/s\u001B[0m eta \u001B[36m0:00:00\u001B[0m00:01\u001B[0m00:01\u001B[0m\r\n",
      "\u001B[?25hDownloading spacy_loggers-1.0.5-py3-none-any.whl (22 kB)\r\n",
      "Downloading srsly-2.4.8-cp310-cp310-macosx_10_9_x86_64.whl (492 kB)\r\n",
      "\u001B[2K   \u001B[90m━━━━━━━━━━━━━━━━━━━━━━━━━━━━━━━━━━━━━━━\u001B[0m \u001B[32m492.9/492.9 kB\u001B[0m \u001B[31m500.1 kB/s\u001B[0m eta \u001B[36m0:00:00\u001B[0m00:01\u001B[0m00:01\u001B[0m\r\n",
      "\u001B[?25hDownloading thinc-8.2.2-cp310-cp310-macosx_10_9_x86_64.whl (870 kB)\r\n",
      "\u001B[2K   \u001B[90m━━━━━━━━━━━━━━━━━━━━━━━━━━━━━━━━━━━━━━━\u001B[0m \u001B[32m870.4/870.4 kB\u001B[0m \u001B[31m639.9 kB/s\u001B[0m eta \u001B[36m0:00:00\u001B[0ma \u001B[36m0:00:01\u001B[0m\r\n",
      "\u001B[?25hDownloading wasabi-1.1.2-py3-none-any.whl (27 kB)\r\n",
      "Downloading weasel-0.3.4-py3-none-any.whl (50 kB)\r\n",
      "\u001B[2K   \u001B[90m━━━━━━━━━━━━━━━━━━━━━━━━━━━━━━━━━━━━━━━━\u001B[0m \u001B[32m50.1/50.1 kB\u001B[0m \u001B[31m614.9 kB/s\u001B[0m eta \u001B[36m0:00:00\u001B[0m\u001B[36m0:00:01\u001B[0m\r\n",
      "\u001B[?25hDownloading annotated_types-0.6.0-py3-none-any.whl (12 kB)\r\n",
      "Downloading blis-0.7.11-cp310-cp310-macosx_10_9_x86_64.whl (6.1 MB)\r\n",
      "\u001B[2K   \u001B[90m━━━━━━━━━━━━━━━━━━━━━━━━━━━━━━━━━━━━━━━━\u001B[0m \u001B[32m6.1/6.1 MB\u001B[0m \u001B[31m566.3 kB/s\u001B[0m eta \u001B[36m0:00:00\u001B[0m00:01\u001B[0m00:01\u001B[0m\r\n",
      "\u001B[?25hDownloading cloudpathlib-0.16.0-py3-none-any.whl (45 kB)\r\n",
      "\u001B[2K   \u001B[90m━━━━━━━━━━━━━━━━━━━━━━━━━━━━━━━━━━━━━━━━\u001B[0m \u001B[32m45.0/45.0 kB\u001B[0m \u001B[31m710.8 kB/s\u001B[0m eta \u001B[36m0:00:00\u001B[0m\u001B[36m0:00:01\u001B[0m\r\n",
      "\u001B[?25hDownloading confection-0.1.4-py3-none-any.whl (35 kB)\r\n",
      "Downloading typing_extensions-4.9.0-py3-none-any.whl (32 kB)\r\n",
      "Installing collected packages: cymem, wasabi, typing-extensions, spacy-loggers, spacy-legacy, murmurhash, langcodes, catalogue, blis, annotated-types, typer, srsly, pydantic-core, preshed, cloudpathlib, pydantic, confection, weasel, thinc, spacy\r\n",
      "  Attempting uninstall: typing-extensions\r\n",
      "    Found existing installation: typing_extensions 4.4.0\r\n",
      "    Uninstalling typing_extensions-4.4.0:\r\n",
      "      Successfully uninstalled typing_extensions-4.4.0\r\n",
      "\u001B[31mERROR: pip's dependency resolver does not currently take into account all the packages that are installed. This behaviour is the source of the following dependency conflicts.\r\n",
      "spyder 5.4.1 requires pyqt5<5.16, which is not installed.\r\n",
      "spyder 5.4.1 requires pyqtwebengine<5.16, which is not installed.\u001B[0m\u001B[31m\r\n",
      "\u001B[0mSuccessfully installed annotated-types-0.6.0 blis-0.7.11 catalogue-2.0.10 cloudpathlib-0.16.0 confection-0.1.4 cymem-2.0.8 langcodes-3.3.0 murmurhash-1.0.10 preshed-3.0.9 pydantic-2.5.3 pydantic-core-2.14.6 spacy-3.7.2 spacy-legacy-3.0.12 spacy-loggers-1.0.5 srsly-2.4.8 thinc-8.2.2 typer-0.9.0 typing-extensions-4.9.0 wasabi-1.1.2 weasel-0.3.4\r\n",
      "Note: you may need to restart the kernel to use updated packages.\n"
     ]
    }
   ],
   "source": [
    "pip install spacy"
   ],
   "metadata": {
    "collapsed": false,
    "ExecuteTime": {
     "start_time": "2023-12-25T08:14:56.126843Z"
    }
   },
   "id": "cee1d33fbf2236df"
  },
  {
   "cell_type": "code",
   "execution_count": null,
   "outputs": [],
   "source": [],
   "metadata": {
    "collapsed": false
   },
   "id": "initial_id"
  },
  {
   "cell_type": "code",
   "execution_count": null,
   "outputs": [],
   "source": [
    "from sentence_transformers import SentenceTransformer, util\n",
    "\n",
    "model = SentenceTransformer(\"shibing624/text2vec-base-chinese\")\n",
    "\n",
    "sentence1_embeddings = model.encode([\"go to the curch\"])\n",
    "# sentence2_embeddings = model.encode([\"你是誰\"])\n",
    "# sentence2_embeddings = model.encode([\"你過得如何\"])\n",
    "sentence2_embeddings = model.encode([\"come on\"])\n",
    "\n",
    "similarity = util.pytorch_cos_sim(sentence1_embeddings, sentence2_embeddings)\n",
    "print(similarity)"
   ],
   "metadata": {
    "collapsed": false
   },
   "id": "8eaebfb4aa27e744"
  },
  {
   "cell_type": "code",
   "execution_count": null,
   "outputs": [],
   "source": [
    "from http.server import BaseHTTPRequestHandler, HTTPServer\n",
    "from sentence_transformers import SentenceTransformer, util\n",
    "import mysql.connector\n",
    "import json\n",
    "\n",
    "def connect_to_database():\n",
    "    connection = mysql.connector.connect(\n",
    "        host=\"localhost\",\n",
    "        user=\"root\",\n",
    "        password=\"3659215fF\",\n",
    "        database=\"handle_together\"\n",
    "    )\n",
    "    return connection\n",
    "\n",
    "def send_json_response(self, status_code, data):\n",
    "    # Convert status_code to integer\n",
    "    status_code = int(status_code)\n",
    "\n",
    "    # Set up the HTTP response\n",
    "    self.send_response(status_code)\n",
    "    self.send_header(\"Content-type\", \"application/json\")\n",
    "    self.end_headers()\n",
    "\n",
    "    # Convert the data to JSON\n",
    "    json_response = json.dumps(data)\n",
    "\n",
    "    # Send the JSON response\n",
    "    self.wfile.write(json_response.encode('utf-8'))\n",
    "\n",
    "class WebServerHandler(BaseHTTPRequestHandler):\n",
    "\n",
    "    def do_POST(self):       \n",
    "        # Read the content length from the request headers\n",
    "        content_length = int(self.headers['Content-Length'])\n",
    "\n",
    "        # Read the JSON data from the request body\n",
    "        post_data = self.rfile.read(content_length)\n",
    "        json_data_list = json.loads(post_data.decode('utf-8'))\n",
    "\n",
    "        if json_data_list:\n",
    "            json_data = json_data_list[0]\n",
    "            # Now json_data contains the parameters sent in the JSON format\n",
    "            tag_array = json_data.get('tag_array', [])\n",
    "            subject_array = json_data.get('subject_array', [])\n",
    "            object_array = json_data.get('object_array', [])\n",
    "            input_sentence = json_data.get('input_sentence', '')       \n",
    "            public_ind = json_data.get('public_ind', '')\n",
    "            command_ind = json_data.get('command_ind', '')\n",
    "\n",
    "            print()\n",
    "        # Load the Sentence Transformer model\n",
    "        model = SentenceTransformer(\"shibing624/text2vec-base-chinese\")\n",
    "\n",
    "        # Fetch distinct subject codes from intent_type table\n",
    "        connection = connect_to_database()\n",
    "        cursor = connection.cursor()\n",
    "\n",
    "        # Use parameterized query to avoid SQL injection\n",
    "        # query = \"SELECT tag, content FROM intent_training_data WHERE tag IN ({}) AND subject IN ({})\".format(','.join(['%s' for _ in tag_array]), ','.join(['%s' for _ in subject_array]))\n",
    "        if tag_array and any(tag_array):\n",
    "            tag_condition = \"tag IN ({})\".format(','.join(['%s' for _ in tag_array]))\n",
    "        else:\n",
    "            tag_condition = \"1=1\"  # Always true if tag_array is empty or None\n",
    "            \n",
    "        if command_ind: \n",
    "            tag_condition2 = \"AND COMMAND_IND = '\"+command_ind+\"'\"\n",
    "        else:\n",
    "            tag_condition2 = \"\"  # Always true if tag_array is empty or None\n",
    "        \n",
    "        query = (\"SELECT tag, content FROM intent_training_data WHERE {} AND subject IN ({}) AND object IN ({}) AND PUBLIC_IND = '\"+public_ind+\"'\"+tag_condition2).format(tag_condition, ','.join(['%s' for _ in subject_array]) ,','.join(['%s' for _ in object_array]))\n",
    "        params = tag_array + subject_array + object_array\n",
    "        cursor.execute(query, params)\n",
    "        rows = cursor.fetchall()\n",
    "        candidate_responses_tags = [row[0] for row in rows]\n",
    "        candidate_responses = [row[1] for row in rows]\n",
    "\n",
    "        cursor.close()\n",
    "        connection.close()\n",
    "\n",
    "        # Encode input sentence and candidate responses\n",
    "        input_embedding = model.encode([input_sentence])\n",
    "        response_embeddings = model.encode(candidate_responses)\n",
    "\n",
    "        # Calculate cosine similarity between input and responses\n",
    "        similarities = util.pytorch_cos_sim(input_embedding, response_embeddings)[0]\n",
    "        \n",
    "        similarity = util.pytorch_cos_sim(input_embedding, response_embeddings)\n",
    "\n",
    "        # Get the index of the most similar response\n",
    "        most_similar_index = similarities.argmax().item()\n",
    "\n",
    "        # Print the most similar response\n",
    "        print(\"Input sentence:\", input_sentence)\n",
    "        print(\"Most tag:\", candidate_responses_tags[most_similar_index])\n",
    "        print(\"Most similar response:\", candidate_responses[most_similar_index])\n",
    "        print(\"similarity:\",similarity)\n",
    "        result = {\n",
    "            \"input_sentence\": input_sentence,\n",
    "            \"tag\": candidate_responses_tags[most_similar_index],\n",
    "            \"content\": candidate_responses[most_similar_index],\n",
    "            \"similarity\" : round(similarity.item(),5)\n",
    "        }\n",
    "        send_json_response(self, '200', result)\n",
    "\n",
    "if __name__ == '__main__':\n",
    "    try:\n",
    "        port = 8000\n",
    "        server = HTTPServer(('localhost', port), WebServerHandler)\n",
    "        server.max_body_length = 10 * 1024 * 1024  # set to 10 MB\n",
    "\n",
    "        print(f'Server running on port {port}')\n",
    "        \n",
    "        server.serve_forever()\n",
    "    except KeyboardInterrupt:\n",
    "        print('^C received, shutting down server')\n",
    "        server.socket.close()\n"
   ],
   "metadata": {
    "collapsed": false
   },
   "id": "49eb88a4e22fb1ee"
  },
  {
   "cell_type": "code",
   "execution_count": null,
   "outputs": [],
   "source": [],
   "metadata": {
    "collapsed": false
   },
   "id": "9c9634f3"
  },
  {
   "cell_type": "code",
   "execution_count": null,
   "outputs": [
    {
     "name": "stdout",
     "output_type": "stream",
     "text": [
      "Server running on port 8000\n",
      "Selected Response: aloha!\n",
      "Input sentence: hi\n",
      "Most tag: APPROVE\n",
      "Most similar response: ok\n",
      "similarity: tensor([[0.6089]])\n"
     ]
    },
    {
     "name": "stderr",
     "output_type": "stream",
     "text": [
      "127.0.0.1 - - [20/Dec/2023 15:16:02] \"POST / HTTP/1.1\" 200 -\n"
     ]
    },
    {
     "name": "stdout",
     "output_type": "stream",
     "text": [
      "Selected Response: charming\n",
      "Input sentence: hi\n",
      "Most tag: REWARD\n",
      "Most similar response: very well\n",
      "similarity: tensor([[0.5001]])\n"
     ]
    },
    {
     "name": "stderr",
     "output_type": "stream",
     "text": [
      "127.0.0.1 - - [20/Dec/2023 15:16:04] \"POST / HTTP/1.1\" 200 -\n"
     ]
    },
    {
     "name": "stdout",
     "output_type": "stream",
     "text": [
      "Selected Response: roll in \n",
      "Input sentence: hi\n",
      "Most tag: APPROVE\n",
      "Most similar response: ok\n",
      "similarity: tensor([[0.5969]])\n"
     ]
    },
    {
     "name": "stderr",
     "output_type": "stream",
     "text": [
      "127.0.0.1 - - [20/Dec/2023 15:23:15] \"POST / HTTP/1.1\" 200 -\n"
     ]
    },
    {
     "name": "stdout",
     "output_type": "stream",
     "text": [
      "Selected Response: charming\n",
      "Input sentence: hi\n",
      "Most tag: REWARD\n",
      "Most similar response: very well\n",
      "similarity: tensor([[0.5001]])\n"
     ]
    },
    {
     "name": "stderr",
     "output_type": "stream",
     "text": [
      "127.0.0.1 - - [20/Dec/2023 15:23:18] \"POST / HTTP/1.1\" 200 -\n"
     ]
    },
    {
     "name": "stdout",
     "output_type": "stream",
     "text": [
      "Selected Response: aloha!\n",
      "Input sentence: hi\n",
      "Most tag: APPROVE\n",
      "Most similar response: ok\n",
      "similarity: tensor([[0.6089]])\n"
     ]
    },
    {
     "name": "stderr",
     "output_type": "stream",
     "text": [
      "127.0.0.1 - - [20/Dec/2023 15:23:36] \"POST / HTTP/1.1\" 200 -\n"
     ]
    },
    {
     "name": "stdout",
     "output_type": "stream",
     "text": [
      "Selected Response: cute\n",
      "Input sentence: hi\n",
      "Most tag: REWARD\n",
      "Most similar response: very well\n",
      "similarity: tensor([[0.4187]])\n"
     ]
    },
    {
     "name": "stderr",
     "output_type": "stream",
     "text": [
      "127.0.0.1 - - [20/Dec/2023 15:23:39] \"POST / HTTP/1.1\" 200 -\n"
     ]
    },
    {
     "name": "stdout",
     "output_type": "stream",
     "text": [
      "Selected Response: ok\n",
      "Input sentence: hi\n",
      "Most tag: APPROVE\n",
      "Most similar response: ok\n",
      "similarity: tensor([[0.7042]])\n"
     ]
    },
    {
     "name": "stderr",
     "output_type": "stream",
     "text": [
      "127.0.0.1 - - [20/Dec/2023 15:42:48] \"POST / HTTP/1.1\" 200 -\n"
     ]
    },
    {
     "name": "stdout",
     "output_type": "stream",
     "text": [
      "Selected Response: very nice!\n",
      "Input sentence: hi\n",
      "Most tag: REWARD\n",
      "Most similar response: very well\n",
      "similarity: tensor([[0.4255]])\n"
     ]
    },
    {
     "name": "stderr",
     "output_type": "stream",
     "text": [
      "127.0.0.1 - - [20/Dec/2023 15:42:50] \"POST / HTTP/1.1\" 200 -\n"
     ]
    },
    {
     "name": "stdout",
     "output_type": "stream",
     "text": [
      "Selected Response: no\n",
      "Input sentence: hi\n",
      "Most tag: APPROVE\n",
      "Most similar response: ok\n",
      "similarity: tensor([[0.5894]])\n"
     ]
    },
    {
     "name": "stderr",
     "output_type": "stream",
     "text": [
      "127.0.0.1 - - [20/Dec/2023 15:45:56] \"POST / HTTP/1.1\" 200 -\n"
     ]
    },
    {
     "name": "stdout",
     "output_type": "stream",
     "text": [
      "Selected Response: cute\n",
      "Input sentence: hi\n",
      "Most tag: REWARD\n",
      "Most similar response: very well\n",
      "similarity: tensor([[0.4187]])\n"
     ]
    },
    {
     "name": "stderr",
     "output_type": "stream",
     "text": [
      "127.0.0.1 - - [20/Dec/2023 15:45:59] \"POST / HTTP/1.1\" 200 -\n"
     ]
    },
    {
     "name": "stdout",
     "output_type": "stream",
     "text": [
      "Selected Response: How's your day?\n",
      "Input sentence: what do you want\n",
      "Most tag: ASK_HOW_TO_PLAY\n",
      "Most similar response: What do you want to see tonight?\n",
      "similarity: tensor([[0.5878]])\n"
     ]
    },
    {
     "name": "stderr",
     "output_type": "stream",
     "text": [
      "127.0.0.1 - - [20/Dec/2023 15:46:42] \"POST / HTTP/1.1\" 200 -\n"
     ]
    },
    {
     "name": "stdout",
     "output_type": "stream",
     "text": [
      "Selected Response: How's your day?\n",
      "Input sentence: what do you want\n",
      "Most tag: ASK_HOW_TO_PLAY\n",
      "Most similar response: What do you want to see tonight?\n",
      "similarity: tensor([[0.5878]])\n"
     ]
    },
    {
     "name": "stderr",
     "output_type": "stream",
     "text": [
      "127.0.0.1 - - [20/Dec/2023 15:46:52] \"POST / HTTP/1.1\" 200 -\n"
     ]
    },
    {
     "name": "stdout",
     "output_type": "stream",
     "text": [
      "Selected Response: no way\n",
      "Input sentence: what do you want to see\n",
      "Most tag: ASK_HOW_TO_PLAY\n",
      "Most similar response: What do you want to see tonight?\n",
      "similarity: tensor([[0.5439]])\n"
     ]
    },
    {
     "name": "stderr",
     "output_type": "stream",
     "text": [
      "127.0.0.1 - - [20/Dec/2023 15:47:02] \"POST / HTTP/1.1\" 200 -\n"
     ]
    },
    {
     "name": "stdout",
     "output_type": "stream",
     "text": [
      "Selected Response: What do you want to see tonight?\n",
      "Input sentence: what do you want to see\n",
      "Most tag: ASK_HOW_TO_PLAY\n",
      "Most similar response: What do you want to see tonight?\n",
      "similarity: tensor([[0.7791]])\n"
     ]
    },
    {
     "name": "stderr",
     "output_type": "stream",
     "text": [
      "127.0.0.1 - - [20/Dec/2023 15:48:11] \"POST / HTTP/1.1\" 200 -\n"
     ]
    },
    {
     "name": "stdout",
     "output_type": "stream",
     "text": [
      "Selected Response: Come on\n",
      "Input sentence: what do you want\n",
      "Most tag: ASK_HOW_TO_PLAY\n",
      "Most similar response: What do you want to see tonight?\n",
      "similarity: tensor([[0.5537]])\n"
     ]
    },
    {
     "name": "stderr",
     "output_type": "stream",
     "text": [
      "127.0.0.1 - - [20/Dec/2023 15:48:27] \"POST / HTTP/1.1\" 200 -\n"
     ]
    },
    {
     "name": "stdout",
     "output_type": "stream",
     "text": [
      "Selected Response: Shall we\n",
      "Input sentence: what do you want\n",
      "Most tag: ASK_HOW_TO_PLAY\n",
      "Most similar response: What do you want to see tonight?\n",
      "similarity: tensor([[0.6064]])\n"
     ]
    },
    {
     "name": "stderr",
     "output_type": "stream",
     "text": [
      "127.0.0.1 - - [20/Dec/2023 15:48:34] \"POST / HTTP/1.1\" 200 -\n"
     ]
    },
    {
     "name": "stdout",
     "output_type": "stream",
     "text": [
      "Selected Response: What do you want to see tonight?\n",
      "Input sentence: what do you want\n",
      "Most tag: ASK_HOW_TO_PLAY\n",
      "Most similar response: What do you want to see tonight?\n",
      "similarity: tensor([[0.6776]])\n"
     ]
    },
    {
     "name": "stderr",
     "output_type": "stream",
     "text": [
      "127.0.0.1 - - [20/Dec/2023 15:48:40] \"POST / HTTP/1.1\" 200 -\n"
     ]
    },
    {
     "name": "stdout",
     "output_type": "stream",
     "text": [
      "Selected Response: 17 yr\n",
      "Input sentence: I am 17yr old\n",
      "Most tag: ANS_INFO\n",
      "Most similar response: 17 yr\n",
      "similarity: tensor([[0.6362]])\n"
     ]
    },
    {
     "name": "stderr",
     "output_type": "stream",
     "text": [
      "127.0.0.1 - - [20/Dec/2023 16:36:59] \"POST / HTTP/1.1\" 200 -\n"
     ]
    },
    {
     "name": "stdout",
     "output_type": "stream",
     "text": [
      "Selected Response: 25yr\n",
      "Input sentence: 17yr old\n",
      "Most tag: ANS_INFO\n",
      "Most similar response: 17 yr\n",
      "similarity: tensor([[0.6220]])\n"
     ]
    },
    {
     "name": "stderr",
     "output_type": "stream",
     "text": [
      "127.0.0.1 - - [20/Dec/2023 16:38:06] \"POST / HTTP/1.1\" 200 -\n"
     ]
    },
    {
     "name": "stdout",
     "output_type": "stream",
     "text": [
      "Selected Response: 😊\n",
      "Input sentence: \n",
      "Most tag: BE_GOOD\n",
      "Most similar response: 😂\n",
      "similarity: tensor([[0.4952]])\n"
     ]
    },
    {
     "name": "stderr",
     "output_type": "stream",
     "text": [
      "127.0.0.1 - - [20/Dec/2023 16:38:08] \"POST / HTTP/1.1\" 200 -\n"
     ]
    },
    {
     "name": "stdout",
     "output_type": "stream",
     "text": [
      "Selected Response: I am from US\n",
      "Input sentence: I am 35yr old\n",
      "Most tag: ANS_INFO\n",
      "Most similar response: I am 17 yr old\n",
      "similarity: tensor([[0.6179]])\n"
     ]
    },
    {
     "name": "stderr",
     "output_type": "stream",
     "text": [
      "127.0.0.1 - - [20/Dec/2023 16:39:28] \"POST / HTTP/1.1\" 200 -\n"
     ]
    },
    {
     "name": "stdout",
     "output_type": "stream",
     "text": [
      "Selected Response: 🤗\n",
      "Input sentence: \n",
      "Most tag: BE_GOOD\n",
      "Most similar response: 😂\n",
      "similarity: tensor([[0.4952]])\n"
     ]
    },
    {
     "name": "stderr",
     "output_type": "stream",
     "text": [
      "127.0.0.1 - - [20/Dec/2023 16:39:31] \"POST / HTTP/1.1\" 200 -\n"
     ]
    },
    {
     "name": "stdout",
     "output_type": "stream",
     "text": [
      "Selected Response: roll in \n",
      "Input sentence: hi\n",
      "Most tag: APPROVE\n",
      "Most similar response: ok\n",
      "similarity: tensor([[0.5969]])\n"
     ]
    },
    {
     "name": "stderr",
     "output_type": "stream",
     "text": [
      "127.0.0.1 - - [20/Dec/2023 16:45:26] \"POST / HTTP/1.1\" 200 -\n"
     ]
    },
    {
     "name": "stdout",
     "output_type": "stream",
     "text": [
      "Selected Response: very well\n",
      "Input sentence: hi\n",
      "Most tag: REWARD\n",
      "Most similar response: very well\n",
      "similarity: tensor([[0.5522]])\n"
     ]
    },
    {
     "name": "stderr",
     "output_type": "stream",
     "text": [
      "127.0.0.1 - - [20/Dec/2023 16:45:29] \"POST / HTTP/1.1\" 200 -\n"
     ]
    },
    {
     "name": "stdout",
     "output_type": "stream",
     "text": [
      "Selected Response: no\n",
      "Input sentence: hi\n",
      "Most tag: APPROVE\n",
      "Most similar response: ok\n",
      "similarity: tensor([[0.5894]])\n"
     ]
    },
    {
     "name": "stderr",
     "output_type": "stream",
     "text": [
      "127.0.0.1 - - [20/Dec/2023 16:45:36] \"POST / HTTP/1.1\" 200 -\n"
     ]
    },
    {
     "name": "stdout",
     "output_type": "stream",
     "text": [
      "Selected Response: very well\n",
      "Input sentence: hi\n",
      "Most tag: REWARD\n",
      "Most similar response: very well\n",
      "similarity: tensor([[0.5522]])\n"
     ]
    },
    {
     "name": "stderr",
     "output_type": "stream",
     "text": [
      "127.0.0.1 - - [20/Dec/2023 16:45:39] \"POST / HTTP/1.1\" 200 -\n"
     ]
    },
    {
     "name": "stdout",
     "output_type": "stream",
     "text": [
      "Selected Response: hi~\n",
      "Input sentence: hi\n",
      "Most tag: CALL\n",
      "Most similar response: HI\n",
      "similarity: tensor([[0.7740]])\n"
     ]
    },
    {
     "name": "stderr",
     "output_type": "stream",
     "text": [
      "127.0.0.1 - - [20/Dec/2023 16:49:24] \"POST / HTTP/1.1\" 200 -\n"
     ]
    },
    {
     "name": "stdout",
     "output_type": "stream",
     "text": [
      "Selected Response: :)\n",
      "Input sentence: hi\n",
      "Most tag: CALL_BACK\n",
      "Most similar response: Hi\n",
      "similarity: tensor([[0.4643]])\n"
     ]
    },
    {
     "name": "stderr",
     "output_type": "stream",
     "text": [
      "127.0.0.1 - - [20/Dec/2023 16:49:26] \"POST / HTTP/1.1\" 200 -\n"
     ]
    },
    {
     "name": "stdout",
     "output_type": "stream",
     "text": [
      "Selected Response: 😊\n",
      "Input sentence: hi\n",
      "Most tag: BE_GOOD\n",
      "Most similar response: 😂\n",
      "similarity: tensor([[0.5746]])\n"
     ]
    },
    {
     "name": "stderr",
     "output_type": "stream",
     "text": [
      "127.0.0.1 - - [20/Dec/2023 16:49:27] \"POST / HTTP/1.1\" 200 -\n"
     ]
    },
    {
     "name": "stdout",
     "output_type": "stream",
     "text": [
      "Selected Response: hi~\n",
      "Input sentence: hi\n",
      "Most tag: CALL\n",
      "Most similar response: HI\n",
      "similarity: tensor([[0.7740]])\n"
     ]
    },
    {
     "name": "stderr",
     "output_type": "stream",
     "text": [
      "127.0.0.1 - - [20/Dec/2023 16:49:39] \"POST / HTTP/1.1\" 200 -\n"
     ]
    },
    {
     "name": "stdout",
     "output_type": "stream",
     "text": [
      "Selected Response: how old are u\n",
      "Input sentence: hi\n",
      "Most tag: ASK_INFO\n",
      "Most similar response: how old\n",
      "similarity: tensor([[0.4501]])\n"
     ]
    },
    {
     "name": "stderr",
     "output_type": "stream",
     "text": [
      "127.0.0.1 - - [20/Dec/2023 16:49:41] \"POST / HTTP/1.1\" 200 -\n"
     ]
    },
    {
     "name": "stdout",
     "output_type": "stream",
     "text": [
      "Selected Response: 😎\n",
      "Input sentence: hi\n",
      "Most tag: BE_GOOD\n",
      "Most similar response: 😂\n",
      "similarity: tensor([[0.6245]])\n"
     ]
    },
    {
     "name": "stderr",
     "output_type": "stream",
     "text": [
      "127.0.0.1 - - [20/Dec/2023 16:49:42] \"POST / HTTP/1.1\" 200 -\n"
     ]
    },
    {
     "name": "stdout",
     "output_type": "stream",
     "text": [
      "Selected Response: 36\n",
      "Input sentence: 18\n",
      "Most tag: ANS_INFO\n",
      "Most similar response: 36\n",
      "similarity: tensor([[0.6639]])\n"
     ]
    },
    {
     "name": "stderr",
     "output_type": "stream",
     "text": [
      "127.0.0.1 - - [20/Dec/2023 16:49:59] \"POST / HTTP/1.1\" 200 -\n"
     ]
    },
    {
     "name": "stdout",
     "output_type": "stream",
     "text": [
      "Selected Response: 😂\n",
      "Input sentence: \n",
      "Most tag: BE_GOOD\n",
      "Most similar response: 😂\n",
      "similarity: tensor([[0.5178]])\n"
     ]
    },
    {
     "name": "stderr",
     "output_type": "stream",
     "text": [
      "127.0.0.1 - - [20/Dec/2023 16:50:01] \"POST / HTTP/1.1\" 200 -\n"
     ]
    },
    {
     "name": "stdout",
     "output_type": "stream",
     "text": [
      "Selected Response: 早\n",
      "Input sentence: 18\n",
      "Most tag: ANS_INFO\n",
      "Most similar response: 36\n",
      "similarity: tensor([[0.5938]])\n"
     ]
    },
    {
     "name": "stderr",
     "output_type": "stream",
     "text": [
      "127.0.0.1 - - [20/Dec/2023 16:52:07] \"POST / HTTP/1.1\" 200 -\n"
     ]
    },
    {
     "name": "stdout",
     "output_type": "stream",
     "text": [
      "Selected Response: cool\n",
      "Input sentence: \n",
      "Most tag: BE_GOOD\n",
      "Most similar response: 😂\n",
      "similarity: tensor([[0.5042]])\n"
     ]
    },
    {
     "name": "stderr",
     "output_type": "stream",
     "text": [
      "127.0.0.1 - - [20/Dec/2023 16:52:09] \"POST / HTTP/1.1\" 200 -\n"
     ]
    },
    {
     "name": "stdout",
     "output_type": "stream",
     "text": [
      "Selected Response: 早\n",
      "Input sentence: 18\n",
      "Most tag: ANS_INFO\n",
      "Most similar response: 36\n",
      "similarity: tensor([[0.5938]])\n"
     ]
    },
    {
     "name": "stderr",
     "output_type": "stream",
     "text": [
      "127.0.0.1 - - [20/Dec/2023 16:52:12] \"POST / HTTP/1.1\" 200 -\n"
     ]
    },
    {
     "name": "stdout",
     "output_type": "stream",
     "text": [
      "Selected Response: 😊\n",
      "Input sentence: \n",
      "Most tag: BE_GOOD\n",
      "Most similar response: 😂\n",
      "similarity: tensor([[0.4952]])\n"
     ]
    },
    {
     "name": "stderr",
     "output_type": "stream",
     "text": [
      "127.0.0.1 - - [20/Dec/2023 16:52:14] \"POST / HTTP/1.1\" 200 -\n"
     ]
    },
    {
     "name": "stdout",
     "output_type": "stream",
     "text": [
      "Selected Response: 早\n",
      "Input sentence: 18\n",
      "Most tag: ANS_INFO\n",
      "Most similar response: 36\n",
      "similarity: tensor([[0.5938]])\n"
     ]
    },
    {
     "name": "stderr",
     "output_type": "stream",
     "text": [
      "127.0.0.1 - - [20/Dec/2023 16:52:28] \"POST / HTTP/1.1\" 200 -\n"
     ]
    },
    {
     "name": "stdout",
     "output_type": "stream",
     "text": [
      "Selected Response: 😂\n",
      "Input sentence: \n",
      "Most tag: BE_GOOD\n",
      "Most similar response: 😂\n",
      "similarity: tensor([[0.5178]])\n"
     ]
    },
    {
     "name": "stderr",
     "output_type": "stream",
     "text": [
      "127.0.0.1 - - [20/Dec/2023 16:52:30] \"POST / HTTP/1.1\" 200 -\n"
     ]
    },
    {
     "name": "stdout",
     "output_type": "stream",
     "text": [
      "Selected Response: 早\n",
      "Input sentence: 18\n",
      "Most tag: ANS_INFO\n",
      "Most similar response: 36\n",
      "similarity: tensor([[0.5938]])\n"
     ]
    },
    {
     "name": "stderr",
     "output_type": "stream",
     "text": [
      "127.0.0.1 - - [20/Dec/2023 16:52:34] \"POST / HTTP/1.1\" 200 -\n"
     ]
    },
    {
     "name": "stdout",
     "output_type": "stream",
     "text": [
      "Selected Response: 🤗\n",
      "Input sentence: \n",
      "Most tag: BE_GOOD\n",
      "Most similar response: 😂\n",
      "similarity: tensor([[0.4952]])\n"
     ]
    },
    {
     "name": "stderr",
     "output_type": "stream",
     "text": [
      "127.0.0.1 - - [20/Dec/2023 16:52:36] \"POST / HTTP/1.1\" 200 -\n"
     ]
    },
    {
     "name": "stdout",
     "output_type": "stream",
     "text": [
      "Selected Response: 36\n",
      "Input sentence: 18\n",
      "Most tag: ANS_INFO\n",
      "Most similar response: 36\n",
      "similarity: tensor([[0.6639]])\n"
     ]
    },
    {
     "name": "stderr",
     "output_type": "stream",
     "text": [
      "127.0.0.1 - - [20/Dec/2023 16:52:41] \"POST / HTTP/1.1\" 200 -\n"
     ]
    },
    {
     "name": "stdout",
     "output_type": "stream",
     "text": [
      "Selected Response: 😂\n",
      "Input sentence: \n",
      "Most tag: BE_GOOD\n",
      "Most similar response: 😂\n",
      "similarity: tensor([[0.5178]])\n"
     ]
    },
    {
     "name": "stderr",
     "output_type": "stream",
     "text": [
      "127.0.0.1 - - [20/Dec/2023 16:52:43] \"POST / HTTP/1.1\" 200 -\n"
     ]
    },
    {
     "name": "stdout",
     "output_type": "stream",
     "text": [
      "Selected Response: 17 yr\n",
      "Input sentence: 18\n",
      "Most tag: ANS_INFO\n",
      "Most similar response: 36\n",
      "similarity: tensor([[0.6022]])\n"
     ]
    },
    {
     "name": "stderr",
     "output_type": "stream",
     "text": [
      "127.0.0.1 - - [20/Dec/2023 16:52:46] \"POST / HTTP/1.1\" 200 -\n"
     ]
    },
    {
     "name": "stdout",
     "output_type": "stream",
     "text": [
      "Selected Response: 😊\n",
      "Input sentence: \n",
      "Most tag: BE_GOOD\n",
      "Most similar response: 😂\n",
      "similarity: tensor([[0.4952]])\n"
     ]
    },
    {
     "name": "stderr",
     "output_type": "stream",
     "text": [
      "127.0.0.1 - - [20/Dec/2023 16:52:49] \"POST / HTTP/1.1\" 200 -\n"
     ]
    },
    {
     "name": "stdout",
     "output_type": "stream",
     "text": [
      "Selected Response: 早\n",
      "Input sentence: 18\n",
      "Most tag: ANS_INFO\n",
      "Most similar response: 36\n",
      "similarity: tensor([[0.5938]])\n"
     ]
    },
    {
     "name": "stderr",
     "output_type": "stream",
     "text": [
      "127.0.0.1 - - [20/Dec/2023 16:52:52] \"POST / HTTP/1.1\" 200 -\n"
     ]
    },
    {
     "name": "stdout",
     "output_type": "stream",
     "text": [
      "Selected Response: 🤗\n",
      "Input sentence: \n",
      "Most tag: BE_GOOD\n",
      "Most similar response: 😂\n",
      "similarity: tensor([[0.4952]])\n"
     ]
    },
    {
     "name": "stderr",
     "output_type": "stream",
     "text": [
      "127.0.0.1 - - [20/Dec/2023 16:52:54] \"POST / HTTP/1.1\" 200 -\n"
     ]
    },
    {
     "name": "stdout",
     "output_type": "stream",
     "text": [
      "Selected Response: 17 yr\n",
      "Input sentence: 18\n",
      "Most tag: ANS_INFO\n",
      "Most similar response: 36\n",
      "similarity: tensor([[0.6022]])\n"
     ]
    },
    {
     "name": "stderr",
     "output_type": "stream",
     "text": [
      "127.0.0.1 - - [20/Dec/2023 16:52:58] \"POST / HTTP/1.1\" 200 -\n"
     ]
    },
    {
     "name": "stdout",
     "output_type": "stream",
     "text": [
      "Selected Response: 😊\n",
      "Input sentence: \n",
      "Most tag: BE_GOOD\n",
      "Most similar response: 😂\n",
      "similarity: tensor([[0.4952]])\n"
     ]
    },
    {
     "name": "stderr",
     "output_type": "stream",
     "text": [
      "127.0.0.1 - - [20/Dec/2023 16:53:01] \"POST / HTTP/1.1\" 200 -\n"
     ]
    },
    {
     "name": "stdout",
     "output_type": "stream",
     "text": [
      "Selected Response: 早\n",
      "Input sentence: 18\n",
      "Most tag: ANS_INFO\n",
      "Most similar response: 36\n",
      "similarity: tensor([[0.5938]])\n"
     ]
    },
    {
     "name": "stderr",
     "output_type": "stream",
     "text": [
      "127.0.0.1 - - [20/Dec/2023 16:53:04] \"POST / HTTP/1.1\" 200 -\n"
     ]
    },
    {
     "name": "stdout",
     "output_type": "stream",
     "text": [
      "Selected Response: cool\n",
      "Input sentence: \n",
      "Most tag: BE_GOOD\n",
      "Most similar response: 😂\n",
      "similarity: tensor([[0.5042]])\n"
     ]
    },
    {
     "name": "stderr",
     "output_type": "stream",
     "text": [
      "127.0.0.1 - - [20/Dec/2023 16:53:06] \"POST / HTTP/1.1\" 200 -\n"
     ]
    },
    {
     "name": "stdout",
     "output_type": "stream",
     "text": [
      "Selected Response: 早\n",
      "Input sentence: 18\n",
      "Most tag: ANS_INFO\n",
      "Most similar response: 36\n",
      "similarity: tensor([[0.5938]])\n"
     ]
    },
    {
     "name": "stderr",
     "output_type": "stream",
     "text": [
      "127.0.0.1 - - [20/Dec/2023 16:53:10] \"POST / HTTP/1.1\" 200 -\n"
     ]
    },
    {
     "name": "stdout",
     "output_type": "stream",
     "text": [
      "Selected Response: 🤗\n",
      "Input sentence: \n",
      "Most tag: BE_GOOD\n",
      "Most similar response: 😂\n",
      "similarity: tensor([[0.4952]])\n"
     ]
    },
    {
     "name": "stderr",
     "output_type": "stream",
     "text": [
      "127.0.0.1 - - [20/Dec/2023 16:53:13] \"POST / HTTP/1.1\" 200 -\n"
     ]
    },
    {
     "name": "stdout",
     "output_type": "stream",
     "text": [
      "Selected Response: 早\n",
      "Input sentence: 18\n",
      "Most tag: ANS_INFO\n",
      "Most similar response: 36\n",
      "similarity: tensor([[0.5938]])\n"
     ]
    },
    {
     "name": "stderr",
     "output_type": "stream",
     "text": [
      "127.0.0.1 - - [20/Dec/2023 16:53:17] \"POST / HTTP/1.1\" 200 -\n"
     ]
    },
    {
     "name": "stdout",
     "output_type": "stream",
     "text": [
      "Selected Response: 😊\n",
      "Input sentence: \n",
      "Most tag: BE_GOOD\n",
      "Most similar response: 😂\n",
      "similarity: tensor([[0.4952]])\n"
     ]
    },
    {
     "name": "stderr",
     "output_type": "stream",
     "text": [
      "127.0.0.1 - - [20/Dec/2023 16:53:19] \"POST / HTTP/1.1\" 200 -\n"
     ]
    },
    {
     "name": "stdout",
     "output_type": "stream",
     "text": [
      "Selected Response: 25yr\n",
      "Input sentence: 18\n",
      "Most tag: ANS_INFO\n",
      "Most similar response: 36\n",
      "similarity: tensor([[0.5475]])\n"
     ]
    },
    {
     "name": "stderr",
     "output_type": "stream",
     "text": [
      "127.0.0.1 - - [20/Dec/2023 16:53:24] \"POST / HTTP/1.1\" 200 -\n"
     ]
    },
    {
     "name": "stdout",
     "output_type": "stream",
     "text": [
      "Selected Response: cool\n",
      "Input sentence: \n",
      "Most tag: BE_GOOD\n",
      "Most similar response: 😂\n",
      "similarity: tensor([[0.5042]])\n"
     ]
    },
    {
     "name": "stderr",
     "output_type": "stream",
     "text": [
      "127.0.0.1 - - [20/Dec/2023 16:53:26] \"POST / HTTP/1.1\" 200 -\n"
     ]
    },
    {
     "name": "stdout",
     "output_type": "stream",
     "text": [
      "Selected Response: 25yr\n",
      "Input sentence: 18\n",
      "Most tag: ANS_INFO\n",
      "Most similar response: 36\n",
      "similarity: tensor([[0.5475]])\n"
     ]
    },
    {
     "name": "stderr",
     "output_type": "stream",
     "text": [
      "127.0.0.1 - - [20/Dec/2023 16:54:20] \"POST / HTTP/1.1\" 200 -\n"
     ]
    },
    {
     "name": "stdout",
     "output_type": "stream",
     "text": [
      "Selected Response: 😊\n",
      "Input sentence: \n",
      "Most tag: BE_GOOD\n",
      "Most similar response: 😂\n",
      "similarity: tensor([[0.4952]])\n"
     ]
    },
    {
     "name": "stderr",
     "output_type": "stream",
     "text": [
      "127.0.0.1 - - [20/Dec/2023 16:54:22] \"POST / HTTP/1.1\" 200 -\n"
     ]
    },
    {
     "name": "stdout",
     "output_type": "stream",
     "text": [
      "Selected Response: 25yr\n",
      "Input sentence: 18\n",
      "Most tag: ANS_INFO\n",
      "Most similar response: 36\n",
      "similarity: tensor([[0.5475]])\n"
     ]
    },
    {
     "name": "stderr",
     "output_type": "stream",
     "text": [
      "127.0.0.1 - - [20/Dec/2023 16:54:27] \"POST / HTTP/1.1\" 200 -\n"
     ]
    },
    {
     "name": "stdout",
     "output_type": "stream",
     "text": [
      "Selected Response: 😊\n",
      "Input sentence: \n",
      "Most tag: BE_GOOD\n",
      "Most similar response: 😂\n",
      "similarity: tensor([[0.4952]])\n"
     ]
    },
    {
     "name": "stderr",
     "output_type": "stream",
     "text": [
      "127.0.0.1 - - [20/Dec/2023 16:54:29] \"POST / HTTP/1.1\" 200 -\n"
     ]
    },
    {
     "name": "stdout",
     "output_type": "stream",
     "text": [
      "Selected Response: 17 yr\n",
      "Input sentence: 18\n",
      "Most tag: ANS_INFO\n",
      "Most similar response: 36\n",
      "similarity: tensor([[0.6022]])\n"
     ]
    },
    {
     "name": "stderr",
     "output_type": "stream",
     "text": [
      "127.0.0.1 - - [20/Dec/2023 16:54:33] \"POST / HTTP/1.1\" 200 -\n"
     ]
    },
    {
     "name": "stdout",
     "output_type": "stream",
     "text": [
      "Selected Response: 🤗\n",
      "Input sentence: \n",
      "Most tag: BE_GOOD\n",
      "Most similar response: 😂\n",
      "similarity: tensor([[0.4952]])\n"
     ]
    },
    {
     "name": "stderr",
     "output_type": "stream",
     "text": [
      "127.0.0.1 - - [20/Dec/2023 16:54:35] \"POST / HTTP/1.1\" 200 -\n"
     ]
    },
    {
     "name": "stdout",
     "output_type": "stream",
     "text": [
      "Selected Response: US\n",
      "Input sentence: 18\n",
      "Most tag: ANS_INFO\n",
      "Most similar response: 36\n",
      "similarity: tensor([[0.5319]])\n"
     ]
    },
    {
     "name": "stderr",
     "output_type": "stream",
     "text": [
      "127.0.0.1 - - [20/Dec/2023 16:54:39] \"POST / HTTP/1.1\" 200 -\n"
     ]
    },
    {
     "name": "stdout",
     "output_type": "stream",
     "text": [
      "Selected Response: 😂\n",
      "Input sentence: \n",
      "Most tag: BE_GOOD\n",
      "Most similar response: 😂\n",
      "similarity: tensor([[0.5178]])\n"
     ]
    },
    {
     "name": "stderr",
     "output_type": "stream",
     "text": [
      "127.0.0.1 - - [20/Dec/2023 16:54:42] \"POST / HTTP/1.1\" 200 -\n"
     ]
    },
    {
     "name": "stdout",
     "output_type": "stream",
     "text": [
      "Selected Response: 25yr\n",
      "Input sentence: 18\n",
      "Most tag: ANS_INFO\n",
      "Most similar response: 36\n",
      "similarity: tensor([[0.5475]])\n"
     ]
    },
    {
     "name": "stderr",
     "output_type": "stream",
     "text": [
      "127.0.0.1 - - [20/Dec/2023 16:55:25] \"POST / HTTP/1.1\" 200 -\n"
     ]
    },
    {
     "name": "stdout",
     "output_type": "stream",
     "text": [
      "Selected Response: 😊\n",
      "Input sentence: \n",
      "Most tag: BE_GOOD\n",
      "Most similar response: 😂\n",
      "similarity: tensor([[0.4952]])\n"
     ]
    },
    {
     "name": "stderr",
     "output_type": "stream",
     "text": [
      "127.0.0.1 - - [20/Dec/2023 16:55:28] \"POST / HTTP/1.1\" 200 -\n"
     ]
    },
    {
     "name": "stdout",
     "output_type": "stream",
     "text": [
      "Selected Response: 36\n",
      "Input sentence: 18\n",
      "Most tag: ANS_INFO\n",
      "Most similar response: 36\n",
      "similarity: tensor([[0.6639]])\n"
     ]
    },
    {
     "name": "stderr",
     "output_type": "stream",
     "text": [
      "127.0.0.1 - - [20/Dec/2023 16:55:32] \"POST / HTTP/1.1\" 200 -\n"
     ]
    },
    {
     "name": "stdout",
     "output_type": "stream",
     "text": [
      "Selected Response: 😊\n",
      "Input sentence: \n",
      "Most tag: BE_GOOD\n",
      "Most similar response: 😂\n",
      "similarity: tensor([[0.4952]])\n"
     ]
    },
    {
     "name": "stderr",
     "output_type": "stream",
     "text": [
      "127.0.0.1 - - [20/Dec/2023 16:55:34] \"POST / HTTP/1.1\" 200 -\n"
     ]
    },
    {
     "name": "stdout",
     "output_type": "stream",
     "text": [
      "Selected Response: 早\n",
      "Input sentence: 18\n",
      "Most tag: ANS_INFO\n",
      "Most similar response: 36\n",
      "similarity: tensor([[0.5938]])\n"
     ]
    },
    {
     "name": "stderr",
     "output_type": "stream",
     "text": [
      "127.0.0.1 - - [20/Dec/2023 16:55:38] \"POST / HTTP/1.1\" 200 -\n"
     ]
    },
    {
     "name": "stdout",
     "output_type": "stream",
     "text": [
      "Selected Response: 😊\n",
      "Input sentence: \n",
      "Most tag: BE_GOOD\n",
      "Most similar response: 😂\n",
      "similarity: tensor([[0.4952]])\n"
     ]
    },
    {
     "name": "stderr",
     "output_type": "stream",
     "text": [
      "127.0.0.1 - - [20/Dec/2023 16:55:40] \"POST / HTTP/1.1\" 200 -\n"
     ]
    },
    {
     "name": "stdout",
     "output_type": "stream",
     "text": [
      "Selected Response: US\n",
      "Input sentence: 18\n",
      "Most tag: ANS_INFO\n",
      "Most similar response: 36\n",
      "similarity: tensor([[0.5319]])\n"
     ]
    },
    {
     "name": "stderr",
     "output_type": "stream",
     "text": [
      "127.0.0.1 - - [20/Dec/2023 16:55:45] \"POST / HTTP/1.1\" 200 -\n"
     ]
    },
    {
     "name": "stdout",
     "output_type": "stream",
     "text": [
      "Selected Response: 😊\n",
      "Input sentence: \n",
      "Most tag: BE_GOOD\n",
      "Most similar response: 😂\n",
      "similarity: tensor([[0.4952]])\n"
     ]
    },
    {
     "name": "stderr",
     "output_type": "stream",
     "text": [
      "127.0.0.1 - - [20/Dec/2023 16:55:47] \"POST / HTTP/1.1\" 200 -\n"
     ]
    },
    {
     "name": "stdout",
     "output_type": "stream",
     "text": [
      "Selected Response: 36\n",
      "Input sentence: 18\n",
      "Most tag: ANS_INFO\n",
      "Most similar response: 36\n",
      "similarity: tensor([[0.6639]])\n"
     ]
    },
    {
     "name": "stderr",
     "output_type": "stream",
     "text": [
      "127.0.0.1 - - [20/Dec/2023 16:55:51] \"POST / HTTP/1.1\" 200 -\n"
     ]
    },
    {
     "name": "stdout",
     "output_type": "stream",
     "text": [
      "Selected Response: 😊\n",
      "Input sentence: \n",
      "Most tag: BE_GOOD\n",
      "Most similar response: 😂\n",
      "similarity: tensor([[0.4952]])\n"
     ]
    },
    {
     "name": "stderr",
     "output_type": "stream",
     "text": [
      "127.0.0.1 - - [20/Dec/2023 16:55:53] \"POST / HTTP/1.1\" 200 -\n"
     ]
    },
    {
     "name": "stdout",
     "output_type": "stream",
     "text": [
      "Selected Response: 早\n",
      "Input sentence: 18\n",
      "Most tag: ANS_INFO\n",
      "Most similar response: 36\n",
      "similarity: tensor([[0.5938]])\n"
     ]
    },
    {
     "name": "stderr",
     "output_type": "stream",
     "text": [
      "127.0.0.1 - - [20/Dec/2023 16:55:59] \"POST / HTTP/1.1\" 200 -\n"
     ]
    },
    {
     "name": "stdout",
     "output_type": "stream",
     "text": [
      "Selected Response: 😂\n",
      "Input sentence: \n",
      "Most tag: BE_GOOD\n",
      "Most similar response: 😂\n",
      "similarity: tensor([[0.5178]])\n"
     ]
    },
    {
     "name": "stderr",
     "output_type": "stream",
     "text": [
      "127.0.0.1 - - [20/Dec/2023 16:56:01] \"POST / HTTP/1.1\" 200 -\n"
     ]
    },
    {
     "name": "stdout",
     "output_type": "stream",
     "text": [
      "Selected Response: 早\n",
      "Input sentence: 18\n",
      "Most tag: ANS_INFO\n",
      "Most similar response: 36\n",
      "similarity: tensor([[0.5938]])\n"
     ]
    },
    {
     "name": "stderr",
     "output_type": "stream",
     "text": [
      "127.0.0.1 - - [20/Dec/2023 16:56:40] \"POST / HTTP/1.1\" 200 -\n"
     ]
    },
    {
     "name": "stdout",
     "output_type": "stream",
     "text": [
      "Selected Response: cool\n",
      "Input sentence: \n",
      "Most tag: BE_GOOD\n",
      "Most similar response: 😂\n",
      "similarity: tensor([[0.5042]])\n"
     ]
    },
    {
     "name": "stderr",
     "output_type": "stream",
     "text": [
      "127.0.0.1 - - [20/Dec/2023 16:56:42] \"POST / HTTP/1.1\" 200 -\n"
     ]
    },
    {
     "name": "stdout",
     "output_type": "stream",
     "text": [
      "Selected Response: US\n",
      "Input sentence: 18\n",
      "Most tag: ANS_INFO\n",
      "Most similar response: 36\n",
      "similarity: tensor([[0.5319]])\n"
     ]
    },
    {
     "name": "stderr",
     "output_type": "stream",
     "text": [
      "127.0.0.1 - - [20/Dec/2023 16:56:47] \"POST / HTTP/1.1\" 200 -\n"
     ]
    },
    {
     "name": "stdout",
     "output_type": "stream",
     "text": [
      "Selected Response: 😂\n",
      "Input sentence: \n",
      "Most tag: BE_GOOD\n",
      "Most similar response: 😂\n",
      "similarity: tensor([[0.5178]])\n"
     ]
    },
    {
     "name": "stderr",
     "output_type": "stream",
     "text": [
      "127.0.0.1 - - [20/Dec/2023 16:56:49] \"POST / HTTP/1.1\" 200 -\n"
     ]
    },
    {
     "name": "stdout",
     "output_type": "stream",
     "text": [
      "Selected Response: hi~\n",
      "Input sentence: hi\n",
      "Most tag: CALL\n",
      "Most similar response: HI\n",
      "similarity: tensor([[0.7740]])\n"
     ]
    },
    {
     "name": "stderr",
     "output_type": "stream",
     "text": [
      "127.0.0.1 - - [20/Dec/2023 16:57:05] \"POST / HTTP/1.1\" 200 -\n"
     ]
    },
    {
     "name": "stdout",
     "output_type": "stream",
     "text": [
      "Selected Response: XD\n",
      "Input sentence: hi\n",
      "Most tag: CALL_BACK\n",
      "Most similar response: Hi\n",
      "similarity: tensor([[0.5713]])\n"
     ]
    },
    {
     "name": "stderr",
     "output_type": "stream",
     "text": [
      "127.0.0.1 - - [20/Dec/2023 16:57:07] \"POST / HTTP/1.1\" 200 -\n"
     ]
    },
    {
     "name": "stdout",
     "output_type": "stream",
     "text": [
      "Selected Response: 😂\n",
      "Input sentence: hi\n",
      "Most tag: BE_GOOD\n",
      "Most similar response: 😂\n",
      "similarity: tensor([[0.6369]])\n"
     ]
    },
    {
     "name": "stderr",
     "output_type": "stream",
     "text": [
      "127.0.0.1 - - [20/Dec/2023 16:57:09] \"POST / HTTP/1.1\" 200 -\n"
     ]
    },
    {
     "name": "stdout",
     "output_type": "stream",
     "text": [
      "Selected Response: HI\n",
      "Input sentence: hi\n",
      "Most tag: CALL\n",
      "Most similar response: HI\n",
      "similarity: tensor([[1.]])\n"
     ]
    },
    {
     "name": "stderr",
     "output_type": "stream",
     "text": [
      "127.0.0.1 - - [20/Dec/2023 16:57:49] \"POST / HTTP/1.1\" 200 -\n"
     ]
    },
    {
     "name": "stdout",
     "output_type": "stream",
     "text": [
      "Selected Response: :)\n",
      "Input sentence: hi\n",
      "Most tag: CALL_BACK\n",
      "Most similar response: Hi\n",
      "similarity: tensor([[0.4643]])\n"
     ]
    },
    {
     "name": "stderr",
     "output_type": "stream",
     "text": [
      "127.0.0.1 - - [20/Dec/2023 16:57:51] \"POST / HTTP/1.1\" 200 -\n"
     ]
    },
    {
     "name": "stdout",
     "output_type": "stream",
     "text": [
      "Selected Response: 😂\n",
      "Input sentence: hi\n",
      "Most tag: BE_GOOD\n",
      "Most similar response: 😂\n",
      "similarity: tensor([[0.6369]])\n"
     ]
    },
    {
     "name": "stderr",
     "output_type": "stream",
     "text": [
      "127.0.0.1 - - [20/Dec/2023 16:57:52] \"POST / HTTP/1.1\" 200 -\n"
     ]
    },
    {
     "name": "stdout",
     "output_type": "stream",
     "text": [
      "Selected Response: hi!\n",
      "Input sentence: hi\n",
      "Most tag: CALL\n",
      "Most similar response: HI\n",
      "similarity: tensor([[0.7442]])\n"
     ]
    },
    {
     "name": "stderr",
     "output_type": "stream",
     "text": [
      "127.0.0.1 - - [20/Dec/2023 16:57:57] \"POST / HTTP/1.1\" 200 -\n"
     ]
    },
    {
     "name": "stdout",
     "output_type": "stream",
     "text": [
      "Selected Response: hi~\n",
      "Input sentence: hi\n",
      "Most tag: CALL\n",
      "Most similar response: HI\n",
      "similarity: tensor([[0.7740]])\n"
     ]
    },
    {
     "name": "stderr",
     "output_type": "stream",
     "text": [
      "127.0.0.1 - - [20/Dec/2023 16:58:03] \"POST / HTTP/1.1\" 200 -\n"
     ]
    },
    {
     "name": "stdout",
     "output_type": "stream",
     "text": [
      "Selected Response: how old\n",
      "Input sentence: hi\n",
      "Most tag: ASK_INFO\n",
      "Most similar response: how old\n",
      "similarity: tensor([[0.5219]])\n"
     ]
    },
    {
     "name": "stderr",
     "output_type": "stream",
     "text": [
      "127.0.0.1 - - [20/Dec/2023 16:58:05] \"POST / HTTP/1.1\" 200 -\n"
     ]
    },
    {
     "name": "stdout",
     "output_type": "stream",
     "text": [
      "Selected Response: 😊\n",
      "Input sentence: hi\n",
      "Most tag: BE_GOOD\n",
      "Most similar response: 😂\n",
      "similarity: tensor([[0.5746]])\n"
     ]
    },
    {
     "name": "stderr",
     "output_type": "stream",
     "text": [
      "127.0.0.1 - - [20/Dec/2023 16:58:06] \"POST / HTTP/1.1\" 200 -\n"
     ]
    },
    {
     "name": "stdout",
     "output_type": "stream",
     "text": [
      "Selected Response: hi~\n",
      "Input sentence: hi\n",
      "Most tag: CALL\n",
      "Most similar response: HI\n",
      "similarity: tensor([[0.7740]])\n"
     ]
    },
    {
     "name": "stderr",
     "output_type": "stream",
     "text": [
      "127.0.0.1 - - [20/Dec/2023 16:58:12] \"POST / HTTP/1.1\" 200 -\n"
     ]
    }
   ],
   "source": [
    "import random\n",
    "from http.server import BaseHTTPRequestHandler, HTTPServer\n",
    "from sentence_transformers import SentenceTransformer, util\n",
    "import mysql.connector\n",
    "import json\n",
    "import torch\n",
    "\n",
    "def connect_to_database():\n",
    "    connection = mysql.connector.connect(\n",
    "        host=\"localhost\",\n",
    "        user=\"root\",\n",
    "        password=\"3659215fF\",\n",
    "        database=\"handle_together\"\n",
    "    )\n",
    "    return connection\n",
    "\n",
    "def send_json_response(self, status_code, data):\n",
    "    # Convert status_code to integer\n",
    "    status_code = int(status_code)\n",
    "\n",
    "    # Set up the HTTP response\n",
    "    self.send_response(status_code)\n",
    "    self.send_header(\"Content-type\", \"application/json\")\n",
    "    self.end_headers()\n",
    "\n",
    "    # Convert the data to JSON\n",
    "    json_response = json.dumps(data)\n",
    "\n",
    "    # Send the JSON response\n",
    "    self.wfile.write(json_response.encode('utf-8'))\n",
    "\n",
    "class WebServerHandler(BaseHTTPRequestHandler):\n",
    "\n",
    "    def do_POST(self):       \n",
    "        # Read the content length from the request headers\n",
    "        content_length = int(self.headers['Content-Length'])\n",
    "\n",
    "        # Read the JSON data from the request body\n",
    "        post_data = self.rfile.read(content_length)\n",
    "        json_data_list = json.loads(post_data.decode('utf-8'))\n",
    "\n",
    "        if json_data_list:\n",
    "            json_data = json_data_list[0]\n",
    "            # Now json_data contains the parameters sent in the JSON format\n",
    "            tag_array = json_data.get('tag_array', [])\n",
    "            subject_array = json_data.get('subject_array', [])\n",
    "            object_array = json_data.get('object_array', [])\n",
    "            input_sentence = json_data.get('input_sentence', '')       \n",
    "            public_ind = json_data.get('public_ind', '')\n",
    "            command_ind = json_data.get('command_ind', '')\n",
    "\n",
    "        # Load the Sentence Transformer model\n",
    "        model = SentenceTransformer(\"shibing624/text2vec-base-chinese\")\n",
    "\n",
    "        # Fetch distinct subject codes from intent_type table\n",
    "        connection = connect_to_database()\n",
    "        cursor = connection.cursor()\n",
    "\n",
    "        # Use parameterized query to avoid SQL injection\n",
    "        # query = \"SELECT tag, content FROM intent_training_data WHERE tag IN ({}) AND subject IN ({})\".format(','.join(['%s' for _ in tag_array]), ','.join(['%s' for _ in subject_array]))\n",
    "        if tag_array and any(tag_array):\n",
    "            tag_condition = \"tag IN ({})\".format(','.join(['%s' for _ in tag_array]))\n",
    "        else:\n",
    "            tag_condition = \"1=1\"  # Always true if tag_array is empty or None\n",
    "            \n",
    "        if command_ind: \n",
    "            tag_condition2 = \"AND COMMAND_IND = '\"+command_ind+\"'\"\n",
    "        else:\n",
    "            tag_condition2 = \"\" \n",
    "        query = (\"SELECT tag, content FROM intent_training_data WHERE {} AND subject IN ({}) AND object IN ({}) AND PUBLIC_IND = '\"+public_ind+\"'\"+tag_condition2).format(tag_condition, ','.join(['%s' for _ in subject_array]) ,','.join(['%s' for _ in object_array]))\n",
    "        params = tag_array + subject_array + object_array\n",
    "        cursor.execute(query, params)\n",
    "        rows = cursor.fetchall()\n",
    "        candidate_responses_tags = [row[0] for row in rows]\n",
    "        candidate_responses = [row[1] for row in rows]\n",
    "        # for row in rows:\n",
    "        #     print(row)\n",
    "        # print(\"SQL Query:\", query)\n",
    "        # print(\"Parameters:\", params)\n",
    "        cursor.close()\n",
    "        connection.close()\n",
    "\n",
    "        # Encode input sentence and candidate responses\n",
    "        input_embedding = model.encode([input_sentence])\n",
    "        response_embedding = model.encode([candidate_responses])\n",
    "\n",
    "        response_embeddings = model.encode(candidate_responses)\n",
    "\n",
    "        # Calculate cosine similarity between input and responses\n",
    "        similarities = util.pytorch_cos_sim(input_embedding, response_embeddings)[0]\n",
    "        \n",
    "        most_similar_index = similarities.argmax().item()\n",
    "        top_n_indices = torch.argsort(similarities, descending=True)[:5]\n",
    "\n",
    "        # Randomly select 1 response from the top 5\n",
    "        selected_index = random.choice(top_n_indices)\n",
    "        selected_response_tag = candidate_responses_tags[selected_index]\n",
    "        selected_response = candidate_responses[selected_index]\n",
    "        selected_response_embedding= model.encode([selected_response])\n",
    "        similarity = util.pytorch_cos_sim(input_embedding, selected_response_embedding)\n",
    "\n",
    "        # Print the selected response\n",
    "        print(\"Selected Response:\", selected_response)\n",
    "        # Print the most similar response\n",
    "        print(\"Input sentence:\", input_sentence)\n",
    "        print(\"Most tag:\", candidate_responses_tags[most_similar_index])\n",
    "        print(\"Most similar response:\", candidate_responses[most_similar_index])\n",
    "        print(\"similarity:\",similarity)\n",
    "        result = {\n",
    "            \"input_sentence\": input_sentence,\n",
    "            \"tag\": candidate_responses_tags[most_similar_index],\n",
    "            \"content\": selected_response,\n",
    "            \"similarity\" : round(similarity.item(),5)\n",
    "        }\n",
    "        send_json_response(self, '200', result)\n",
    "\n",
    "if __name__ == '__main__':\n",
    "    try:\n",
    "        port = 8000\n",
    "        server = HTTPServer(('localhost', port), WebServerHandler)\n",
    "        server.max_body_length = 10 * 1024 * 1024  # set to 10 MB\n",
    "\n",
    "        print(f'Server running on port {port}')\n",
    "        \n",
    "        server.serve_forever()\n",
    "    except KeyboardInterrupt:\n",
    "        print('^C received, shutting down server')\n",
    "        server.socket.close()\n"
   ],
   "metadata": {
    "collapsed": false,
    "is_executing": true,
    "ExecuteTime": {
     "start_time": "2023-12-20T07:15:41.034235Z"
    }
   },
   "id": "f09ab4fc"
  },
  {
   "cell_type": "code",
   "execution_count": null,
   "outputs": [
    {
     "name": "stdout",
     "output_type": "stream",
     "text": [
      "Server running on port 8000\n"
     ]
    },
    {
     "data": {
      "text/plain": "Downloading .gitattributes:   0%|          | 0.00/690 [00:00<?, ?B/s]",
      "application/vnd.jupyter.widget-view+json": {
       "version_major": 2,
       "version_minor": 0,
       "model_id": "30b0dec96113462497155856e303a504"
      }
     },
     "metadata": {},
     "output_type": "display_data"
    },
    {
     "data": {
      "text/plain": "Downloading 1_Pooling/config.json:   0%|          | 0.00/190 [00:00<?, ?B/s]",
      "application/vnd.jupyter.widget-view+json": {
       "version_major": 2,
       "version_minor": 0,
       "model_id": "740ccfc92f6e459a8b5dc073b897df9b"
      }
     },
     "metadata": {},
     "output_type": "display_data"
    },
    {
     "data": {
      "text/plain": "Downloading README.md:   0%|          | 0.00/3.69k [00:00<?, ?B/s]",
      "application/vnd.jupyter.widget-view+json": {
       "version_major": 2,
       "version_minor": 0,
       "model_id": "486bc62c011b4ea79edb0afa2bd409ae"
      }
     },
     "metadata": {},
     "output_type": "display_data"
    },
    {
     "data": {
      "text/plain": "Downloading config.json:   0%|          | 0.00/629 [00:00<?, ?B/s]",
      "application/vnd.jupyter.widget-view+json": {
       "version_major": 2,
       "version_minor": 0,
       "model_id": "69c3d30a54044236b716be2986406a73"
      }
     },
     "metadata": {},
     "output_type": "display_data"
    },
    {
     "data": {
      "text/plain": "Downloading (…)ce_transformers.json:   0%|          | 0.00/122 [00:00<?, ?B/s]",
      "application/vnd.jupyter.widget-view+json": {
       "version_major": 2,
       "version_minor": 0,
       "model_id": "b4fd1ee9341243bf9b4478b54945c96d"
      }
     },
     "metadata": {},
     "output_type": "display_data"
    },
    {
     "data": {
      "text/plain": "Downloading pytorch_model.bin:   0%|          | 0.00/90.9M [00:00<?, ?B/s]",
      "application/vnd.jupyter.widget-view+json": {
       "version_major": 2,
       "version_minor": 0,
       "model_id": "94511ffc8a524dc5905e96353cb0a2e4"
      }
     },
     "metadata": {},
     "output_type": "display_data"
    },
    {
     "data": {
      "text/plain": "Downloading (…)nce_bert_config.json:   0%|          | 0.00/53.0 [00:00<?, ?B/s]",
      "application/vnd.jupyter.widget-view+json": {
       "version_major": 2,
       "version_minor": 0,
       "model_id": "b56bb0eefa1d472ebe5759b4e68a5ca2"
      }
     },
     "metadata": {},
     "output_type": "display_data"
    },
    {
     "data": {
      "text/plain": "Downloading (…)cial_tokens_map.json:   0%|          | 0.00/112 [00:00<?, ?B/s]",
      "application/vnd.jupyter.widget-view+json": {
       "version_major": 2,
       "version_minor": 0,
       "model_id": "1f2973a761f84fb989c7a39a4d4693b5"
      }
     },
     "metadata": {},
     "output_type": "display_data"
    },
    {
     "data": {
      "text/plain": "Downloading tokenizer.json:   0%|          | 0.00/466k [00:00<?, ?B/s]",
      "application/vnd.jupyter.widget-view+json": {
       "version_major": 2,
       "version_minor": 0,
       "model_id": "25d1ab6a13ce45d087853e4d4961c1b2"
      }
     },
     "metadata": {},
     "output_type": "display_data"
    },
    {
     "data": {
      "text/plain": "Downloading tokenizer_config.json:   0%|          | 0.00/314 [00:00<?, ?B/s]",
      "application/vnd.jupyter.widget-view+json": {
       "version_major": 2,
       "version_minor": 0,
       "model_id": "5076306639d84df5bcd5448ac012a3ae"
      }
     },
     "metadata": {},
     "output_type": "display_data"
    },
    {
     "data": {
      "text/plain": "Downloading vocab.txt:   0%|          | 0.00/232k [00:00<?, ?B/s]",
      "application/vnd.jupyter.widget-view+json": {
       "version_major": 2,
       "version_minor": 0,
       "model_id": "efd9ccb597cf4a348279532190018cc0"
      }
     },
     "metadata": {},
     "output_type": "display_data"
    },
    {
     "data": {
      "text/plain": "Downloading modules.json:   0%|          | 0.00/229 [00:00<?, ?B/s]",
      "application/vnd.jupyter.widget-view+json": {
       "version_major": 2,
       "version_minor": 0,
       "model_id": "d4ed4dcd1a034433beee0192baf7e527"
      }
     },
     "metadata": {},
     "output_type": "display_data"
    },
    {
     "name": "stdout",
     "output_type": "stream",
     "text": [
      "Selected Response: Come on\n",
      "Input sentence: let's kick and market\n",
      "Most tag: PUSH\n",
      "Most similar response: Come on\n",
      "subject response: HOST\n",
      "similarity: tensor([[0.4379]])\n"
     ]
    },
    {
     "name": "stderr",
     "output_type": "stream",
     "text": [
      "127.0.0.1 - - [27/Dec/2023 10:48:45] \"POST / HTTP/1.1\" 200 -\n"
     ]
    },
    {
     "name": "stdout",
     "output_type": "stream",
     "text": [
      "Selected Response: Yes, indeed!\n",
      "\n",
      "\n",
      "Input sentence: let's kick and market\n",
      "Most tag: APPROVE\n",
      "Most similar response: You bet!\n",
      "\n",
      "subject response: BOT_CARTOON\n",
      "similarity: tensor([[0.1606]])\n"
     ]
    },
    {
     "name": "stderr",
     "output_type": "stream",
     "text": [
      "127.0.0.1 - - [27/Dec/2023 10:48:46] \"POST / HTTP/1.1\" 200 -\n"
     ]
    },
    {
     "name": "stdout",
     "output_type": "stream",
     "text": [
      "Selected Response: 😊\n",
      "Input sentence: let's kick and market\n",
      "Most tag: BE_GOOD\n",
      "Most similar response: \n",
      "🐾\n",
      "subject response: BOT_CARTOON\n",
      "similarity: tensor([[0.1838]])\n"
     ]
    },
    {
     "name": "stderr",
     "output_type": "stream",
     "text": [
      "127.0.0.1 - - [27/Dec/2023 10:48:47] \"POST / HTTP/1.1\" 200 -\n"
     ]
    },
    {
     "name": "stdout",
     "output_type": "stream",
     "text": [
      "Selected Response: Shall we\n",
      "Input sentence: yeah man\n",
      "Most tag: APPROVE\n",
      "Most similar response: Yes\n",
      "subject response: HOST\n",
      "similarity: tensor([[0.4118]])\n"
     ]
    },
    {
     "name": "stderr",
     "output_type": "stream",
     "text": [
      "127.0.0.1 - - [27/Dec/2023 10:51:26] \"POST / HTTP/1.1\" 200 -\n"
     ]
    },
    {
     "name": "stdout",
     "output_type": "stream",
     "text": [
      "Selected Response: Fantastic\n",
      "Input sentence: yeah man\n",
      "Most tag: REWARD\n",
      "Most similar response: Well done.\n",
      "\n",
      "subject response: BOT_CARTOON\n",
      "similarity: tensor([[0.3098]])\n"
     ]
    },
    {
     "name": "stderr",
     "output_type": "stream",
     "text": [
      "127.0.0.1 - - [27/Dec/2023 10:51:27] \"POST / HTTP/1.1\" 200 -\n"
     ]
    },
    {
     "name": "stdout",
     "output_type": "stream",
     "text": [
      "Selected Response: hi!\n",
      "Input sentence: yo man\n",
      "Most tag: CALL\n",
      "Most similar response: HI\n",
      "subject response: HOST\n",
      "similarity: tensor([[0.4116]])\n"
     ]
    },
    {
     "name": "stderr",
     "output_type": "stream",
     "text": [
      "127.0.0.1 - - [27/Dec/2023 10:53:11] \"POST / HTTP/1.1\" 200 -\n"
     ]
    },
    {
     "name": "stdout",
     "output_type": "stream",
     "text": [
      "Selected Response: Yo man\n",
      "Input sentence: yo man\n",
      "Most tag: CALL_BACK\n",
      "Most similar response: Yo man\n",
      "subject response: HOST\n",
      "similarity: tensor([[1.]])\n"
     ]
    },
    {
     "name": "stderr",
     "output_type": "stream",
     "text": [
      "127.0.0.1 - - [27/Dec/2023 10:54:43] \"POST / HTTP/1.1\" 200 -\n"
     ]
    },
    {
     "name": "stdout",
     "output_type": "stream",
     "text": [
      "Selected Response: Let's get the party started!\n",
      "\n",
      "Input sentence: yo man\n",
      "Most tag: ASK_TO_PLAY\n",
      "Most similar response: Time to begin the fun!\n",
      "\n",
      "subject response: BOT_CARTOON\n",
      "similarity: tensor([[0.1243]])\n"
     ]
    },
    {
     "name": "stderr",
     "output_type": "stream",
     "text": [
      "127.0.0.1 - - [27/Dec/2023 10:54:45] \"POST / HTTP/1.1\" 200 -\n"
     ]
    },
    {
     "name": "stdout",
     "output_type": "stream",
     "text": [
      "Selected Response: HI\n",
      "Input sentence: yo man\n",
      "Most tag: CALL_BACK\n",
      "Most similar response: Yo man\n",
      "subject response: HOST\n",
      "similarity: tensor([[0.4838]])\n"
     ]
    },
    {
     "name": "stderr",
     "output_type": "stream",
     "text": [
      "127.0.0.1 - - [27/Dec/2023 10:55:10] \"POST / HTTP/1.1\" 200 -\n"
     ]
    },
    {
     "name": "stdout",
     "output_type": "stream",
     "text": [
      "Selected Response: What's your go-to snack during these streams, dude?\n",
      "Input sentence: yo man\n",
      "Most tag: ASK_INFO\n",
      "Most similar response: Yo, host! Where you from, man? Represent!\n",
      "subject response: BOT_STREET_BOY\n",
      "similarity: tensor([[0.2477]])\n"
     ]
    },
    {
     "name": "stderr",
     "output_type": "stream",
     "text": [
      "127.0.0.1 - - [27/Dec/2023 10:55:12] \"POST / HTTP/1.1\" 200 -\n"
     ]
    }
   ],
   "source": [
    "import random\n",
    "from http.server import BaseHTTPRequestHandler, HTTPServer\n",
    "from sentence_transformers import SentenceTransformer, util\n",
    "import mysql.connector\n",
    "import json\n",
    "import torch\n",
    "\n",
    "def connect_to_database():\n",
    "    connection = mysql.connector.connect(\n",
    "        host=\"localhost\",\n",
    "        user=\"root\",\n",
    "        password=\"3659215fF\",\n",
    "        database=\"handle_together\"\n",
    "    )\n",
    "    return connection\n",
    "\n",
    "def send_json_response(self, status_code, data):\n",
    "    # Convert status_code to integer\n",
    "    status_code = int(status_code)\n",
    "\n",
    "    # Set up the HTTP response\n",
    "    self.send_response(status_code)\n",
    "    self.send_header(\"Content-type\", \"application/json\")\n",
    "    self.end_headers()\n",
    "\n",
    "    # Convert the data to JSON\n",
    "    json_response = json.dumps(data)\n",
    "\n",
    "    # Send the JSON response\n",
    "    self.wfile.write(json_response.encode('utf-8'))\n",
    "\n",
    "class WebServerHandler(BaseHTTPRequestHandler):\n",
    "\n",
    "    def do_POST(self):       \n",
    "        # Read the content length from the request headers\n",
    "        content_length = int(self.headers['Content-Length'])\n",
    "\n",
    "        # Read the JSON data from the request body\n",
    "        post_data = self.rfile.read(content_length)\n",
    "        json_data_list = json.loads(post_data.decode('utf-8'))\n",
    "\n",
    "        if json_data_list:\n",
    "            json_data = json_data_list[0]\n",
    "            # Now json_data contains the parameters sent in the JSON format\n",
    "            tag_array = json_data.get('tag_array', [])\n",
    "            subject_array = json_data.get('subject_array', [])\n",
    "            object_array = json_data.get('object_array', [])\n",
    "            input_sentence = json_data.get('input_sentence', '')       \n",
    "            public_ind = json_data.get('public_ind', '')\n",
    "            command_ind = json_data.get('command_ind', '')\n",
    "\n",
    "        # Load the Sentence Transformer model\n",
    "        # model = SentenceTransformer(\"shibing624/text2vec-base-chinese\")\n",
    "        model = SentenceTransformer(\"paraphrase-MiniLM-L6-v2\")\n",
    "\n",
    "        # Fetch distinct subject codes from intent_type table\n",
    "        connection = connect_to_database()\n",
    "        cursor = connection.cursor()\n",
    "\n",
    "        # Use parameterized query to avoid SQL injection\n",
    "        # query = \"SELECT tag, content FROM intent_training_data WHERE tag IN ({}) AND subject IN ({})\".format(','.join(['%s' for  in tag_array]), ','.join(['%s' for  in subject_array]))\n",
    "        if tag_array and any(tag_array):\n",
    "            tag_condition = \"tag IN ({})\".format(','.join(['%s' for _ in tag_array]))\n",
    "        else:\n",
    "            tag_condition = \"1=1\"  # Always true if tag_array is empty or None\n",
    "            \n",
    "        if command_ind: \n",
    "            tag_condition2 = \"AND COMMAND_IND = '\"+command_ind+\"'\"\n",
    "        else:\n",
    "            tag_condition2 = \"\" \n",
    "        \n",
    "        query = (\"SELECT tag, content, subject FROM intent_training_data WHERE {} AND subject IN ({}) AND object IN ({}) AND PUBLIC_IND = '\"+public_ind+\"'\"+tag_condition2).format(tag_condition, ','.join(['%s' for _ in subject_array]) ,','.join(['%s' for _ in object_array]))\n",
    "        params = tag_array + subject_array + object_array\n",
    "        cursor.execute(query, params)\n",
    "        rows = cursor.fetchall()\n",
    "        candidate_responses_tags = [row[0] for row in rows]\n",
    "        candidate_responses = [row[1] for row in rows]\n",
    "        candidate_responses_subject = [row[2] for row in rows]\n",
    "        # for row in rows:\n",
    "        #     print(row)\n",
    "        # print(\"SQL Query:\", query)\n",
    "        # print(\"Parameters:\", params)\n",
    "        cursor.close()\n",
    "        connection.close()\n",
    "\n",
    "        # Encode input sentence and candidate responses\n",
    "        input_embedding = model.encode([input_sentence])\n",
    "        # response_embedding = model.encode([candidate_responses])\n",
    "\n",
    "        response_embeddings = model.encode(candidate_responses)\n",
    "\n",
    "        # Calculate cosine similarity between input and responses\n",
    "        similarities = util.pytorch_cos_sim(input_embedding, response_embeddings)[0]\n",
    "        \n",
    "        most_similar_index = similarities.argmax().item()\n",
    "        top_n_indices = torch.argsort(similarities, descending=True)[:5]\n",
    "\n",
    "        # Randomly select 1 response from the top 5\n",
    "        selected_index = random.choice(top_n_indices)\n",
    "        selected_response_tag = candidate_responses_tags[selected_index]\n",
    "        selected_response = candidate_responses[selected_index]\n",
    "        selected_response_embedding= model.encode([selected_response])\n",
    "        similarity = util.pytorch_cos_sim(input_embedding, selected_response_embedding)\n",
    "\n",
    "        # Print the selected response\n",
    "        print(\"Selected Response:\", selected_response)\n",
    "        # Print the most similar response\n",
    "        print(\"Input sentence:\", input_sentence)\n",
    "        print(\"Most tag:\", candidate_responses_tags[most_similar_index])\n",
    "        print(\"Most similar response:\", candidate_responses[most_similar_index])\n",
    "        print(\"subject response:\", candidate_responses_subject[most_similar_index])\n",
    "        \n",
    "        print(\"similarity:\",similarity)\n",
    "        result = {\n",
    "            \"input_sentence\": input_sentence,\n",
    "            \"tag\": candidate_responses_tags[most_similar_index],\n",
    "            \"content\": selected_response,\n",
    "            \"similarity\" : round(similarity.item(),5),\n",
    "            \"subject\" : candidate_responses_subject[most_similar_index]\n",
    "        }\n",
    "        send_json_response(self, '200', result)\n",
    "\n",
    "if __name__ == '__main__':\n",
    "    try:\n",
    "        port = 8000\n",
    "        server = HTTPServer(('localhost', port), WebServerHandler)\n",
    "        server.max_body_length = 10 * 1024 * 1024  # set to 10 MB\n",
    "\n",
    "        print(f'Server running on port {port}')\n",
    "        \n",
    "        server.serve_forever()\n",
    "    except KeyboardInterrupt:\n",
    "        print('^C received, shutting down server')\n",
    "        server.socket.close()"
   ],
   "metadata": {
    "collapsed": false,
    "is_executing": true,
    "ExecuteTime": {
     "start_time": "2023-12-27T02:48:11.649369Z"
    }
   },
   "id": "a919bc16ba1fd336"
  },
  {
   "cell_type": "code",
   "execution_count": 26,
   "outputs": [
    {
     "name": "stdout",
     "output_type": "stream",
     "text": [
      "[]\n"
     ]
    }
   ],
   "source": [
    "import spacy\n",
    "\n",
    "def extract_location_with_spacy(text):\n",
    "    nlp = spacy.load(\"en_core_web_sm\")\n",
    "    doc = nlp(text)\n",
    "\n",
    "    # Extract locations from the spaCy document\n",
    "    locations = [ent.text for ent in doc.ents if ent.label_ == \"ORG\"]\n",
    "\n",
    "    return locations\n",
    "\n",
    "text = \"I work in Kooppi , this is my favorite city.\"\n",
    "result = extract_location_with_spacy(text)\n",
    "print(result)\n"
   ],
   "metadata": {
    "collapsed": false,
    "ExecuteTime": {
     "end_time": "2023-12-26T07:25:52.563058Z",
     "start_time": "2023-12-26T07:25:51.113140Z"
    }
   },
   "id": "3ff4c86fac23bdc5"
  },
  {
   "cell_type": "code",
   "execution_count": null,
   "outputs": [],
   "source": [],
   "metadata": {
    "collapsed": false
   },
   "id": "9f453f6d61c1c857"
  }
 ],
 "metadata": {
  "kernelspec": {
   "display_name": "Python 3 (ipykernel)",
   "language": "python",
   "name": "python3"
  },
  "language_info": {
   "codemirror_mode": {
    "name": "ipython",
    "version": 3
   },
   "file_extension": ".py",
   "mimetype": "text/x-python",
   "name": "python",
   "nbconvert_exporter": "python",
   "pygments_lexer": "ipython3",
   "version": "3.10.9"
  }
 },
 "nbformat": 4,
 "nbformat_minor": 5
}
