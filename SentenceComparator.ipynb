{
 "cells": [
  {
   "cell_type": "code",
   "execution_count": 32,
   "id": "18f75d4be9068c53",
   "metadata": {
    "ExecuteTime": {
     "end_time": "2024-04-17T03:21:18.308742Z",
     "start_time": "2024-04-17T03:21:07.155647Z"
    }
   },
   "outputs": [
    {
     "name": "stdout",
     "output_type": "stream",
     "text": [
      "Requirement already satisfied: sentence-transformers in /Users/johnny/anaconda3/lib/python3.10/site-packages (2.6.1)\r\n",
      "Requirement already satisfied: transformers<5.0.0,>=4.32.0 in /Users/johnny/anaconda3/lib/python3.10/site-packages (from sentence-transformers) (4.39.3)\r\n",
      "Requirement already satisfied: tqdm in /Users/johnny/anaconda3/lib/python3.10/site-packages (from sentence-transformers) (4.64.1)\r\n",
      "Requirement already satisfied: torch>=1.11.0 in /Users/johnny/anaconda3/lib/python3.10/site-packages (from sentence-transformers) (2.2.2)\r\n",
      "Requirement already satisfied: numpy in /Users/johnny/anaconda3/lib/python3.10/site-packages (from sentence-transformers) (1.23.5)\r\n",
      "Requirement already satisfied: scikit-learn in /Users/johnny/anaconda3/lib/python3.10/site-packages (from sentence-transformers) (1.2.2)\r\n",
      "Requirement already satisfied: scipy in /Users/johnny/anaconda3/lib/python3.10/site-packages (from sentence-transformers) (1.10.0)\r\n",
      "Requirement already satisfied: huggingface-hub>=0.15.1 in /Users/johnny/anaconda3/lib/python3.10/site-packages (from sentence-transformers) (0.22.2)\r\n",
      "Requirement already satisfied: Pillow in /Users/johnny/anaconda3/lib/python3.10/site-packages (from sentence-transformers) (9.4.0)\r\n",
      "Requirement already satisfied: filelock in /Users/johnny/anaconda3/lib/python3.10/site-packages (from huggingface-hub>=0.15.1->sentence-transformers) (3.9.0)\r\n",
      "Requirement already satisfied: fsspec>=2023.5.0 in /Users/johnny/anaconda3/lib/python3.10/site-packages (from huggingface-hub>=0.15.1->sentence-transformers) (2023.10.0)\r\n",
      "Requirement already satisfied: packaging>=20.9 in /Users/johnny/anaconda3/lib/python3.10/site-packages (from huggingface-hub>=0.15.1->sentence-transformers) (22.0)\r\n",
      "Requirement already satisfied: pyyaml>=5.1 in /Users/johnny/anaconda3/lib/python3.10/site-packages (from huggingface-hub>=0.15.1->sentence-transformers) (6.0)\r\n",
      "Requirement already satisfied: requests in /Users/johnny/anaconda3/lib/python3.10/site-packages (from huggingface-hub>=0.15.1->sentence-transformers) (2.28.1)\r\n",
      "Requirement already satisfied: typing-extensions>=3.7.4.3 in /Users/johnny/anaconda3/lib/python3.10/site-packages (from huggingface-hub>=0.15.1->sentence-transformers) (4.9.0)\r\n",
      "Requirement already satisfied: sympy in /Users/johnny/anaconda3/lib/python3.10/site-packages (from torch>=1.11.0->sentence-transformers) (1.11.1)\r\n",
      "Requirement already satisfied: networkx in /Users/johnny/anaconda3/lib/python3.10/site-packages (from torch>=1.11.0->sentence-transformers) (2.8.4)\r\n",
      "Requirement already satisfied: jinja2 in /Users/johnny/anaconda3/lib/python3.10/site-packages (from torch>=1.11.0->sentence-transformers) (3.1.2)\r\n",
      "Requirement already satisfied: regex!=2019.12.17 in /Users/johnny/anaconda3/lib/python3.10/site-packages (from transformers<5.0.0,>=4.32.0->sentence-transformers) (2022.7.9)\r\n",
      "Requirement already satisfied: tokenizers<0.19,>=0.14 in /Users/johnny/anaconda3/lib/python3.10/site-packages (from transformers<5.0.0,>=4.32.0->sentence-transformers) (0.15.2)\r\n",
      "Requirement already satisfied: safetensors>=0.4.1 in /Users/johnny/anaconda3/lib/python3.10/site-packages (from transformers<5.0.0,>=4.32.0->sentence-transformers) (0.4.3)\r\n",
      "Requirement already satisfied: joblib>=1.1.1 in /Users/johnny/anaconda3/lib/python3.10/site-packages (from scikit-learn->sentence-transformers) (1.1.1)\r\n",
      "Requirement already satisfied: threadpoolctl>=2.0.0 in /Users/johnny/anaconda3/lib/python3.10/site-packages (from scikit-learn->sentence-transformers) (2.2.0)\r\n",
      "Requirement already satisfied: MarkupSafe>=2.0 in /Users/johnny/anaconda3/lib/python3.10/site-packages (from jinja2->torch>=1.11.0->sentence-transformers) (2.1.1)\r\n",
      "Requirement already satisfied: charset-normalizer<3,>=2 in /Users/johnny/anaconda3/lib/python3.10/site-packages (from requests->huggingface-hub>=0.15.1->sentence-transformers) (2.0.4)\r\n",
      "Requirement already satisfied: idna<4,>=2.5 in /Users/johnny/anaconda3/lib/python3.10/site-packages (from requests->huggingface-hub>=0.15.1->sentence-transformers) (3.4)\r\n",
      "Requirement already satisfied: urllib3<1.27,>=1.21.1 in /Users/johnny/anaconda3/lib/python3.10/site-packages (from requests->huggingface-hub>=0.15.1->sentence-transformers) (1.26.14)\r\n",
      "Requirement already satisfied: certifi>=2017.4.17 in /Users/johnny/anaconda3/lib/python3.10/site-packages (from requests->huggingface-hub>=0.15.1->sentence-transformers) (2022.12.7)\r\n",
      "Requirement already satisfied: mpmath>=0.19 in /Users/johnny/anaconda3/lib/python3.10/site-packages/mpmath-1.2.1-py3.10.egg (from sympy->torch>=1.11.0->sentence-transformers) (1.2.1)\r\n",
      "Note: you may need to restart the kernel to use updated packages.\n"
     ]
    }
   ],
   "source": [
    "pip install sentence-transformers"
   ]
  },
  {
   "cell_type": "code",
   "execution_count": 3,
   "id": "07789a34",
   "metadata": {},
   "outputs": [
    {
     "name": "stderr",
     "output_type": "stream",
     "text": [
      "huggingface/tokenizers: The current process just got forked, after parallelism has already been used. Disabling parallelism to avoid deadlocks...\n",
      "To disable this warning, you can either:\n",
      "\t- Avoid using `tokenizers` before the fork if possible\n",
      "\t- Explicitly set the environment variable TOKENIZERS_PARALLELISM=(true | false)\n"
     ]
    },
    {
     "name": "stdout",
     "output_type": "stream",
     "text": [
      "Collecting sentence-transformers==1.2.0\n",
      "  Downloading sentence-transformers-1.2.0.tar.gz (81 kB)\n",
      "\u001b[2K     \u001b[90m━━━━━━━━━━━━━━━━━━━━━━━━━━━━━━━━━━━━━━━\u001b[0m \u001b[32m81.4/81.4 kB\u001b[0m \u001b[31m440.0 kB/s\u001b[0m eta \u001b[36m0:00:00\u001b[0ma \u001b[36m0:00:01\u001b[0m\n",
      "\u001b[?25h  Preparing metadata (setup.py) ... \u001b[?25ldone\n",
      "\u001b[?25hRequirement already satisfied: transformers<5.0.0,>=3.1.0 in /Users/johnny/anaconda3/lib/python3.10/site-packages (from sentence-transformers==1.2.0) (4.39.3)\n",
      "Requirement already satisfied: tqdm in /Users/johnny/anaconda3/lib/python3.10/site-packages (from sentence-transformers==1.2.0) (4.64.1)\n",
      "Requirement already satisfied: torch>=1.6.0 in /Users/johnny/anaconda3/lib/python3.10/site-packages (from sentence-transformers==1.2.0) (2.1.0)\n",
      "Requirement already satisfied: torchvision in /Users/johnny/anaconda3/lib/python3.10/site-packages (from sentence-transformers==1.2.0) (0.16.0)\n",
      "Requirement already satisfied: numpy in /Users/johnny/anaconda3/lib/python3.10/site-packages (from sentence-transformers==1.2.0) (1.23.5)\n",
      "Requirement already satisfied: scikit-learn in /Users/johnny/anaconda3/lib/python3.10/site-packages (from sentence-transformers==1.2.0) (1.2.2)\n",
      "Requirement already satisfied: scipy in /Users/johnny/anaconda3/lib/python3.10/site-packages (from sentence-transformers==1.2.0) (1.10.0)\n",
      "Requirement already satisfied: nltk in /Users/johnny/anaconda3/lib/python3.10/site-packages (from sentence-transformers==1.2.0) (3.7)\n",
      "Requirement already satisfied: sentencepiece in /Users/johnny/anaconda3/lib/python3.10/site-packages (from sentence-transformers==1.2.0) (0.1.99)\n",
      "Requirement already satisfied: filelock in /Users/johnny/anaconda3/lib/python3.10/site-packages (from torch>=1.6.0->sentence-transformers==1.2.0) (3.9.0)\n",
      "Requirement already satisfied: typing-extensions in /Users/johnny/anaconda3/lib/python3.10/site-packages (from torch>=1.6.0->sentence-transformers==1.2.0) (4.9.0)\n",
      "Requirement already satisfied: sympy in /Users/johnny/anaconda3/lib/python3.10/site-packages (from torch>=1.6.0->sentence-transformers==1.2.0) (1.11.1)\n",
      "Requirement already satisfied: networkx in /Users/johnny/anaconda3/lib/python3.10/site-packages (from torch>=1.6.0->sentence-transformers==1.2.0) (2.8.4)\n",
      "Requirement already satisfied: jinja2 in /Users/johnny/anaconda3/lib/python3.10/site-packages (from torch>=1.6.0->sentence-transformers==1.2.0) (3.1.2)\n",
      "Requirement already satisfied: fsspec in /Users/johnny/anaconda3/lib/python3.10/site-packages (from torch>=1.6.0->sentence-transformers==1.2.0) (2023.10.0)\n",
      "Requirement already satisfied: huggingface-hub<1.0,>=0.19.3 in /Users/johnny/anaconda3/lib/python3.10/site-packages (from transformers<5.0.0,>=3.1.0->sentence-transformers==1.2.0) (0.22.2)\n",
      "Requirement already satisfied: packaging>=20.0 in /Users/johnny/anaconda3/lib/python3.10/site-packages (from transformers<5.0.0,>=3.1.0->sentence-transformers==1.2.0) (22.0)\n",
      "Requirement already satisfied: pyyaml>=5.1 in /Users/johnny/anaconda3/lib/python3.10/site-packages (from transformers<5.0.0,>=3.1.0->sentence-transformers==1.2.0) (6.0)\n",
      "Requirement already satisfied: regex!=2019.12.17 in /Users/johnny/anaconda3/lib/python3.10/site-packages (from transformers<5.0.0,>=3.1.0->sentence-transformers==1.2.0) (2022.7.9)\n",
      "Requirement already satisfied: requests in /Users/johnny/anaconda3/lib/python3.10/site-packages (from transformers<5.0.0,>=3.1.0->sentence-transformers==1.2.0) (2.28.1)\n",
      "Requirement already satisfied: tokenizers<0.19,>=0.14 in /Users/johnny/anaconda3/lib/python3.10/site-packages (from transformers<5.0.0,>=3.1.0->sentence-transformers==1.2.0) (0.15.2)\n",
      "Requirement already satisfied: safetensors>=0.4.1 in /Users/johnny/anaconda3/lib/python3.10/site-packages (from transformers<5.0.0,>=3.1.0->sentence-transformers==1.2.0) (0.4.3)\n",
      "Requirement already satisfied: click in /Users/johnny/anaconda3/lib/python3.10/site-packages (from nltk->sentence-transformers==1.2.0) (8.0.4)\n",
      "Requirement already satisfied: joblib in /Users/johnny/anaconda3/lib/python3.10/site-packages (from nltk->sentence-transformers==1.2.0) (1.1.1)\n",
      "Requirement already satisfied: threadpoolctl>=2.0.0 in /Users/johnny/anaconda3/lib/python3.10/site-packages (from scikit-learn->sentence-transformers==1.2.0) (2.2.0)\n",
      "Requirement already satisfied: pillow!=8.3.*,>=5.3.0 in /Users/johnny/anaconda3/lib/python3.10/site-packages (from torchvision->sentence-transformers==1.2.0) (9.4.0)\n",
      "Requirement already satisfied: MarkupSafe>=2.0 in /Users/johnny/anaconda3/lib/python3.10/site-packages (from jinja2->torch>=1.6.0->sentence-transformers==1.2.0) (2.1.1)\n",
      "Requirement already satisfied: charset-normalizer<3,>=2 in /Users/johnny/anaconda3/lib/python3.10/site-packages (from requests->transformers<5.0.0,>=3.1.0->sentence-transformers==1.2.0) (2.0.4)\n",
      "Requirement already satisfied: idna<4,>=2.5 in /Users/johnny/anaconda3/lib/python3.10/site-packages (from requests->transformers<5.0.0,>=3.1.0->sentence-transformers==1.2.0) (3.4)\n",
      "Requirement already satisfied: urllib3<1.27,>=1.21.1 in /Users/johnny/anaconda3/lib/python3.10/site-packages (from requests->transformers<5.0.0,>=3.1.0->sentence-transformers==1.2.0) (1.26.14)\n",
      "Requirement already satisfied: certifi>=2017.4.17 in /Users/johnny/anaconda3/lib/python3.10/site-packages (from requests->transformers<5.0.0,>=3.1.0->sentence-transformers==1.2.0) (2022.12.7)\n",
      "Requirement already satisfied: mpmath>=0.19 in /Users/johnny/anaconda3/lib/python3.10/site-packages/mpmath-1.2.1-py3.10.egg (from sympy->torch>=1.6.0->sentence-transformers==1.2.0) (1.2.1)\n",
      "Building wheels for collected packages: sentence-transformers\n",
      "  Building wheel for sentence-transformers (setup.py) ... \u001b[?25ldone\n",
      "\u001b[?25h  Created wheel for sentence-transformers: filename=sentence_transformers-1.2.0-py3-none-any.whl size=123323 sha256=0dbd4630b225aca0cc8722bbc313473d39c3c2de43c53e16c6ae086a391ee52e\n",
      "  Stored in directory: /Users/johnny/Library/Caches/pip/wheels/ef/c3/ce/320c01964e87e0487a9fba07e2d22cebc4e09e805d465667d9\n",
      "Successfully built sentence-transformers\n",
      "Installing collected packages: sentence-transformers\n",
      "  Attempting uninstall: sentence-transformers\n",
      "    Found existing installation: sentence-transformers 2.6.1\n",
      "    Uninstalling sentence-transformers-2.6.1:\n",
      "      Successfully uninstalled sentence-transformers-2.6.1\n",
      "Successfully installed sentence-transformers-1.2.0\n",
      "Note: you may need to restart the kernel to use updated packages.\n"
     ]
    }
   ],
   "source": [
    "pip install sentence-transformers==1.2.0\n"
   ]
  },
  {
   "cell_type": "code",
   "execution_count": 33,
   "id": "68891831d40dc6ef",
   "metadata": {
    "ExecuteTime": {
     "end_time": "2024-04-17T03:21:31.326326Z",
     "start_time": "2024-04-17T03:21:22.710012Z"
    }
   },
   "outputs": [
    {
     "name": "stdout",
     "output_type": "stream",
     "text": [
      "Requirement already satisfied: mysql-connector-python in /Users/johnny/anaconda3/lib/python3.10/site-packages (8.1.0)\r\n",
      "Requirement already satisfied: protobuf<=4.21.12,>=4.21.1 in /Users/johnny/anaconda3/lib/python3.10/site-packages (from mysql-connector-python) (4.21.12)\r\n",
      "Note: you may need to restart the kernel to use updated packages.\n"
     ]
    }
   ],
   "source": [
    "pip install mysql-connector-python"
   ]
  },
  {
   "cell_type": "code",
   "execution_count": 34,
   "id": "8b9a0ac8575ed8c6",
   "metadata": {
    "ExecuteTime": {
     "end_time": "2024-04-17T03:22:13.975842Z",
     "start_time": "2024-04-17T03:21:36.073710Z"
    }
   },
   "outputs": [
    {
     "name": "stdout",
     "output_type": "stream",
     "text": [
      "Collecting en-core-web-sm==3.7.1\r\n",
      "  Downloading https://github.com/explosion/spacy-models/releases/download/en_core_web_sm-3.7.1/en_core_web_sm-3.7.1-py3-none-any.whl (12.8 MB)\r\n",
      "\u001b[2K     \u001b[90m━━━━━━━━━━━━━━━━━━━━━━━━━━━━━━━━━━━━━━━━\u001b[0m \u001b[32m12.8/12.8 MB\u001b[0m \u001b[31m10.0 MB/s\u001b[0m eta \u001b[36m0:00:00\u001b[0m00:01\u001b[0m00:01\u001b[0m\r\n",
      "\u001b[?25hRequirement already satisfied: spacy<3.8.0,>=3.7.2 in /Users/johnny/anaconda3/lib/python3.10/site-packages (from en-core-web-sm==3.7.1) (3.7.2)\r\n",
      "Requirement already satisfied: spacy-legacy<3.1.0,>=3.0.11 in /Users/johnny/anaconda3/lib/python3.10/site-packages (from spacy<3.8.0,>=3.7.2->en-core-web-sm==3.7.1) (3.0.12)\r\n",
      "Requirement already satisfied: spacy-loggers<2.0.0,>=1.0.0 in /Users/johnny/anaconda3/lib/python3.10/site-packages (from spacy<3.8.0,>=3.7.2->en-core-web-sm==3.7.1) (1.0.5)\r\n",
      "Requirement already satisfied: murmurhash<1.1.0,>=0.28.0 in /Users/johnny/anaconda3/lib/python3.10/site-packages (from spacy<3.8.0,>=3.7.2->en-core-web-sm==3.7.1) (1.0.10)\r\n",
      "Requirement already satisfied: cymem<2.1.0,>=2.0.2 in /Users/johnny/anaconda3/lib/python3.10/site-packages (from spacy<3.8.0,>=3.7.2->en-core-web-sm==3.7.1) (2.0.8)\r\n",
      "Requirement already satisfied: preshed<3.1.0,>=3.0.2 in /Users/johnny/anaconda3/lib/python3.10/site-packages (from spacy<3.8.0,>=3.7.2->en-core-web-sm==3.7.1) (3.0.9)\r\n",
      "Requirement already satisfied: thinc<8.3.0,>=8.1.8 in /Users/johnny/anaconda3/lib/python3.10/site-packages (from spacy<3.8.0,>=3.7.2->en-core-web-sm==3.7.1) (8.2.2)\r\n",
      "Requirement already satisfied: wasabi<1.2.0,>=0.9.1 in /Users/johnny/anaconda3/lib/python3.10/site-packages (from spacy<3.8.0,>=3.7.2->en-core-web-sm==3.7.1) (1.1.2)\r\n",
      "Requirement already satisfied: srsly<3.0.0,>=2.4.3 in /Users/johnny/anaconda3/lib/python3.10/site-packages (from spacy<3.8.0,>=3.7.2->en-core-web-sm==3.7.1) (2.4.8)\r\n",
      "Requirement already satisfied: catalogue<2.1.0,>=2.0.6 in /Users/johnny/anaconda3/lib/python3.10/site-packages (from spacy<3.8.0,>=3.7.2->en-core-web-sm==3.7.1) (2.0.10)\r\n",
      "Requirement already satisfied: weasel<0.4.0,>=0.1.0 in /Users/johnny/anaconda3/lib/python3.10/site-packages (from spacy<3.8.0,>=3.7.2->en-core-web-sm==3.7.1) (0.3.4)\r\n",
      "Requirement already satisfied: typer<0.10.0,>=0.3.0 in /Users/johnny/anaconda3/lib/python3.10/site-packages (from spacy<3.8.0,>=3.7.2->en-core-web-sm==3.7.1) (0.9.0)\r\n",
      "Requirement already satisfied: smart-open<7.0.0,>=5.2.1 in /Users/johnny/anaconda3/lib/python3.10/site-packages (from spacy<3.8.0,>=3.7.2->en-core-web-sm==3.7.1) (5.2.1)\r\n",
      "Requirement already satisfied: tqdm<5.0.0,>=4.38.0 in /Users/johnny/anaconda3/lib/python3.10/site-packages (from spacy<3.8.0,>=3.7.2->en-core-web-sm==3.7.1) (4.64.1)\r\n",
      "Requirement already satisfied: requests<3.0.0,>=2.13.0 in /Users/johnny/anaconda3/lib/python3.10/site-packages (from spacy<3.8.0,>=3.7.2->en-core-web-sm==3.7.1) (2.28.1)\r\n",
      "Requirement already satisfied: pydantic!=1.8,!=1.8.1,<3.0.0,>=1.7.4 in /Users/johnny/anaconda3/lib/python3.10/site-packages (from spacy<3.8.0,>=3.7.2->en-core-web-sm==3.7.1) (2.5.3)\r\n",
      "Requirement already satisfied: jinja2 in /Users/johnny/anaconda3/lib/python3.10/site-packages (from spacy<3.8.0,>=3.7.2->en-core-web-sm==3.7.1) (3.1.2)\r\n",
      "Requirement already satisfied: setuptools in /Users/johnny/anaconda3/lib/python3.10/site-packages (from spacy<3.8.0,>=3.7.2->en-core-web-sm==3.7.1) (65.6.3)\r\n",
      "Requirement already satisfied: packaging>=20.0 in /Users/johnny/anaconda3/lib/python3.10/site-packages (from spacy<3.8.0,>=3.7.2->en-core-web-sm==3.7.1) (22.0)\r\n",
      "Requirement already satisfied: langcodes<4.0.0,>=3.2.0 in /Users/johnny/anaconda3/lib/python3.10/site-packages (from spacy<3.8.0,>=3.7.2->en-core-web-sm==3.7.1) (3.3.0)\r\n",
      "Requirement already satisfied: numpy>=1.19.0 in /Users/johnny/anaconda3/lib/python3.10/site-packages (from spacy<3.8.0,>=3.7.2->en-core-web-sm==3.7.1) (1.23.5)\r\n",
      "Requirement already satisfied: annotated-types>=0.4.0 in /Users/johnny/anaconda3/lib/python3.10/site-packages (from pydantic!=1.8,!=1.8.1,<3.0.0,>=1.7.4->spacy<3.8.0,>=3.7.2->en-core-web-sm==3.7.1) (0.6.0)\r\n",
      "Requirement already satisfied: pydantic-core==2.14.6 in /Users/johnny/anaconda3/lib/python3.10/site-packages (from pydantic!=1.8,!=1.8.1,<3.0.0,>=1.7.4->spacy<3.8.0,>=3.7.2->en-core-web-sm==3.7.1) (2.14.6)\r\n",
      "Requirement already satisfied: typing-extensions>=4.6.1 in /Users/johnny/anaconda3/lib/python3.10/site-packages (from pydantic!=1.8,!=1.8.1,<3.0.0,>=1.7.4->spacy<3.8.0,>=3.7.2->en-core-web-sm==3.7.1) (4.9.0)\r\n",
      "Requirement already satisfied: charset-normalizer<3,>=2 in /Users/johnny/anaconda3/lib/python3.10/site-packages (from requests<3.0.0,>=2.13.0->spacy<3.8.0,>=3.7.2->en-core-web-sm==3.7.1) (2.0.4)\r\n",
      "Requirement already satisfied: idna<4,>=2.5 in /Users/johnny/anaconda3/lib/python3.10/site-packages (from requests<3.0.0,>=2.13.0->spacy<3.8.0,>=3.7.2->en-core-web-sm==3.7.1) (3.4)\r\n",
      "Requirement already satisfied: urllib3<1.27,>=1.21.1 in /Users/johnny/anaconda3/lib/python3.10/site-packages (from requests<3.0.0,>=2.13.0->spacy<3.8.0,>=3.7.2->en-core-web-sm==3.7.1) (1.26.14)\r\n",
      "Requirement already satisfied: certifi>=2017.4.17 in /Users/johnny/anaconda3/lib/python3.10/site-packages (from requests<3.0.0,>=2.13.0->spacy<3.8.0,>=3.7.2->en-core-web-sm==3.7.1) (2022.12.7)\r\n",
      "Requirement already satisfied: blis<0.8.0,>=0.7.8 in /Users/johnny/anaconda3/lib/python3.10/site-packages (from thinc<8.3.0,>=8.1.8->spacy<3.8.0,>=3.7.2->en-core-web-sm==3.7.1) (0.7.11)\r\n",
      "Requirement already satisfied: confection<1.0.0,>=0.0.1 in /Users/johnny/anaconda3/lib/python3.10/site-packages (from thinc<8.3.0,>=8.1.8->spacy<3.8.0,>=3.7.2->en-core-web-sm==3.7.1) (0.1.4)\r\n",
      "Requirement already satisfied: click<9.0.0,>=7.1.1 in /Users/johnny/anaconda3/lib/python3.10/site-packages (from typer<0.10.0,>=0.3.0->spacy<3.8.0,>=3.7.2->en-core-web-sm==3.7.1) (8.0.4)\r\n",
      "Requirement already satisfied: cloudpathlib<0.17.0,>=0.7.0 in /Users/johnny/anaconda3/lib/python3.10/site-packages (from weasel<0.4.0,>=0.1.0->spacy<3.8.0,>=3.7.2->en-core-web-sm==3.7.1) (0.16.0)\r\n",
      "Requirement already satisfied: MarkupSafe>=2.0 in /Users/johnny/anaconda3/lib/python3.10/site-packages (from jinja2->spacy<3.8.0,>=3.7.2->en-core-web-sm==3.7.1) (2.1.1)\r\n",
      "\u001b[38;5;2m✔ Download and installation successful\u001b[0m\r\n",
      "You can now load the package via spacy.load('en_core_web_sm')\r\n"
     ]
    }
   ],
   "source": [
    "!python -m spacy download en_core_web_sm"
   ]
  },
  {
   "cell_type": "code",
   "execution_count": 35,
   "id": "cee1d33fbf2236df",
   "metadata": {
    "ExecuteTime": {
     "end_time": "2024-04-17T03:22:29.872471Z",
     "start_time": "2024-04-17T03:22:19.822463Z"
    }
   },
   "outputs": [
    {
     "name": "stdout",
     "output_type": "stream",
     "text": [
      "Requirement already satisfied: spacy in /Users/johnny/anaconda3/lib/python3.10/site-packages (3.7.2)\r\n",
      "Requirement already satisfied: spacy-legacy<3.1.0,>=3.0.11 in /Users/johnny/anaconda3/lib/python3.10/site-packages (from spacy) (3.0.12)\r\n",
      "Requirement already satisfied: spacy-loggers<2.0.0,>=1.0.0 in /Users/johnny/anaconda3/lib/python3.10/site-packages (from spacy) (1.0.5)\r\n",
      "Requirement already satisfied: murmurhash<1.1.0,>=0.28.0 in /Users/johnny/anaconda3/lib/python3.10/site-packages (from spacy) (1.0.10)\r\n",
      "Requirement already satisfied: cymem<2.1.0,>=2.0.2 in /Users/johnny/anaconda3/lib/python3.10/site-packages (from spacy) (2.0.8)\r\n",
      "Requirement already satisfied: preshed<3.1.0,>=3.0.2 in /Users/johnny/anaconda3/lib/python3.10/site-packages (from spacy) (3.0.9)\r\n",
      "Requirement already satisfied: thinc<8.3.0,>=8.1.8 in /Users/johnny/anaconda3/lib/python3.10/site-packages (from spacy) (8.2.2)\r\n",
      "Requirement already satisfied: wasabi<1.2.0,>=0.9.1 in /Users/johnny/anaconda3/lib/python3.10/site-packages (from spacy) (1.1.2)\r\n",
      "Requirement already satisfied: srsly<3.0.0,>=2.4.3 in /Users/johnny/anaconda3/lib/python3.10/site-packages (from spacy) (2.4.8)\r\n",
      "Requirement already satisfied: catalogue<2.1.0,>=2.0.6 in /Users/johnny/anaconda3/lib/python3.10/site-packages (from spacy) (2.0.10)\r\n",
      "Requirement already satisfied: weasel<0.4.0,>=0.1.0 in /Users/johnny/anaconda3/lib/python3.10/site-packages (from spacy) (0.3.4)\r\n",
      "Requirement already satisfied: typer<0.10.0,>=0.3.0 in /Users/johnny/anaconda3/lib/python3.10/site-packages (from spacy) (0.9.0)\r\n",
      "Requirement already satisfied: smart-open<7.0.0,>=5.2.1 in /Users/johnny/anaconda3/lib/python3.10/site-packages (from spacy) (5.2.1)\r\n",
      "Requirement already satisfied: tqdm<5.0.0,>=4.38.0 in /Users/johnny/anaconda3/lib/python3.10/site-packages (from spacy) (4.64.1)\r\n",
      "Requirement already satisfied: requests<3.0.0,>=2.13.0 in /Users/johnny/anaconda3/lib/python3.10/site-packages (from spacy) (2.28.1)\r\n",
      "Requirement already satisfied: pydantic!=1.8,!=1.8.1,<3.0.0,>=1.7.4 in /Users/johnny/anaconda3/lib/python3.10/site-packages (from spacy) (2.5.3)\r\n",
      "Requirement already satisfied: jinja2 in /Users/johnny/anaconda3/lib/python3.10/site-packages (from spacy) (3.1.2)\r\n",
      "Requirement already satisfied: setuptools in /Users/johnny/anaconda3/lib/python3.10/site-packages (from spacy) (65.6.3)\r\n",
      "Requirement already satisfied: packaging>=20.0 in /Users/johnny/anaconda3/lib/python3.10/site-packages (from spacy) (22.0)\r\n",
      "Requirement already satisfied: langcodes<4.0.0,>=3.2.0 in /Users/johnny/anaconda3/lib/python3.10/site-packages (from spacy) (3.3.0)\r\n",
      "Requirement already satisfied: numpy>=1.19.0 in /Users/johnny/anaconda3/lib/python3.10/site-packages (from spacy) (1.23.5)\r\n",
      "Requirement already satisfied: annotated-types>=0.4.0 in /Users/johnny/anaconda3/lib/python3.10/site-packages (from pydantic!=1.8,!=1.8.1,<3.0.0,>=1.7.4->spacy) (0.6.0)\r\n",
      "Requirement already satisfied: pydantic-core==2.14.6 in /Users/johnny/anaconda3/lib/python3.10/site-packages (from pydantic!=1.8,!=1.8.1,<3.0.0,>=1.7.4->spacy) (2.14.6)\r\n",
      "Requirement already satisfied: typing-extensions>=4.6.1 in /Users/johnny/anaconda3/lib/python3.10/site-packages (from pydantic!=1.8,!=1.8.1,<3.0.0,>=1.7.4->spacy) (4.9.0)\r\n",
      "Requirement already satisfied: charset-normalizer<3,>=2 in /Users/johnny/anaconda3/lib/python3.10/site-packages (from requests<3.0.0,>=2.13.0->spacy) (2.0.4)\r\n",
      "Requirement already satisfied: idna<4,>=2.5 in /Users/johnny/anaconda3/lib/python3.10/site-packages (from requests<3.0.0,>=2.13.0->spacy) (3.4)\r\n",
      "Requirement already satisfied: urllib3<1.27,>=1.21.1 in /Users/johnny/anaconda3/lib/python3.10/site-packages (from requests<3.0.0,>=2.13.0->spacy) (1.26.14)\r\n",
      "Requirement already satisfied: certifi>=2017.4.17 in /Users/johnny/anaconda3/lib/python3.10/site-packages (from requests<3.0.0,>=2.13.0->spacy) (2022.12.7)\r\n",
      "Requirement already satisfied: blis<0.8.0,>=0.7.8 in /Users/johnny/anaconda3/lib/python3.10/site-packages (from thinc<8.3.0,>=8.1.8->spacy) (0.7.11)\r\n",
      "Requirement already satisfied: confection<1.0.0,>=0.0.1 in /Users/johnny/anaconda3/lib/python3.10/site-packages (from thinc<8.3.0,>=8.1.8->spacy) (0.1.4)\r\n",
      "Requirement already satisfied: click<9.0.0,>=7.1.1 in /Users/johnny/anaconda3/lib/python3.10/site-packages (from typer<0.10.0,>=0.3.0->spacy) (8.0.4)\r\n",
      "Requirement already satisfied: cloudpathlib<0.17.0,>=0.7.0 in /Users/johnny/anaconda3/lib/python3.10/site-packages (from weasel<0.4.0,>=0.1.0->spacy) (0.16.0)\r\n",
      "Requirement already satisfied: MarkupSafe>=2.0 in /Users/johnny/anaconda3/lib/python3.10/site-packages (from jinja2->spacy) (2.1.1)\r\n",
      "Note: you may need to restart the kernel to use updated packages.\n"
     ]
    }
   ],
   "source": [
    "pip install spacy"
   ]
  },
  {
   "cell_type": "code",
   "execution_count": 36,
   "id": "c3e0d2569407835",
   "metadata": {
    "ExecuteTime": {
     "end_time": "2024-04-17T03:22:45.267906Z",
     "start_time": "2024-04-17T03:22:35.872226Z"
    }
   },
   "outputs": [
    {
     "name": "stdout",
     "output_type": "stream",
     "text": [
      "Requirement already satisfied: sentence-transformers in /Users/johnny/anaconda3/lib/python3.10/site-packages (2.6.1)\r\n",
      "Requirement already satisfied: transformers in /Users/johnny/anaconda3/lib/python3.10/site-packages (4.39.3)\r\n",
      "Requirement already satisfied: tqdm in /Users/johnny/anaconda3/lib/python3.10/site-packages (from sentence-transformers) (4.64.1)\r\n",
      "Requirement already satisfied: torch>=1.11.0 in /Users/johnny/anaconda3/lib/python3.10/site-packages (from sentence-transformers) (2.2.2)\r\n",
      "Requirement already satisfied: numpy in /Users/johnny/anaconda3/lib/python3.10/site-packages (from sentence-transformers) (1.23.5)\r\n",
      "Requirement already satisfied: scikit-learn in /Users/johnny/anaconda3/lib/python3.10/site-packages (from sentence-transformers) (1.2.2)\r\n",
      "Requirement already satisfied: scipy in /Users/johnny/anaconda3/lib/python3.10/site-packages (from sentence-transformers) (1.10.0)\r\n",
      "Requirement already satisfied: huggingface-hub>=0.15.1 in /Users/johnny/anaconda3/lib/python3.10/site-packages (from sentence-transformers) (0.22.2)\r\n",
      "Requirement already satisfied: Pillow in /Users/johnny/anaconda3/lib/python3.10/site-packages (from sentence-transformers) (9.4.0)\r\n",
      "Requirement already satisfied: filelock in /Users/johnny/anaconda3/lib/python3.10/site-packages (from transformers) (3.9.0)\r\n",
      "Requirement already satisfied: packaging>=20.0 in /Users/johnny/anaconda3/lib/python3.10/site-packages (from transformers) (22.0)\r\n",
      "Requirement already satisfied: pyyaml>=5.1 in /Users/johnny/anaconda3/lib/python3.10/site-packages (from transformers) (6.0)\r\n",
      "Requirement already satisfied: regex!=2019.12.17 in /Users/johnny/anaconda3/lib/python3.10/site-packages (from transformers) (2022.7.9)\r\n",
      "Requirement already satisfied: requests in /Users/johnny/anaconda3/lib/python3.10/site-packages (from transformers) (2.28.1)\r\n",
      "Requirement already satisfied: tokenizers<0.19,>=0.14 in /Users/johnny/anaconda3/lib/python3.10/site-packages (from transformers) (0.15.2)\r\n",
      "Requirement already satisfied: safetensors>=0.4.1 in /Users/johnny/anaconda3/lib/python3.10/site-packages (from transformers) (0.4.3)\r\n",
      "Requirement already satisfied: fsspec>=2023.5.0 in /Users/johnny/anaconda3/lib/python3.10/site-packages (from huggingface-hub>=0.15.1->sentence-transformers) (2023.10.0)\r\n",
      "Requirement already satisfied: typing-extensions>=3.7.4.3 in /Users/johnny/anaconda3/lib/python3.10/site-packages (from huggingface-hub>=0.15.1->sentence-transformers) (4.9.0)\r\n",
      "Requirement already satisfied: sympy in /Users/johnny/anaconda3/lib/python3.10/site-packages (from torch>=1.11.0->sentence-transformers) (1.11.1)\r\n",
      "Requirement already satisfied: networkx in /Users/johnny/anaconda3/lib/python3.10/site-packages (from torch>=1.11.0->sentence-transformers) (2.8.4)\r\n",
      "Requirement already satisfied: jinja2 in /Users/johnny/anaconda3/lib/python3.10/site-packages (from torch>=1.11.0->sentence-transformers) (3.1.2)\r\n",
      "Requirement already satisfied: charset-normalizer<3,>=2 in /Users/johnny/anaconda3/lib/python3.10/site-packages (from requests->transformers) (2.0.4)\r\n",
      "Requirement already satisfied: idna<4,>=2.5 in /Users/johnny/anaconda3/lib/python3.10/site-packages (from requests->transformers) (3.4)\r\n",
      "Requirement already satisfied: urllib3<1.27,>=1.21.1 in /Users/johnny/anaconda3/lib/python3.10/site-packages (from requests->transformers) (1.26.14)\r\n",
      "Requirement already satisfied: certifi>=2017.4.17 in /Users/johnny/anaconda3/lib/python3.10/site-packages (from requests->transformers) (2022.12.7)\r\n",
      "Requirement already satisfied: joblib>=1.1.1 in /Users/johnny/anaconda3/lib/python3.10/site-packages (from scikit-learn->sentence-transformers) (1.1.1)\r\n",
      "Requirement already satisfied: threadpoolctl>=2.0.0 in /Users/johnny/anaconda3/lib/python3.10/site-packages (from scikit-learn->sentence-transformers) (2.2.0)\r\n",
      "Requirement already satisfied: MarkupSafe>=2.0 in /Users/johnny/anaconda3/lib/python3.10/site-packages (from jinja2->torch>=1.11.0->sentence-transformers) (2.1.1)\r\n",
      "Requirement already satisfied: mpmath>=0.19 in /Users/johnny/anaconda3/lib/python3.10/site-packages/mpmath-1.2.1-py3.10.egg (from sympy->torch>=1.11.0->sentence-transformers) (1.2.1)\r\n",
      "Note: you may need to restart the kernel to use updated packages.\n"
     ]
    }
   ],
   "source": [
    "pip install --upgrade sentence-transformers transformers"
   ]
  },
  {
   "cell_type": "code",
   "execution_count": 37,
   "id": "initial_id",
   "metadata": {
    "ExecuteTime": {
     "end_time": "2024-04-17T03:25:25.482996Z",
     "start_time": "2024-04-17T03:22:55.468980Z"
    }
   },
   "outputs": [
    {
     "name": "stdout",
     "output_type": "stream",
     "text": [
      "Requirement already satisfied: torch in /Users/johnny/anaconda3/lib/python3.10/site-packages (2.2.2)\r\n",
      "Requirement already satisfied: torchvision in /Users/johnny/anaconda3/lib/python3.10/site-packages (0.16.0)\r\n",
      "Requirement already satisfied: torchaudio in /Users/johnny/anaconda3/lib/python3.10/site-packages (2.1.0)\r\n",
      "Requirement already satisfied: filelock in /Users/johnny/anaconda3/lib/python3.10/site-packages (from torch) (3.9.0)\r\n",
      "Requirement already satisfied: typing-extensions>=4.8.0 in /Users/johnny/anaconda3/lib/python3.10/site-packages (from torch) (4.9.0)\r\n",
      "Requirement already satisfied: sympy in /Users/johnny/anaconda3/lib/python3.10/site-packages (from torch) (1.11.1)\r\n",
      "Requirement already satisfied: networkx in /Users/johnny/anaconda3/lib/python3.10/site-packages (from torch) (2.8.4)\r\n",
      "Requirement already satisfied: jinja2 in /Users/johnny/anaconda3/lib/python3.10/site-packages (from torch) (3.1.2)\r\n",
      "Requirement already satisfied: fsspec in /Users/johnny/anaconda3/lib/python3.10/site-packages (from torch) (2023.10.0)\r\n",
      "Requirement already satisfied: numpy in /Users/johnny/anaconda3/lib/python3.10/site-packages (from torchvision) (1.23.5)\r\n",
      "Requirement already satisfied: requests in /Users/johnny/anaconda3/lib/python3.10/site-packages (from torchvision) (2.28.1)\r\n",
      "Collecting torch\r\n",
      "  Downloading torch-2.1.0-cp310-none-macosx_10_9_x86_64.whl.metadata (24 kB)\r\n",
      "Requirement already satisfied: pillow!=8.3.*,>=5.3.0 in /Users/johnny/anaconda3/lib/python3.10/site-packages (from torchvision) (9.4.0)\r\n",
      "Requirement already satisfied: MarkupSafe>=2.0 in /Users/johnny/anaconda3/lib/python3.10/site-packages (from jinja2->torch) (2.1.1)\r\n",
      "Requirement already satisfied: charset-normalizer<3,>=2 in /Users/johnny/anaconda3/lib/python3.10/site-packages (from requests->torchvision) (2.0.4)\r\n",
      "Requirement already satisfied: idna<4,>=2.5 in /Users/johnny/anaconda3/lib/python3.10/site-packages (from requests->torchvision) (3.4)\r\n",
      "Requirement already satisfied: urllib3<1.27,>=1.21.1 in /Users/johnny/anaconda3/lib/python3.10/site-packages (from requests->torchvision) (1.26.14)\r\n",
      "Requirement already satisfied: certifi>=2017.4.17 in /Users/johnny/anaconda3/lib/python3.10/site-packages (from requests->torchvision) (2022.12.7)\r\n",
      "Requirement already satisfied: mpmath>=0.19 in /Users/johnny/anaconda3/lib/python3.10/site-packages/mpmath-1.2.1-py3.10.egg (from sympy->torch) (1.2.1)\r\n",
      "Downloading torch-2.1.0-cp310-none-macosx_10_9_x86_64.whl (147.0 MB)\r\n",
      "\u001b[2K   \u001b[90m━━━━━━━━━━━━━━━━━━━━━━━━━━━━━━━━━━━━━━━\u001b[0m \u001b[32m147.0/147.0 MB\u001b[0m \u001b[31m575.4 kB/s\u001b[0m eta \u001b[36m0:00:00\u001b[0m00:01\u001b[0m00:06\u001b[0m\r\n",
      "\u001b[?25hInstalling collected packages: torch\r\n",
      "  Attempting uninstall: torch\r\n",
      "    Found existing installation: torch 2.2.2\r\n",
      "    Uninstalling torch-2.2.2:\r\n",
      "      Successfully uninstalled torch-2.2.2\r\n",
      "Successfully installed torch-2.1.0\r\n",
      "Note: you may need to restart the kernel to use updated packages.\n"
     ]
    }
   ],
   "source": [
    "pip install torch torchvision torchaudio"
   ]
  },
  {
   "cell_type": "code",
   "execution_count": 15,
   "id": "8eaebfb4aa27e744",
   "metadata": {
    "ExecuteTime": {
     "end_time": "2024-04-16T09:18:57.899375Z",
     "start_time": "2024-04-16T09:18:55.999530Z"
    }
   },
   "outputs": [
    {
     "name": "stdout",
     "output_type": "stream",
     "text": [
      "Unexpected exception formatting exception. Falling back to standard exception\n"
     ]
    },
    {
     "name": "stderr",
     "output_type": "stream",
     "text": [
      "Traceback (most recent call last):\n",
      "  File \"/Users/johnny/anaconda3/lib/python3.10/site-packages/IPython/core/interactiveshell.py\", line 3460, in run_code\n",
      "    exec(code_obj, self.user_global_ns, self.user_ns)\n",
      "  File \"/var/folders/8s/9fh2s7w53w1fks_4dpp52tyw0000gn/T/ipykernel_19161/3928678121.py\", line 1, in <module>\n",
      "    from sentence_transformers import SentenceTransformer, util\n",
      "  File \"/Users/johnny/anaconda3/lib/python3.10/site-packages/sentence_transformers/__init__.py\", line 3, in <module>\n",
      "    from .datasets import SentencesDataset, ParallelSentencesDataset\n",
      "  File \"/Users/johnny/anaconda3/lib/python3.10/site-packages/sentence_transformers/datasets/__init__.py\", line 3, in <module>\n",
      "    from .ParallelSentencesDataset import ParallelSentencesDataset\n",
      "  File \"/Users/johnny/anaconda3/lib/python3.10/site-packages/sentence_transformers/datasets/ParallelSentencesDataset.py\", line 4, in <module>\n",
      "    from .. import SentenceTransformer\n",
      "  File \"/Users/johnny/anaconda3/lib/python3.10/site-packages/sentence_transformers/SentenceTransformer.py\", line 10, in <module>\n",
      "    import transformers\n",
      "  File \"/Users/johnny/anaconda3/lib/python3.10/site-packages/transformers/__init__.py\", line 26, in <module>\n",
      "    from . import dependency_versions_check\n",
      "  File \"/Users/johnny/anaconda3/lib/python3.10/site-packages/transformers/dependency_versions_check.py\", line 16, in <module>\n",
      "    from .utils.versions import require_version, require_version_core\n",
      "  File \"/Users/johnny/anaconda3/lib/python3.10/site-packages/transformers/utils/__init__.py\", line 33, in <module>\n",
      "    from .generic import (\n",
      "  File \"/Users/johnny/anaconda3/lib/python3.10/site-packages/transformers/utils/generic.py\", line 31, in <module>\n",
      "    from .import_utils import (\n",
      "ImportError: cannot import name 'is_mlx_available' from 'transformers.utils.import_utils' (/Users/johnny/anaconda3/lib/python3.10/site-packages/transformers/utils/import_utils.py)\n",
      "\n",
      "During handling of the above exception, another exception occurred:\n",
      "\n",
      "Traceback (most recent call last):\n",
      "  File \"/Users/johnny/anaconda3/lib/python3.10/site-packages/IPython/core/interactiveshell.py\", line 2057, in showtraceback\n",
      "    stb = self.InteractiveTB.structured_traceback(\n",
      "  File \"/Users/johnny/anaconda3/lib/python3.10/site-packages/IPython/core/ultratb.py\", line 1118, in structured_traceback\n",
      "    return FormattedTB.structured_traceback(\n",
      "  File \"/Users/johnny/anaconda3/lib/python3.10/site-packages/IPython/core/ultratb.py\", line 1012, in structured_traceback\n",
      "    return VerboseTB.structured_traceback(\n",
      "  File \"/Users/johnny/anaconda3/lib/python3.10/site-packages/IPython/core/ultratb.py\", line 865, in structured_traceback\n",
      "    formatted_exception = self.format_exception_as_a_whole(etype, evalue, etb, number_of_lines_of_context,\n",
      "  File \"/Users/johnny/anaconda3/lib/python3.10/site-packages/IPython/core/ultratb.py\", line 818, in format_exception_as_a_whole\n",
      "    frames.append(self.format_record(r))\n",
      "  File \"/Users/johnny/anaconda3/lib/python3.10/site-packages/IPython/core/ultratb.py\", line 736, in format_record\n",
      "    result += ''.join(_format_traceback_lines(frame_info.lines, Colors, self.has_colors, lvals))\n",
      "  File \"/Users/johnny/anaconda3/lib/python3.10/site-packages/stack_data/utils.py\", line 145, in cached_property_wrapper\n",
      "    value = obj.__dict__[self.func.__name__] = self.func(obj)\n",
      "  File \"/Users/johnny/anaconda3/lib/python3.10/site-packages/stack_data/core.py\", line 698, in lines\n",
      "    pieces = self.included_pieces\n",
      "  File \"/Users/johnny/anaconda3/lib/python3.10/site-packages/stack_data/utils.py\", line 145, in cached_property_wrapper\n",
      "    value = obj.__dict__[self.func.__name__] = self.func(obj)\n",
      "  File \"/Users/johnny/anaconda3/lib/python3.10/site-packages/stack_data/core.py\", line 649, in included_pieces\n",
      "    pos = scope_pieces.index(self.executing_piece)\n",
      "  File \"/Users/johnny/anaconda3/lib/python3.10/site-packages/stack_data/utils.py\", line 145, in cached_property_wrapper\n",
      "    value = obj.__dict__[self.func.__name__] = self.func(obj)\n",
      "  File \"/Users/johnny/anaconda3/lib/python3.10/site-packages/stack_data/core.py\", line 628, in executing_piece\n",
      "    return only(\n",
      "  File \"/Users/johnny/anaconda3/lib/python3.10/site-packages/executing/executing.py\", line 164, in only\n",
      "    raise NotOneValueFound('Expected one value, found 0')\n",
      "executing.executing.NotOneValueFound: Expected one value, found 0\n"
     ]
    }
   ],
   "source": [
    "from sentence_transformers import SentenceTransformer, util\n",
    "\n",
    "model = SentenceTransformer(\"shibing624/text2vec-base-chinese\")\n",
    "\n",
    "sentence1_embeddings = model.encode([\"go to the curch\"])\n",
    "# sentence2_embeddings = model.encode([\"你是誰\"])\n",
    "# sentence2_embeddings = model.encode([\"你過得如何\"])\n",
    "sentence2_embeddings = model.encode([\"come on\"])\n",
    "\n",
    "similarity = util.pytorch_cos_sim(sentence1_embeddings, sentence2_embeddings)\n",
    "print(similarity)"
   ]
  },
  {
   "cell_type": "code",
   "execution_count": 2,
   "id": "49eb88a4e22fb1ee",
   "metadata": {
    "ExecuteTime": {
     "end_time": "2024-04-17T03:26:46.300364Z",
     "start_time": "2024-04-17T03:26:44.563038Z"
    }
   },
   "outputs": [
    {
     "name": "stdout",
     "output_type": "stream",
     "text": [
      "Server running on port 8000\n",
      "\n"
     ]
    },
    {
     "data": {
      "application/vnd.jupyter.widget-view+json": {
       "model_id": "c9326dcff2ec4a07a8d548ff3062863b",
       "version_major": 2,
       "version_minor": 0
      },
      "text/plain": [
       "modules.json:   0%|          | 0.00/230 [00:00<?, ?B/s]"
      ]
     },
     "metadata": {},
     "output_type": "display_data"
    },
    {
     "data": {
      "application/vnd.jupyter.widget-view+json": {
       "model_id": "1842c957bef24fecb8bceecbeba0d8fa",
       "version_major": 2,
       "version_minor": 0
      },
      "text/plain": [
       "README.md:   0%|          | 0.00/10.0k [00:00<?, ?B/s]"
      ]
     },
     "metadata": {},
     "output_type": "display_data"
    },
    {
     "data": {
      "application/vnd.jupyter.widget-view+json": {
       "model_id": "769f9a27eb8c41a9a7adf51ea5eace75",
       "version_major": 2,
       "version_minor": 0
      },
      "text/plain": [
       "sentence_bert_config.json:   0%|          | 0.00/54.0 [00:00<?, ?B/s]"
      ]
     },
     "metadata": {},
     "output_type": "display_data"
    },
    {
     "data": {
      "application/vnd.jupyter.widget-view+json": {
       "model_id": "d965fdb9604d4dd3b02536e2ac7b4840",
       "version_major": 2,
       "version_minor": 0
      },
      "text/plain": [
       "model.safetensors:   0%|          | 0.00/409M [00:00<?, ?B/s]"
      ]
     },
     "metadata": {},
     "output_type": "display_data"
    },
    {
     "data": {
      "application/vnd.jupyter.widget-view+json": {
       "model_id": "fcc65c9f80de4ec88dde084063f35abe",
       "version_major": 2,
       "version_minor": 0
      },
      "text/plain": [
       "1_Pooling/config.json:   0%|          | 0.00/74.0 [00:00<?, ?B/s]"
      ]
     },
     "metadata": {},
     "output_type": "display_data"
    },
    {
     "name": "stderr",
     "output_type": "stream",
     "text": [
      "/var/folders/8s/9fh2s7w53w1fks_4dpp52tyw0000gn/T/ipykernel_79946/3504317252.py:91: UserWarning: Creating a tensor from a list of numpy.ndarrays is extremely slow. Please consider converting the list to a single numpy.ndarray with numpy.array() before converting to a tensor. (Triggered internally at /Users/runner/work/pytorch/pytorch/pytorch/torch/csrc/utils/tensor_new.cpp:264.)\n",
      "  similarities = util.pytorch_cos_sim(torch.tensor([input_embedding]), torch.tensor(response_embeddings))[0]\n",
      "----------------------------------------\n",
      "Exception occurred during processing of request from ('127.0.0.1', 63265)\n",
      "Traceback (most recent call last):\n",
      "  File \"/Users/johnny/anaconda3/lib/python3.10/socketserver.py\", line 316, in _handle_request_noblock\n",
      "    self.process_request(request, client_address)\n",
      "  File \"/Users/johnny/anaconda3/lib/python3.10/socketserver.py\", line 347, in process_request\n",
      "    self.finish_request(request, client_address)\n",
      "  File \"/Users/johnny/anaconda3/lib/python3.10/socketserver.py\", line 360, in finish_request\n",
      "    self.RequestHandlerClass(request, client_address, self)\n",
      "  File \"/Users/johnny/anaconda3/lib/python3.10/socketserver.py\", line 747, in __init__\n",
      "    self.handle()\n",
      "  File \"/Users/johnny/anaconda3/lib/python3.10/http/server.py\", line 433, in handle\n",
      "    self.handle_one_request()\n",
      "  File \"/Users/johnny/anaconda3/lib/python3.10/http/server.py\", line 421, in handle_one_request\n",
      "    method()\n",
      "  File \"/var/folders/8s/9fh2s7w53w1fks_4dpp52tyw0000gn/T/ipykernel_79946/3504317252.py\", line 91, in do_POST\n",
      "    similarities = util.pytorch_cos_sim(torch.tensor([input_embedding]), torch.tensor(response_embeddings))[0]\n",
      "  File \"/Users/johnny/anaconda3/lib/python3.10/site-packages/sentence_transformers/util.py\", line 28, in pytorch_cos_sim\n",
      "    return cos_sim(a, b)\n",
      "  File \"/Users/johnny/anaconda3/lib/python3.10/site-packages/sentence_transformers/util.py\", line 51, in cos_sim\n",
      "    return torch.mm(a_norm, b_norm.transpose(0, 1))\n",
      "RuntimeError: mat1 and mat2 shapes cannot be multiplied (1x768 and 0x1)\n",
      "----------------------------------------\n"
     ]
    },
    {
     "name": "stdout",
     "output_type": "stream",
     "text": [
      "\n"
     ]
    },
    {
     "name": "stderr",
     "output_type": "stream",
     "text": [
      "----------------------------------------\n",
      "Exception occurred during processing of request from ('127.0.0.1', 63616)\n",
      "Traceback (most recent call last):\n",
      "  File \"/Users/johnny/anaconda3/lib/python3.10/socketserver.py\", line 316, in _handle_request_noblock\n",
      "    self.process_request(request, client_address)\n",
      "  File \"/Users/johnny/anaconda3/lib/python3.10/socketserver.py\", line 347, in process_request\n",
      "    self.finish_request(request, client_address)\n",
      "  File \"/Users/johnny/anaconda3/lib/python3.10/socketserver.py\", line 360, in finish_request\n",
      "    self.RequestHandlerClass(request, client_address, self)\n",
      "  File \"/Users/johnny/anaconda3/lib/python3.10/socketserver.py\", line 747, in __init__\n",
      "    self.handle()\n",
      "  File \"/Users/johnny/anaconda3/lib/python3.10/http/server.py\", line 433, in handle\n",
      "    self.handle_one_request()\n",
      "  File \"/Users/johnny/anaconda3/lib/python3.10/http/server.py\", line 421, in handle_one_request\n",
      "    method()\n",
      "  File \"/var/folders/8s/9fh2s7w53w1fks_4dpp52tyw0000gn/T/ipykernel_79946/3504317252.py\", line 91, in do_POST\n",
      "    similarities = util.pytorch_cos_sim(torch.tensor([input_embedding]), torch.tensor(response_embeddings))[0]\n",
      "  File \"/Users/johnny/anaconda3/lib/python3.10/site-packages/sentence_transformers/util.py\", line 28, in pytorch_cos_sim\n",
      "    return cos_sim(a, b)\n",
      "  File \"/Users/johnny/anaconda3/lib/python3.10/site-packages/sentence_transformers/util.py\", line 51, in cos_sim\n",
      "    return torch.mm(a_norm, b_norm.transpose(0, 1))\n",
      "RuntimeError: mat1 and mat2 shapes cannot be multiplied (1x768 and 0x1)\n",
      "----------------------------------------\n"
     ]
    },
    {
     "name": "stdout",
     "output_type": "stream",
     "text": [
      "^C received, shutting down server\n"
     ]
    }
   ],
   "source": [
    "from http.server import BaseHTTPRequestHandler, HTTPServer\n",
    "from sentence_transformers import SentenceTransformer, util\n",
    "import mysql.connector\n",
    "import json\n",
    "\n",
    "def connect_to_database():\n",
    "    connection = mysql.connector.connect(\n",
    "        host=\"localhost\",\n",
    "        user=\"root\",\n",
    "        password=\"3659215fF\",\n",
    "        database=\"handle_together\"\n",
    "    )\n",
    "    return connection\n",
    "\n",
    "def send_json_response(self, status_code, data):\n",
    "    # Convert status_code to integer\n",
    "    status_code = int(status_code)\n",
    "\n",
    "    # Set up the HTTP response\n",
    "    self.send_response(status_code)\n",
    "    self.send_header(\"Content-type\", \"application/json\")\n",
    "    self.end_headers()\n",
    "\n",
    "    # Convert the data to JSON\n",
    "    json_response = json.dumps(data)\n",
    "\n",
    "    # Send the JSON response\n",
    "    self.wfile.write(json_response.encode('utf-8'))\n",
    "\n",
    "class WebServerHandler(BaseHTTPRequestHandler):\n",
    "\n",
    "    def do_POST(self):       \n",
    "        # Read the content length from the request headers\n",
    "        content_length = int(self.headers['Content-Length'])\n",
    "\n",
    "        # Read the JSON data from the request body\n",
    "        post_data = self.rfile.read(content_length)\n",
    "        json_data_list = json.loads(post_data.decode('utf-8'))\n",
    "\n",
    "        if json_data_list:\n",
    "            json_data = json_data_list[0]\n",
    "            # Now json_data contains the parameters sent in the JSON format\n",
    "            tag_array = json_data.get('tag_array', [])\n",
    "            subject_array = json_data.get('subject_array', [])\n",
    "            object_array = json_data.get('object_array', [])\n",
    "            input_sentence = json_data.get('input_sentence', '')       \n",
    "            public_ind = json_data.get('public_ind', '')\n",
    "            command_ind = json_data.get('command_ind', '')\n",
    "\n",
    "            print()\n",
    "        # Load the Sentence Transformer model\n",
    "        model = SentenceTransformer(\"shibing624/text2vec-base-chinese\")\n",
    "\n",
    "        # Fetch distinct subject codes from intent_type table\n",
    "        connection = connect_to_database()\n",
    "        cursor = connection.cursor()\n",
    "\n",
    "        # Use parameterized query to avoid SQL injection\n",
    "        # query = \"SELECT tag, content FROM intent_training_data WHERE tag IN ({}) AND subject IN ({})\".format(','.join(['%s' for _ in tag_array]), ','.join(['%s' for _ in subject_array]))\n",
    "        if tag_array and any(tag_array):\n",
    "            tag_condition = \"tag IN ({})\".format(','.join(['%s' for _ in tag_array]))\n",
    "        else:\n",
    "            tag_condition = \"1=1\"  # Always true if tag_array is empty or None\n",
    "            \n",
    "        if command_ind: \n",
    "            tag_condition2 = \"AND COMMAND_IND = '\"+command_ind+\"'\"\n",
    "        else:\n",
    "            tag_condition2 = \"\"  # Always true if tag_array is empty or None\n",
    "        \n",
    "        query = (\"SELECT tag, content FROM intent_training_data WHERE {} AND subject IN ({}) AND object IN ({}) AND PUBLIC_IND = '\"+public_ind+\"'\"+tag_condition2).format(tag_condition, ','.join(['%s' for _ in subject_array]) ,','.join(['%s' for _ in object_array]))\n",
    "        params = tag_array + subject_array + object_array\n",
    "        cursor.execute(query, params)\n",
    "        rows = cursor.fetchall()\n",
    "        candidate_responses_tags = [row[0] for row in rows]\n",
    "        candidate_responses = [row[1] for row in rows]\n",
    "\n",
    "        cursor.close()\n",
    "        connection.close()\n",
    "\n",
    "        # Encode input sentence and candidate responses\n",
    "#         input_embedding = model.encode([input_sentence])\n",
    "#         response_embeddings = model.encode(candidate_responses)\n",
    "\n",
    "        # Calculate cosine similarity between input and responses\n",
    "#         similarities = util.pytorch_cos_sim(input_embedding, response_embeddings)[0]\n",
    "        \n",
    "\n",
    "        input_embedding = model.encode([input_sentence])[0]\n",
    "        response_embeddings = [model.encode([response])[0] for response in candidate_responses]\n",
    "\n",
    "        similarities = util.pytorch_cos_sim(torch.tensor([input_embedding]), torch.tensor(response_embeddings))[0]\n",
    "        similarity = util.pytorch_cos_sim(input_embedding, response_embeddings)\n",
    "\n",
    "        # Get the index of the most similar response\n",
    "        most_similar_index = similarities.argmax().item()\n",
    "\n",
    "        # Print the most similar response\n",
    "        print(\"Input sentence:\", input_sentence)\n",
    "        print(\"Most tag:\", candidate_responses_tags[most_similar_index])\n",
    "        print(\"Most similar response:\", candidate_responses[most_similar_index])\n",
    "        print(\"similarity:\",similarity)\n",
    "        result = {\n",
    "            \"input_sentence\": input_sentence,\n",
    "            \"tag\": candidate_responses_tags[most_similar_index],\n",
    "            \"content\": candidate_responses[most_similar_index],\n",
    "            \"similarity\" : round(similarity.item(),5)\n",
    "        }\n",
    "        send_json_response(self, '200', result)\n",
    "\n",
    "if __name__ == '__main__':\n",
    "    try:\n",
    "        port = 8000\n",
    "        server = HTTPServer(('localhost', port), WebServerHandler)\n",
    "        server.max_body_length = 10 * 1024 * 1024  # set to 10 MB\n",
    "\n",
    "        print(f'Server running on port {port}')\n",
    "        \n",
    "        server.serve_forever()\n",
    "    except KeyboardInterrupt:\n",
    "        print('^C received, shutting down server')\n",
    "        server.socket.close()\n"
   ]
  },
  {
   "cell_type": "code",
   "execution_count": null,
   "id": "9c9634f3",
   "metadata": {},
   "outputs": [],
   "source": []
  },
  {
   "cell_type": "code",
   "execution_count": 39,
   "id": "f09ab4fc",
   "metadata": {
    "ExecuteTime": {
     "end_time": "2024-04-17T03:26:37.245738Z",
     "start_time": "2024-04-17T03:26:35.392973Z"
    }
   },
   "outputs": [
    {
     "name": "stdout",
     "output_type": "stream",
     "text": [
      "Unexpected exception formatting exception. Falling back to standard exception\n"
     ]
    },
    {
     "name": "stderr",
     "output_type": "stream",
     "text": [
      "Traceback (most recent call last):\n",
      "  File \"/Users/johnny/anaconda3/lib/python3.10/site-packages/IPython/core/interactiveshell.py\", line 3460, in run_code\n",
      "    exec(code_obj, self.user_global_ns, self.user_ns)\n",
      "  File \"/var/folders/8s/9fh2s7w53w1fks_4dpp52tyw0000gn/T/ipykernel_19161/3738562682.py\", line 3, in <module>\n",
      "    from sentence_transformers import SentenceTransformer, util\n",
      "  File \"/Users/johnny/anaconda3/lib/python3.10/site-packages/sentence_transformers/__init__.py\", line 3, in <module>\n",
      "    from .datasets import SentencesDataset, ParallelSentencesDataset\n",
      "  File \"/Users/johnny/anaconda3/lib/python3.10/site-packages/sentence_transformers/datasets/__init__.py\", line 3, in <module>\n",
      "    from .ParallelSentencesDataset import ParallelSentencesDataset\n",
      "  File \"/Users/johnny/anaconda3/lib/python3.10/site-packages/sentence_transformers/datasets/ParallelSentencesDataset.py\", line 4, in <module>\n",
      "    from .. import SentenceTransformer\n",
      "  File \"/Users/johnny/anaconda3/lib/python3.10/site-packages/sentence_transformers/SentenceTransformer.py\", line 10, in <module>\n",
      "    import transformers\n",
      "  File \"/Users/johnny/anaconda3/lib/python3.10/site-packages/transformers/__init__.py\", line 26, in <module>\n",
      "    from . import dependency_versions_check\n",
      "  File \"/Users/johnny/anaconda3/lib/python3.10/site-packages/transformers/dependency_versions_check.py\", line 16, in <module>\n",
      "    from .utils.versions import require_version, require_version_core\n",
      "  File \"/Users/johnny/anaconda3/lib/python3.10/site-packages/transformers/utils/__init__.py\", line 33, in <module>\n",
      "    from .generic import (\n",
      "  File \"/Users/johnny/anaconda3/lib/python3.10/site-packages/transformers/utils/generic.py\", line 31, in <module>\n",
      "    from .import_utils import (\n",
      "ImportError: cannot import name 'is_mlx_available' from 'transformers.utils.import_utils' (/Users/johnny/anaconda3/lib/python3.10/site-packages/transformers/utils/import_utils.py)\n",
      "\n",
      "During handling of the above exception, another exception occurred:\n",
      "\n",
      "Traceback (most recent call last):\n",
      "  File \"/Users/johnny/anaconda3/lib/python3.10/site-packages/IPython/core/interactiveshell.py\", line 2057, in showtraceback\n",
      "    stb = self.InteractiveTB.structured_traceback(\n",
      "  File \"/Users/johnny/anaconda3/lib/python3.10/site-packages/IPython/core/ultratb.py\", line 1118, in structured_traceback\n",
      "    return FormattedTB.structured_traceback(\n",
      "  File \"/Users/johnny/anaconda3/lib/python3.10/site-packages/IPython/core/ultratb.py\", line 1012, in structured_traceback\n",
      "    return VerboseTB.structured_traceback(\n",
      "  File \"/Users/johnny/anaconda3/lib/python3.10/site-packages/IPython/core/ultratb.py\", line 865, in structured_traceback\n",
      "    formatted_exception = self.format_exception_as_a_whole(etype, evalue, etb, number_of_lines_of_context,\n",
      "  File \"/Users/johnny/anaconda3/lib/python3.10/site-packages/IPython/core/ultratb.py\", line 818, in format_exception_as_a_whole\n",
      "    frames.append(self.format_record(r))\n",
      "  File \"/Users/johnny/anaconda3/lib/python3.10/site-packages/IPython/core/ultratb.py\", line 736, in format_record\n",
      "    result += ''.join(_format_traceback_lines(frame_info.lines, Colors, self.has_colors, lvals))\n",
      "  File \"/Users/johnny/anaconda3/lib/python3.10/site-packages/stack_data/utils.py\", line 145, in cached_property_wrapper\n",
      "    value = obj.__dict__[self.func.__name__] = self.func(obj)\n",
      "  File \"/Users/johnny/anaconda3/lib/python3.10/site-packages/stack_data/core.py\", line 698, in lines\n",
      "    pieces = self.included_pieces\n",
      "  File \"/Users/johnny/anaconda3/lib/python3.10/site-packages/stack_data/utils.py\", line 145, in cached_property_wrapper\n",
      "    value = obj.__dict__[self.func.__name__] = self.func(obj)\n",
      "  File \"/Users/johnny/anaconda3/lib/python3.10/site-packages/stack_data/core.py\", line 649, in included_pieces\n",
      "    pos = scope_pieces.index(self.executing_piece)\n",
      "  File \"/Users/johnny/anaconda3/lib/python3.10/site-packages/stack_data/utils.py\", line 145, in cached_property_wrapper\n",
      "    value = obj.__dict__[self.func.__name__] = self.func(obj)\n",
      "  File \"/Users/johnny/anaconda3/lib/python3.10/site-packages/stack_data/core.py\", line 628, in executing_piece\n",
      "    return only(\n",
      "  File \"/Users/johnny/anaconda3/lib/python3.10/site-packages/executing/executing.py\", line 164, in only\n",
      "    raise NotOneValueFound('Expected one value, found 0')\n",
      "executing.executing.NotOneValueFound: Expected one value, found 0\n"
     ]
    }
   ],
   "source": [
    "import random\n",
    "from http.server import BaseHTTPRequestHandler, HTTPServer\n",
    "from sentence_transformers import SentenceTransformer, util\n",
    "import mysql.connector\n",
    "import json\n",
    "import torch\n",
    "\n",
    "def connect_to_database():\n",
    "    connection = mysql.connector.connect(\n",
    "        host=\"localhost\",\n",
    "        user=\"root\",\n",
    "        password=\"3659215fF\",\n",
    "        database=\"handle_together\"\n",
    "    )\n",
    "    return connection\n",
    "\n",
    "def send_json_response(self, status_code, data):\n",
    "    # Convert status_code to integer\n",
    "    status_code = int(status_code)\n",
    "\n",
    "    # Set up the HTTP response\n",
    "    self.send_response(status_code)\n",
    "    self.send_header(\"Content-type\", \"application/json\")\n",
    "    self.end_headers()\n",
    "\n",
    "    # Convert the data to JSON\n",
    "    json_response = json.dumps(data)\n",
    "\n",
    "    # Send the JSON response\n",
    "    self.wfile.write(json_response.encode('utf-8'))\n",
    "\n",
    "class WebServerHandler(BaseHTTPRequestHandler):\n",
    "\n",
    "    def do_POST(self):       \n",
    "        # Read the content length from the request headers\n",
    "        content_length = int(self.headers['Content-Length'])\n",
    "\n",
    "        # Read the JSON data from the request body\n",
    "        post_data = self.rfile.read(content_length)\n",
    "        json_data_list = json.loads(post_data.decode('utf-8'))\n",
    "\n",
    "        if json_data_list:\n",
    "            json_data = json_data_list[0]\n",
    "            # Now json_data contains the parameters sent in the JSON format\n",
    "            tag_array = json_data.get('tag_array', [])\n",
    "            subject_array = json_data.get('subject_array', [])\n",
    "            object_array = json_data.get('object_array', [])\n",
    "            input_sentence = json_data.get('input_sentence', '')       \n",
    "            public_ind = json_data.get('public_ind', '')\n",
    "            command_ind = json_data.get('command_ind', '')\n",
    "\n",
    "        # Load the Sentence Transformer model\n",
    "        model = SentenceTransformer(\"shibing624/text2vec-base-chinese\")\n",
    "\n",
    "        # Fetch distinct subject codes from intent_type table\n",
    "        connection = connect_to_database()\n",
    "        cursor = connection.cursor()\n",
    "\n",
    "        # Use parameterized query to avoid SQL injection\n",
    "        # query = \"SELECT tag, content FROM intent_training_data WHERE tag IN ({}) AND subject IN ({})\".format(','.join(['%s' for _ in tag_array]), ','.join(['%s' for _ in subject_array]))\n",
    "        if tag_array and any(tag_array):\n",
    "            tag_condition = \"tag IN ({})\".format(','.join(['%s' for _ in tag_array]))\n",
    "        else:\n",
    "            tag_condition = \"1=1\"  # Always true if tag_array is empty or None\n",
    "            \n",
    "        if command_ind: \n",
    "            tag_condition2 = \"AND COMMAND_IND = '\"+command_ind+\"'\"\n",
    "        else:\n",
    "            tag_condition2 = \"\" \n",
    "        query = (\"SELECT tag, content FROM intent_training_data WHERE {} AND subject IN ({}) AND object IN ({}) AND PUBLIC_IND = '\"+public_ind+\"'\"+tag_condition2).format(tag_condition, ','.join(['%s' for _ in subject_array]) ,','.join(['%s' for _ in object_array]))\n",
    "        params = tag_array + subject_array + object_array\n",
    "        cursor.execute(query, params)\n",
    "        rows = cursor.fetchall()\n",
    "        candidate_responses_tags = [row[0] for row in rows]\n",
    "        candidate_responses = [row[1] for row in rows]\n",
    "        # for row in rows:\n",
    "        #     print(row)\n",
    "        # print(\"SQL Query:\", query)\n",
    "        # print(\"Parameters:\", params)\n",
    "        cursor.close()\n",
    "        connection.close()\n",
    "\n",
    "        # Encode input sentence and candidate responses\n",
    "        input_embedding = model.encode([input_sentence])\n",
    "        response_embedding = model.encode([candidate_responses])\n",
    "\n",
    "        response_embeddings = model.encode(candidate_responses)\n",
    "\n",
    "        # Calculate cosine similarity between input and responses\n",
    "        similarities = util.pytorch_cos_sim(input_embedding, response_embeddings)[0]\n",
    "        \n",
    "        most_similar_index = similarities.argmax().item()\n",
    "        top_n_indices = torch.argsort(similarities, descending=True)[:5]\n",
    "\n",
    "        # Randomly select 1 response from the top 5\n",
    "        selected_index = random.choice(top_n_indices)\n",
    "        selected_response_tag = candidate_responses_tags[selected_index]\n",
    "        selected_response = candidate_responses[selected_index]\n",
    "        selected_response_embedding= model.encode([selected_response])\n",
    "        similarity = util.pytorch_cos_sim(input_embedding, selected_response_embedding)\n",
    "\n",
    "        # Print the selected response\n",
    "        print(\"Selected Response:\", selected_response)\n",
    "        # Print the most similar response\n",
    "        print(\"Input sentence:\", input_sentence)\n",
    "        print(\"Most tag:\", candidate_responses_tags[most_similar_index])\n",
    "        print(\"Most similar response:\", candidate_responses[most_similar_index])\n",
    "        print(\"similarity:\",similarity)\n",
    "        result = {\n",
    "            \"input_sentence\": input_sentence,\n",
    "            \"tag\": candidate_responses_tags[most_similar_index],\n",
    "            \"content\": selected_response,\n",
    "            \"similarity\" : round(similarity.item(),5)\n",
    "        }\n",
    "        send_json_response(self, '200', result)\n",
    "\n",
    "if __name__ == '__main__':\n",
    "    try:\n",
    "        port = 8000\n",
    "        server = HTTPServer(('localhost', port), WebServerHandler)\n",
    "        server.max_body_length = 10 * 1024 * 1024  # set to 10 MB\n",
    "\n",
    "        print(f'Server running on port {port}')\n",
    "        \n",
    "        server.serve_forever()\n",
    "    except KeyboardInterrupt:\n",
    "        print('^C received, shutting down server')\n",
    "        server.socket.close()\n"
   ]
  },
  {
   "cell_type": "code",
   "execution_count": 7,
   "id": "a919bc16ba1fd336",
   "metadata": {
    "ExecuteTime": {
     "end_time": "2024-04-17T03:31:55.618Z",
     "start_time": "2024-04-17T03:31:55.241164Z"
    }
   },
   "outputs": [
    {
     "name": "stdout",
     "output_type": "stream",
     "text": [
      "Server running on port 8000\n",
      "Selected Response: Hurry up\n",
      "Input sentence: hurry\n",
      "Most tag: PUSH\n",
      "Most similar response: Hurry up\n",
      "subject response: HOST\n",
      "similarity: tensor([[0.9038]])\n"
     ]
    },
    {
     "name": "stderr",
     "output_type": "stream",
     "text": [
      "127.0.0.1 - - [17/Apr/2024 16:51:08] \"POST / HTTP/1.1\" 200 -\n",
      "----------------------------------------\n",
      "Exception occurred during processing of request from ('127.0.0.1', 53557)\n",
      "Traceback (most recent call last):\n",
      "  File \"/Users/johnny/anaconda3/lib/python3.10/socketserver.py\", line 316, in _handle_request_noblock\n",
      "    self.process_request(request, client_address)\n",
      "  File \"/Users/johnny/anaconda3/lib/python3.10/socketserver.py\", line 347, in process_request\n",
      "    self.finish_request(request, client_address)\n",
      "  File \"/Users/johnny/anaconda3/lib/python3.10/socketserver.py\", line 360, in finish_request\n",
      "    self.RequestHandlerClass(request, client_address, self)\n",
      "  File \"/Users/johnny/anaconda3/lib/python3.10/socketserver.py\", line 747, in __init__\n",
      "    self.handle()\n",
      "  File \"/Users/johnny/anaconda3/lib/python3.10/http/server.py\", line 433, in handle\n",
      "    self.handle_one_request()\n",
      "  File \"/Users/johnny/anaconda3/lib/python3.10/http/server.py\", line 421, in handle_one_request\n",
      "    method()\n",
      "  File \"/var/folders/8s/9fh2s7w53w1fks_4dpp52tyw0000gn/T/ipykernel_79946/3015243179.py\", line 93, in do_POST\n",
      "    similarities = util.pytorch_cos_sim(input_embedding, response_embeddings)[0]\n",
      "  File \"/Users/johnny/anaconda3/lib/python3.10/site-packages/sentence_transformers/util.py\", line 28, in pytorch_cos_sim\n",
      "    if not isinstance(a, torch.Tensor):\n",
      "  File \"/Users/johnny/anaconda3/lib/python3.10/site-packages/sentence_transformers/util.py\", line 51, in cos_sim\n",
      "    a = torch.tensor(a)\n",
      "RuntimeError: mat1 and mat2 shapes cannot be multiplied (1x384 and 0x1)\n",
      "----------------------------------------\n",
      "----------------------------------------\n",
      "Exception occurred during processing of request from ('127.0.0.1', 53569)\n",
      "Traceback (most recent call last):\n",
      "  File \"/Users/johnny/anaconda3/lib/python3.10/socketserver.py\", line 316, in _handle_request_noblock\n",
      "    self.process_request(request, client_address)\n",
      "  File \"/Users/johnny/anaconda3/lib/python3.10/socketserver.py\", line 347, in process_request\n",
      "    self.finish_request(request, client_address)\n",
      "  File \"/Users/johnny/anaconda3/lib/python3.10/socketserver.py\", line 360, in finish_request\n",
      "    self.RequestHandlerClass(request, client_address, self)\n",
      "  File \"/Users/johnny/anaconda3/lib/python3.10/socketserver.py\", line 747, in __init__\n",
      "    self.handle()\n",
      "  File \"/Users/johnny/anaconda3/lib/python3.10/http/server.py\", line 433, in handle\n",
      "    self.handle_one_request()\n",
      "  File \"/Users/johnny/anaconda3/lib/python3.10/http/server.py\", line 421, in handle_one_request\n",
      "    method()\n",
      "  File \"/var/folders/8s/9fh2s7w53w1fks_4dpp52tyw0000gn/T/ipykernel_79946/3015243179.py\", line 93, in do_POST\n",
      "    similarities = util.pytorch_cos_sim(input_embedding, response_embeddings)[0]\n",
      "  File \"/Users/johnny/anaconda3/lib/python3.10/site-packages/sentence_transformers/util.py\", line 28, in pytorch_cos_sim\n",
      "    if not isinstance(a, torch.Tensor):\n",
      "  File \"/Users/johnny/anaconda3/lib/python3.10/site-packages/sentence_transformers/util.py\", line 51, in cos_sim\n",
      "    a = torch.tensor(a)\n",
      "RuntimeError: mat1 and mat2 shapes cannot be multiplied (1x384 and 0x1)\n",
      "----------------------------------------\n"
     ]
    },
    {
     "name": "stdout",
     "output_type": "stream",
     "text": [
      "^C received, shutting down server\n"
     ]
    }
   ],
   "source": [
    "import random\n",
    "from http.server import BaseHTTPRequestHandler, HTTPServer\n",
    "from sentence_transformers import SentenceTransformer, util\n",
    "import mysql.connector\n",
    "import json\n",
    "import torch\n",
    "\n",
    "def connect_to_database():\n",
    "    connection = mysql.connector.connect(\n",
    "        host=\"localhost\",\n",
    "        user=\"root\",\n",
    "        password=\"3659215fF\",\n",
    "        database=\"handle_together\"\n",
    "    )\n",
    "    return connection\n",
    "\n",
    "def send_json_response(self, status_code, data):\n",
    "    # Convert status_code to integer\n",
    "    status_code = int(status_code)\n",
    "\n",
    "    # Set up the HTTP response\n",
    "    self.send_response(status_code)\n",
    "    self.send_header(\"Content-type\", \"application/json\")\n",
    "    self.end_headers()\n",
    "\n",
    "    # Convert the data to JSON\n",
    "    json_response = json.dumps(data)\n",
    "\n",
    "    # Send the JSON response\n",
    "    self.wfile.write(json_response.encode('utf-8'))\n",
    "\n",
    "class WebServerHandler(BaseHTTPRequestHandler):\n",
    "\n",
    "    def do_POST(self):       \n",
    "        # Read the content length from the request headers\n",
    "        content_length = int(self.headers['Content-Length'])\n",
    "\n",
    "        # Read the JSON data from the request body\n",
    "        post_data = self.rfile.read(content_length)\n",
    "        json_data_list = json.loads(post_data.decode('utf-8'))\n",
    "\n",
    "        if json_data_list:\n",
    "            json_data = json_data_list[0]\n",
    "            # Now json_data contains the parameters sent in the JSON format\n",
    "            tag_array = json_data.get('tag_array', [])\n",
    "            subject_array = json_data.get('subject_array', [])\n",
    "            object_array = json_data.get('object_array', [])\n",
    "            input_sentence = json_data.get('input_sentence', '')       \n",
    "            public_ind = json_data.get('public_ind', '')\n",
    "            command_ind = json_data.get('command_ind', '')\n",
    "\n",
    "        # Load the Sentence Transformer model\n",
    "        # model = SentenceTransformer(\"shibing624/text2vec-base-chinese\")\n",
    "        model = SentenceTransformer(\"paraphrase-MiniLM-L6-v2\")\n",
    "\n",
    "        # Fetch distinct subject codes from intent_type table\n",
    "        connection = connect_to_database()\n",
    "        cursor = connection.cursor()\n",
    "\n",
    "        # Use parameterized query to avoid SQL injection\n",
    "        # query = \"SELECT tag, content FROM intent_training_data WHERE tag IN ({}) AND subject IN ({})\".format(','.join(['%s' for  in tag_array]), ','.join(['%s' for  in subject_array]))\n",
    "        if tag_array and any(tag_array):\n",
    "            tag_condition = \"tag IN ({})\".format(','.join(['%s' for _ in tag_array]))\n",
    "        else:\n",
    "            tag_condition = \"1=1\"  # Always true if tag_array is empty or None\n",
    "            \n",
    "        if command_ind: \n",
    "            tag_condition2 = \"AND COMMAND_IND = '\"+command_ind+\"'\"\n",
    "        else:\n",
    "            tag_condition2 = \"\" \n",
    "        \n",
    "        query = (\"SELECT tag, content, subject FROM intent_training_data WHERE {} AND subject IN ({}) AND object IN ({}) AND PUBLIC_IND = '\"+public_ind+\"'\"+tag_condition2).format(tag_condition, ','.join(['%s' for _ in subject_array]) ,','.join(['%s' for _ in object_array]))\n",
    "        params = tag_array + subject_array + object_array\n",
    "        cursor.execute(query, params)\n",
    "        rows = cursor.fetchall()\n",
    "        candidate_responses_tags = [row[0] for row in rows]\n",
    "        candidate_responses = [row[1] for row in rows]\n",
    "        candidate_responses_subject = [row[2] for row in rows]\n",
    "        # for row in rows:\n",
    "        #     print(row)\n",
    "        # print(\"SQL Query:\", query)\n",
    "        # print(\"Parameters:\", params)\n",
    "        cursor.close()\n",
    "        connection.close()\n",
    "\n",
    "        # Encode input sentence and candidate responses\n",
    "        input_embedding = model.encode([input_sentence])\n",
    "        # response_embedding = model.encode([candidate_responses])\n",
    "\n",
    "        response_embeddings = model.encode(candidate_responses)\n",
    "\n",
    "        # Calculate cosine similarity between input and responses\n",
    "        similarities = util.pytorch_cos_sim(input_embedding, response_embeddings)[0]\n",
    "        \n",
    "        most_similar_index = similarities.argmax().item()\n",
    "        top_n_indices = torch.argsort(similarities, descending=True)[:5]\n",
    "\n",
    "        # Randomly select 1 response from the top 5\n",
    "        selected_index = random.choice(top_n_indices)\n",
    "        selected_response_tag = candidate_responses_tags[selected_index]\n",
    "        selected_response = candidate_responses[selected_index]\n",
    "        selected_response_embedding= model.encode([selected_response])\n",
    "        similarity = util.pytorch_cos_sim(input_embedding, selected_response_embedding)\n",
    "\n",
    "        # Print the selected response\n",
    "        print(\"Selected Response:\", selected_response)\n",
    "        # Print the most similar response\n",
    "        print(\"Input sentence:\", input_sentence)\n",
    "        print(\"Most tag:\", candidate_responses_tags[most_similar_index])\n",
    "        print(\"Most similar response:\", candidate_responses[most_similar_index])\n",
    "        print(\"subject response:\", candidate_responses_subject[most_similar_index])\n",
    "        \n",
    "        print(\"similarity:\",similarity)\n",
    "        result = {\n",
    "            \"input_sentence\": input_sentence,\n",
    "            \"tag\": candidate_responses_tags[most_similar_index],\n",
    "            \"content\": selected_response,\n",
    "            \"sim_content\" : candidate_responses[most_similar_index],\n",
    "            \"similarity\" : round(similarity.item(),5),\n",
    "            \"subject\" : candidate_responses_subject[most_similar_index]\n",
    "        }\n",
    "        send_json_response(self, '200', result)\n",
    "\n",
    "if __name__ == '__main__':\n",
    "    try:\n",
    "        port = 8000\n",
    "        server = HTTPServer(('localhost', port), WebServerHandler)\n",
    "        server.max_body_length = 10 * 1024 * 1024  # set to 10 MB\n",
    "\n",
    "        print(f'Server running on port {port}')\n",
    "        \n",
    "        server.serve_forever()\n",
    "    except KeyboardInterrupt:\n",
    "        print('^C received, shutting down server')\n",
    "        server.socket.close()"
   ]
  },
  {
   "cell_type": "code",
   "execution_count": 26,
   "id": "3ff4c86fac23bdc5",
   "metadata": {
    "ExecuteTime": {
     "end_time": "2023-12-26T07:25:52.563058Z",
     "start_time": "2023-12-26T07:25:51.113140Z"
    }
   },
   "outputs": [
    {
     "name": "stdout",
     "output_type": "stream",
     "text": [
      "[]\n"
     ]
    }
   ],
   "source": [
    "import spacy\n",
    "\n",
    "def extract_location_with_spacy(text):\n",
    "    nlp = spacy.load(\"en_core_web_sm\")\n",
    "    doc = nlp(text)\n",
    "\n",
    "    # Extract locations from the spaCy document\n",
    "    locations = [ent.text for ent in doc.ents if ent.label_ == \"ORG\"]\n",
    "\n",
    "    return locations\n",
    "\n",
    "text = \"I work in Kooppi , this is my favorite city.\"\n",
    "result = extract_location_with_spacy(text)\n",
    "print(result)\n"
   ]
  },
  {
   "cell_type": "code",
   "execution_count": 30,
   "id": "9f453f6d61c1c857",
   "metadata": {
    "ExecuteTime": {
     "end_time": "2024-04-17T03:20:06.864905Z",
     "start_time": "2024-04-17T03:19:56.842398Z"
    }
   },
   "outputs": [
    {
     "name": "stdout",
     "output_type": "stream",
     "text": [
      "Requirement already satisfied: transformers in /Users/johnny/anaconda3/lib/python3.10/site-packages (4.39.3)\r\n",
      "Requirement already satisfied: filelock in /Users/johnny/anaconda3/lib/python3.10/site-packages (from transformers) (3.9.0)\r\n",
      "Requirement already satisfied: huggingface-hub<1.0,>=0.19.3 in /Users/johnny/anaconda3/lib/python3.10/site-packages (from transformers) (0.22.2)\r\n",
      "Requirement already satisfied: numpy>=1.17 in /Users/johnny/anaconda3/lib/python3.10/site-packages (from transformers) (1.23.5)\r\n",
      "Requirement already satisfied: packaging>=20.0 in /Users/johnny/anaconda3/lib/python3.10/site-packages (from transformers) (22.0)\r\n",
      "Requirement already satisfied: pyyaml>=5.1 in /Users/johnny/anaconda3/lib/python3.10/site-packages (from transformers) (6.0)\r\n",
      "Requirement already satisfied: regex!=2019.12.17 in /Users/johnny/anaconda3/lib/python3.10/site-packages (from transformers) (2022.7.9)\r\n",
      "Requirement already satisfied: requests in /Users/johnny/anaconda3/lib/python3.10/site-packages (from transformers) (2.28.1)\r\n",
      "Requirement already satisfied: tokenizers<0.19,>=0.14 in /Users/johnny/anaconda3/lib/python3.10/site-packages (from transformers) (0.15.2)\r\n",
      "Requirement already satisfied: safetensors>=0.4.1 in /Users/johnny/anaconda3/lib/python3.10/site-packages (from transformers) (0.4.3)\r\n",
      "Requirement already satisfied: tqdm>=4.27 in /Users/johnny/anaconda3/lib/python3.10/site-packages (from transformers) (4.64.1)\r\n",
      "Requirement already satisfied: fsspec>=2023.5.0 in /Users/johnny/anaconda3/lib/python3.10/site-packages (from huggingface-hub<1.0,>=0.19.3->transformers) (2023.10.0)\r\n",
      "Requirement already satisfied: typing-extensions>=3.7.4.3 in /Users/johnny/anaconda3/lib/python3.10/site-packages (from huggingface-hub<1.0,>=0.19.3->transformers) (4.9.0)\r\n",
      "Requirement already satisfied: charset-normalizer<3,>=2 in /Users/johnny/anaconda3/lib/python3.10/site-packages (from requests->transformers) (2.0.4)\r\n",
      "Requirement already satisfied: idna<4,>=2.5 in /Users/johnny/anaconda3/lib/python3.10/site-packages (from requests->transformers) (3.4)\r\n",
      "Requirement already satisfied: urllib3<1.27,>=1.21.1 in /Users/johnny/anaconda3/lib/python3.10/site-packages (from requests->transformers) (1.26.14)\r\n",
      "Requirement already satisfied: certifi>=2017.4.17 in /Users/johnny/anaconda3/lib/python3.10/site-packages (from requests->transformers) (2022.12.7)\r\n",
      "Note: you may need to restart the kernel to use updated packages.\n"
     ]
    }
   ],
   "source": [
    "pip install --upgrade transformers"
   ]
  },
  {
   "cell_type": "code",
   "execution_count": 42,
   "id": "4513089785c5c598",
   "metadata": {
    "ExecuteTime": {
     "end_time": "2024-04-17T03:30:31.697502Z",
     "start_time": "2024-04-17T03:30:28.817626Z"
    }
   },
   "outputs": [
    {
     "name": "stdout",
     "output_type": "stream",
     "text": [
      "Package                       Version\r\n",
      "----------------------------- -----------\r\n",
      "absl-py                       1.3.0\r\n",
      "aiohttp                       3.8.3\r\n",
      "aiosignal                     1.2.0\r\n",
      "alabaster                     0.7.12\r\n",
      "anaconda-client               1.11.1\r\n",
      "anaconda-navigator            2.4.0\r\n",
      "anaconda-project              0.11.1\r\n",
      "annotated-types               0.6.0\r\n",
      "anyio                         3.5.0\r\n",
      "appdirs                       1.4.4\r\n",
      "applaunchservices             0.3.0\r\n",
      "appnope                       0.1.2\r\n",
      "appscript                     1.1.2\r\n",
      "argon2-cffi                   21.3.0\r\n",
      "argon2-cffi-bindings          21.2.0\r\n",
      "array-record                  0.4.1\r\n",
      "arrow                         1.2.3\r\n",
      "astroid                       2.14.2\r\n",
      "astropy                       5.1\r\n",
      "asttokens                     2.0.5\r\n",
      "astunparse                    1.6.3\r\n",
      "async-timeout                 4.0.2\r\n",
      "atomicwrites                  1.4.0\r\n",
      "attrs                         22.1.0\r\n",
      "Automat                       20.2.0\r\n",
      "autopep8                      1.6.0\r\n",
      "Babel                         2.11.0\r\n",
      "backcall                      0.2.0\r\n",
      "backports.functools-lru-cache 1.6.4\r\n",
      "backports.tempfile            1.0\r\n",
      "backports.weakref             1.0.post1\r\n",
      "bcrypt                        3.2.0\r\n",
      "beautifulsoup4                4.11.1\r\n",
      "binaryornot                   0.4.4\r\n",
      "bing-image-downloader         1.1.2\r\n",
      "black                         22.6.0\r\n",
      "bleach                        4.1.0\r\n",
      "blinker                       1.4\r\n",
      "blis                          0.7.11\r\n",
      "bokeh                         2.4.3\r\n",
      "boltons                       23.0.0\r\n",
      "Bottleneck                    1.3.5\r\n",
      "brotlipy                      0.7.0\r\n",
      "cachetools                    4.2.2\r\n",
      "catalogue                     2.0.10\r\n",
      "certifi                       2022.12.7\r\n",
      "cffi                          1.15.1\r\n",
      "chardet                       4.0.0\r\n",
      "charset-normalizer            2.0.4\r\n",
      "click                         8.0.4\r\n",
      "cloudpathlib                  0.16.0\r\n",
      "cloudpickle                   2.0.0\r\n",
      "clyent                        1.2.2\r\n",
      "colorama                      0.4.6\r\n",
      "colorcet                      3.0.1\r\n",
      "coloredlogs                   15.0.1\r\n",
      "comm                          0.1.2\r\n",
      "conda                         23.3.1\r\n",
      "conda-build                   3.23.3\r\n",
      "conda-content-trust           0.1.3\r\n",
      "conda-pack                    0.6.0\r\n",
      "conda-package-handling        2.0.2\r\n",
      "conda_package_streaming       0.7.0\r\n",
      "conda-repo-cli                1.0.27\r\n",
      "conda-token                   0.4.0\r\n",
      "conda-verify                  3.4.2\r\n",
      "confection                    0.1.4\r\n",
      "constantly                    15.1.0\r\n",
      "contourpy                     1.0.5\r\n",
      "cookiecutter                  1.7.3\r\n",
      "cryptography                  39.0.1\r\n",
      "cssselect                     1.1.0\r\n",
      "cycler                        0.11.0\r\n",
      "cymem                         2.0.8\r\n",
      "cytoolz                       0.12.0\r\n",
      "dask                          2022.7.0\r\n",
      "datasets                      2.14.6\r\n",
      "datashader                    0.14.4\r\n",
      "datashape                     0.5.4\r\n",
      "debugpy                       1.5.1\r\n",
      "decorator                     5.1.1\r\n",
      "defusedxml                    0.7.1\r\n",
      "diff-match-patch              20200713\r\n",
      "dill                          0.3.7\r\n",
      "distributed                   2022.7.0\r\n",
      "dm-tree                       0.1.8\r\n",
      "docstring-to-markdown         0.11\r\n",
      "docutils                      0.18.1\r\n",
      "en-core-web-sm                3.7.1\r\n",
      "entrypoints                   0.4\r\n",
      "et-xmlfile                    1.1.0\r\n",
      "etils                         1.5.2\r\n",
      "executing                     0.8.3\r\n",
      "fastjsonschema                2.16.2\r\n",
      "filelock                      3.9.0\r\n",
      "flake8                        6.0.0\r\n",
      "Flask                         2.2.2\r\n",
      "flatbuffers                   2.0\r\n",
      "flit_core                     3.6.0\r\n",
      "fonttools                     4.25.0\r\n",
      "frozenlist                    1.3.3\r\n",
      "fsspec                        2023.10.0\r\n",
      "future                        0.18.3\r\n",
      "gast                          0.4.0\r\n",
      "gensim                        4.3.0\r\n",
      "glob2                         0.7\r\n",
      "gmpy2                         2.1.2\r\n",
      "google-auth                   2.6.0\r\n",
      "google-auth-oauthlib          0.4.4\r\n",
      "google-pasta                  0.2.0\r\n",
      "googleapis-common-protos      1.61.0\r\n",
      "greenlet                      2.0.1\r\n",
      "grpcio                        1.42.0\r\n",
      "h5py                          3.7.0\r\n",
      "HeapDict                      1.0.1\r\n",
      "holoviews                     1.15.4\r\n",
      "huggingface-hub               0.22.2\r\n",
      "humanfriendly                 10.0\r\n",
      "hvplot                        0.8.2\r\n",
      "hyperlink                     21.0.0\r\n",
      "idna                          3.4\r\n",
      "imagecodecs                   2021.8.26\r\n",
      "imageio                       2.26.0\r\n",
      "imagesize                     1.4.1\r\n",
      "imbalanced-learn              0.10.1\r\n",
      "importlib-metadata            4.11.3\r\n",
      "importlib-resources           6.1.0\r\n",
      "incremental                   21.3.0\r\n",
      "inflection                    0.5.1\r\n",
      "iniconfig                     1.1.1\r\n",
      "intake                        0.6.7\r\n",
      "intervaltree                  3.1.0\r\n",
      "ipykernel                     6.19.2\r\n",
      "ipython                       8.10.0\r\n",
      "ipython-genutils              0.2.0\r\n",
      "ipywidgets                    7.6.5\r\n",
      "isort                         5.9.3\r\n",
      "itemadapter                   0.3.0\r\n",
      "itemloaders                   1.0.4\r\n",
      "itsdangerous                  2.0.1\r\n",
      "jedi                          0.18.1\r\n",
      "jellyfish                     0.9.0\r\n",
      "jieba                         0.42.1\r\n",
      "Jinja2                        3.1.2\r\n",
      "jinja2-time                   0.2.0\r\n",
      "jmespath                      0.10.0\r\n",
      "joblib                        1.1.1\r\n",
      "json5                         0.9.6\r\n",
      "jsonpatch                     1.32\r\n",
      "jsonpointer                   2.1\r\n",
      "jsonschema                    4.17.3\r\n",
      "jupyter                       1.0.0\r\n",
      "jupyter_client                7.3.4\r\n",
      "jupyter-console               6.6.2\r\n",
      "jupyter_core                  5.2.0\r\n",
      "jupyter-server                1.23.4\r\n",
      "jupyterlab                    3.5.3\r\n",
      "jupyterlab-pygments           0.1.2\r\n",
      "jupyterlab_server             2.19.0\r\n",
      "jupyterlab-widgets            1.0.0\r\n",
      "keras                         2.10.0\r\n",
      "Keras-Preprocessing           1.1.2\r\n",
      "keyring                       23.4.0\r\n",
      "kiwisolver                    1.4.4\r\n",
      "langcodes                     3.3.0\r\n",
      "lazy-object-proxy             1.6.0\r\n",
      "libarchive-c                  2.9\r\n",
      "libclang                      16.0.6\r\n",
      "llvmlite                      0.39.1\r\n",
      "locket                        1.0.0\r\n",
      "loguru                        0.7.2\r\n",
      "lxml                          4.9.1\r\n",
      "lz4                           3.1.3\r\n",
      "Markdown                      3.4.1\r\n",
      "MarkupSafe                    2.1.1\r\n",
      "matplotlib                    3.7.0\r\n",
      "matplotlib-inline             0.1.6\r\n",
      "mccabe                        0.7.0\r\n",
      "mistune                       0.8.4\r\n",
      "mock                          4.0.3\r\n",
      "mpmath                        1.2.1\r\n",
      "msgpack                       1.0.3\r\n",
      "multidict                     6.0.2\r\n",
      "multipledispatch              0.6.0\r\n",
      "multiprocess                  0.70.15\r\n",
      "munkres                       1.1.4\r\n",
      "murmurhash                    1.0.10\r\n",
      "mypy-extensions               0.4.3\r\n",
      "mysql-connector-python        8.1.0\r\n",
      "navigator-updater             0.3.0\r\n",
      "nbclassic                     0.5.2\r\n",
      "nbclient                      0.5.13\r\n",
      "nbconvert                     6.5.4\r\n",
      "nbformat                      5.7.0\r\n",
      "nest-asyncio                  1.5.6\r\n",
      "networkx                      2.8.4\r\n",
      "nltk                          3.7\r\n",
      "notebook                      6.5.2\r\n",
      "notebook_shim                 0.2.2\r\n",
      "numba                         0.56.4\r\n",
      "numexpr                       2.8.4\r\n",
      "numpy                         1.23.5\r\n",
      "numpydoc                      1.5.0\r\n",
      "oauthlib                      3.2.2\r\n",
      "onnxruntime                   1.16.0\r\n",
      "opencv-python                 4.7.0.72\r\n",
      "opencv-python-headless        4.8.1.78\r\n",
      "openpyxl                      3.0.10\r\n",
      "opt-einsum                    3.3.0\r\n",
      "packaging                     22.0\r\n",
      "pandas                        1.5.3\r\n",
      "pandocfilters                 1.5.0\r\n",
      "panel                         0.14.3\r\n",
      "param                         1.12.3\r\n",
      "parsel                        1.6.0\r\n",
      "parso                         0.8.3\r\n",
      "partd                         1.2.0\r\n",
      "pathlib                       1.0.1\r\n",
      "pathspec                      0.10.3\r\n",
      "patsy                         0.5.3\r\n",
      "pep8                          1.7.1\r\n",
      "pexpect                       4.8.0\r\n",
      "pickleshare                   0.7.5\r\n",
      "Pillow                        9.4.0\r\n",
      "pip                           24.0\r\n",
      "pkginfo                       1.8.3\r\n",
      "platformdirs                  2.5.2\r\n",
      "plotly                        5.9.0\r\n",
      "pluggy                        1.0.0\r\n",
      "ply                           3.11\r\n",
      "pooch                         1.4.0\r\n",
      "poyo                          0.5.0\r\n",
      "preshed                       3.0.9\r\n",
      "prometheus-client             0.14.1\r\n",
      "promise                       2.3\r\n",
      "prompt-toolkit                3.0.36\r\n",
      "Protego                       0.1.16\r\n",
      "protobuf                      4.21.12\r\n",
      "psutil                        5.9.0\r\n",
      "ptyprocess                    0.7.0\r\n",
      "pure-eval                     0.2.2\r\n",
      "py                            1.11.0\r\n",
      "pyarrow                       14.0.1\r\n",
      "pyasn1                        0.4.8\r\n",
      "pyasn1-modules                0.2.8\r\n",
      "pycodestyle                   2.10.0\r\n",
      "pycosat                       0.6.4\r\n",
      "pycparser                     2.21\r\n",
      "pyct                          0.5.0\r\n",
      "pycurl                        7.45.1\r\n",
      "pydantic                      2.5.3\r\n",
      "pydantic_core                 2.14.6\r\n",
      "PyDispatcher                  2.0.5\r\n",
      "pydocstyle                    6.3.0\r\n",
      "pyerfa                        2.0.0\r\n",
      "pyflakes                      3.0.1\r\n",
      "Pygments                      2.11.2\r\n",
      "PyHamcrest                    2.0.2\r\n",
      "PyJWT                         2.4.0\r\n",
      "pylint                        2.16.2\r\n",
      "pylint-venv                   2.3.0\r\n",
      "pyls-spyder                   0.4.0\r\n",
      "PyMatting                     1.1.10\r\n",
      "pyobjc-core                   9.0\r\n",
      "pyobjc-framework-Cocoa        9.0\r\n",
      "pyobjc-framework-CoreServices 9.0\r\n",
      "pyobjc-framework-FSEvents     9.0\r\n",
      "pyodbc                        4.0.34\r\n",
      "pyOpenSSL                     23.0.0\r\n",
      "pyparsing                     3.0.9\r\n",
      "PyQt5-sip                     12.11.0\r\n",
      "pyrsistent                    0.18.0\r\n",
      "PySocks                       1.7.1\r\n",
      "pytest                        7.1.2\r\n",
      "python-dateutil               2.8.2\r\n",
      "python-lsp-black              1.2.1\r\n",
      "python-lsp-jsonrpc            1.0.0\r\n",
      "python-lsp-server             1.7.1\r\n",
      "python-slugify                5.0.2\r\n",
      "python-snappy                 0.6.1\r\n",
      "pytoolconfig                  1.2.5\r\n",
      "pytz                          2022.7\r\n",
      "pyviz-comms                   2.0.2\r\n",
      "PyWavelets                    1.4.1\r\n",
      "PyYAML                        6.0\r\n",
      "pyzmq                         23.2.0\r\n",
      "QDarkStyle                    3.0.2\r\n",
      "qstylizer                     0.2.2\r\n",
      "QtAwesome                     1.2.2\r\n",
      "qtconsole                     5.4.0\r\n",
      "QtPy                          2.2.0\r\n",
      "queuelib                      1.5.0\r\n",
      "regex                         2022.7.9\r\n",
      "rembg                         2.0.50\r\n",
      "requests                      2.28.1\r\n",
      "requests-file                 1.5.1\r\n",
      "requests-oauthlib             1.3.0\r\n",
      "rope                          1.7.0\r\n",
      "rsa                           4.7.2\r\n",
      "Rtree                         1.0.1\r\n",
      "ruamel.yaml                   0.17.21\r\n",
      "ruamel.yaml.clib              0.2.6\r\n",
      "ruamel-yaml-conda             0.17.21\r\n",
      "safetensors                   0.4.3\r\n",
      "scikit-image                  0.19.3\r\n",
      "scikit-learn                  1.2.2\r\n",
      "scipy                         1.10.0\r\n",
      "Scrapy                        2.8.0\r\n",
      "seaborn                       0.12.2\r\n",
      "Send2Trash                    1.8.0\r\n",
      "sentence-transformers         2.6.1\r\n",
      "sentencepiece                 0.1.99\r\n",
      "service-identity              18.1.0\r\n",
      "setuptools                    65.6.3\r\n",
      "sip                           6.6.2\r\n",
      "six                           1.16.0\r\n",
      "smart-open                    5.2.1\r\n",
      "sniffio                       1.2.0\r\n",
      "snowballstemmer               2.2.0\r\n",
      "sortedcontainers              2.4.0\r\n",
      "soupsieve                     2.3.2.post1\r\n",
      "spacy                         3.7.2\r\n",
      "spacy-legacy                  3.0.12\r\n",
      "spacy-loggers                 1.0.5\r\n",
      "Sphinx                        5.0.2\r\n",
      "sphinxcontrib-applehelp       1.0.2\r\n",
      "sphinxcontrib-devhelp         1.0.2\r\n",
      "sphinxcontrib-htmlhelp        2.0.0\r\n",
      "sphinxcontrib-jsmath          1.0.1\r\n",
      "sphinxcontrib-qthelp          1.0.3\r\n",
      "sphinxcontrib-serializinghtml 1.1.5\r\n",
      "spyder                        5.4.1\r\n",
      "spyder-kernels                2.4.1\r\n",
      "SQLAlchemy                    1.4.39\r\n",
      "srsly                         2.4.8\r\n",
      "srt                           3.5.3\r\n",
      "stack-data                    0.2.0\r\n",
      "statsmodels                   0.13.5\r\n",
      "sympy                         1.11.1\r\n",
      "tables                        3.7.0\r\n",
      "tabulate                      0.8.10\r\n",
      "TBB                           0.2\r\n",
      "tblib                         1.7.0\r\n",
      "tenacity                      8.0.1\r\n",
      "tensorboard                   2.10.0\r\n",
      "tensorboard-data-server       0.6.1\r\n",
      "tensorboard-plugin-wit        1.6.0\r\n",
      "tensorflow                    2.10.0\r\n",
      "tensorflow-datasets           4.9.3\r\n",
      "tensorflow-estimator          2.10.0\r\n",
      "tensorflow-io-gcs-filesystem  0.35.0\r\n",
      "tensorflow-metadata           1.14.0\r\n",
      "termcolor                     2.1.0\r\n",
      "terminado                     0.17.1\r\n",
      "text-unidecode                1.3\r\n",
      "text2vec                      1.2.9\r\n",
      "textdistance                  4.2.1\r\n",
      "thinc                         8.2.2\r\n",
      "threadpoolctl                 2.2.0\r\n",
      "three-merge                   0.1.1\r\n",
      "tifffile                      2021.7.2\r\n",
      "tinycss2                      1.2.1\r\n",
      "tldextract                    3.2.0\r\n",
      "tokenizers                    0.15.2\r\n",
      "toml                          0.10.2\r\n",
      "tomli                         2.0.1\r\n",
      "tomlkit                       0.11.1\r\n",
      "toolz                         0.12.0\r\n",
      "torch                         2.1.0\r\n",
      "torchaudio                    2.1.0\r\n",
      "torchvision                   0.16.0\r\n",
      "tornado                       6.1\r\n",
      "tqdm                          4.64.1\r\n",
      "traitlets                     5.7.1\r\n",
      "transformers                  4.39.3\r\n",
      "Twisted                       22.2.0\r\n",
      "typer                         0.9.0\r\n",
      "typing_extensions             4.9.0\r\n",
      "ujson                         5.4.0\r\n",
      "Unidecode                     1.2.0\r\n",
      "urllib3                       1.26.14\r\n",
      "vosk                          0.3.44\r\n",
      "w3lib                         1.21.0\r\n",
      "wasabi                        1.1.2\r\n",
      "watchdog                      2.1.6\r\n",
      "wcwidth                       0.2.5\r\n",
      "weasel                        0.3.4\r\n",
      "webencodings                  0.5.1\r\n",
      "websocket-client              0.58.0\r\n",
      "websockets                    12.0\r\n",
      "Werkzeug                      2.2.2\r\n",
      "whatthepatch                  1.0.2\r\n",
      "wheel                         0.35.1\r\n",
      "widgetsnbextension            3.5.2\r\n",
      "wrapt                         1.14.1\r\n",
      "wurlitzer                     3.0.2\r\n",
      "xarray                        2022.11.0\r\n",
      "xlwings                       0.29.1\r\n",
      "xxhash                        3.4.1\r\n",
      "yapf                          0.31.0\r\n",
      "yarl                          1.8.1\r\n",
      "zict                          2.1.0\r\n",
      "zipp                          3.11.0\r\n",
      "zope.interface                5.4.0\r\n",
      "zstandard                     0.19.0\r\n",
      "Note: you may need to restart the kernel to use updated packages.\n"
     ]
    }
   ],
   "source": [
    "pip list"
   ]
  },
  {
   "cell_type": "code",
   "execution_count": 28,
   "id": "f7ad4eb3bfc3345c",
   "metadata": {
    "ExecuteTime": {
     "end_time": "2024-04-17T03:15:42.970398Z",
     "start_time": "2024-04-17T03:15:29.610188Z"
    }
   },
   "outputs": [
    {
     "name": "stdout",
     "output_type": "stream",
     "text": [
      "Requirement already satisfied: pip in /Users/johnny/anaconda3/lib/python3.10/site-packages (23.3.2)\r\n",
      "Collecting pip\r\n",
      "  Downloading pip-24.0-py3-none-any.whl.metadata (3.6 kB)\r\n",
      "Downloading pip-24.0-py3-none-any.whl (2.1 MB)\r\n",
      "\u001b[2K   \u001b[90m━━━━━━━━━━━━━━━━━━━━━━━━━━━━━━━━━━━━━━━━\u001b[0m \u001b[32m2.1/2.1 MB\u001b[0m \u001b[31m1.2 MB/s\u001b[0m eta \u001b[36m0:00:00\u001b[0m00:01\u001b[0m00:01\u001b[0m0m\r\n",
      "\u001b[?25hInstalling collected packages: pip\r\n",
      "  Attempting uninstall: pip\r\n",
      "    Found existing installation: pip 23.3.2\r\n",
      "    Uninstalling pip-23.3.2:\r\n",
      "      Successfully uninstalled pip-23.3.2\r\n",
      "Successfully installed pip-24.0\r\n",
      "Note: you may need to restart the kernel to use updated packages.\n"
     ]
    }
   ],
   "source": [
    "pip install --upgrade pip"
   ]
  },
  {
   "cell_type": "code",
   "execution_count": 41,
   "id": "f968104231561e68",
   "metadata": {
    "ExecuteTime": {
     "end_time": "2024-04-17T03:30:04.826238Z",
     "start_time": "2024-04-17T03:30:01.769657Z"
    }
   },
   "outputs": [
    {
     "name": "stdout",
     "output_type": "stream",
     "text": [
      "Unexpected exception formatting exception. Falling back to standard exception\n"
     ]
    },
    {
     "name": "stderr",
     "output_type": "stream",
     "text": [
      "Traceback (most recent call last):\n",
      "  File \"/Users/johnny/anaconda3/lib/python3.10/site-packages/IPython/core/interactiveshell.py\", line 3460, in run_code\n",
      "    exec(code_obj, self.user_global_ns, self.user_ns)\n",
      "  File \"/var/folders/8s/9fh2s7w53w1fks_4dpp52tyw0000gn/T/ipykernel_19161/2887606915.py\", line 1, in <module>\n",
      "    from sentence_transformers import SentenceTransformer, util\n",
      "  File \"/Users/johnny/anaconda3/lib/python3.10/site-packages/sentence_transformers/__init__.py\", line 3, in <module>\n",
      "    from .datasets import SentencesDataset, ParallelSentencesDataset\n",
      "  File \"/Users/johnny/anaconda3/lib/python3.10/site-packages/sentence_transformers/datasets/__init__.py\", line 3, in <module>\n",
      "    from .ParallelSentencesDataset import ParallelSentencesDataset\n",
      "  File \"/Users/johnny/anaconda3/lib/python3.10/site-packages/sentence_transformers/datasets/ParallelSentencesDataset.py\", line 4, in <module>\n",
      "    from .. import SentenceTransformer\n",
      "  File \"/Users/johnny/anaconda3/lib/python3.10/site-packages/sentence_transformers/SentenceTransformer.py\", line 10, in <module>\n",
      "    import transformers\n",
      "  File \"/Users/johnny/anaconda3/lib/python3.10/site-packages/transformers/__init__.py\", line 26, in <module>\n",
      "    from . import dependency_versions_check\n",
      "  File \"/Users/johnny/anaconda3/lib/python3.10/site-packages/transformers/dependency_versions_check.py\", line 16, in <module>\n",
      "    from .utils.versions import require_version, require_version_core\n",
      "  File \"/Users/johnny/anaconda3/lib/python3.10/site-packages/transformers/utils/__init__.py\", line 33, in <module>\n",
      "    from .generic import (\n",
      "  File \"/Users/johnny/anaconda3/lib/python3.10/site-packages/transformers/utils/generic.py\", line 31, in <module>\n",
      "    from .import_utils import (\n",
      "ImportError: cannot import name 'is_mlx_available' from 'transformers.utils.import_utils' (/Users/johnny/anaconda3/lib/python3.10/site-packages/transformers/utils/import_utils.py)\n",
      "\n",
      "During handling of the above exception, another exception occurred:\n",
      "\n",
      "Traceback (most recent call last):\n",
      "  File \"/Users/johnny/anaconda3/lib/python3.10/site-packages/IPython/core/interactiveshell.py\", line 2057, in showtraceback\n",
      "    stb = self.InteractiveTB.structured_traceback(\n",
      "  File \"/Users/johnny/anaconda3/lib/python3.10/site-packages/IPython/core/ultratb.py\", line 1118, in structured_traceback\n",
      "    return FormattedTB.structured_traceback(\n",
      "  File \"/Users/johnny/anaconda3/lib/python3.10/site-packages/IPython/core/ultratb.py\", line 1012, in structured_traceback\n",
      "    return VerboseTB.structured_traceback(\n",
      "  File \"/Users/johnny/anaconda3/lib/python3.10/site-packages/IPython/core/ultratb.py\", line 865, in structured_traceback\n",
      "    formatted_exception = self.format_exception_as_a_whole(etype, evalue, etb, number_of_lines_of_context,\n",
      "  File \"/Users/johnny/anaconda3/lib/python3.10/site-packages/IPython/core/ultratb.py\", line 818, in format_exception_as_a_whole\n",
      "    frames.append(self.format_record(r))\n",
      "  File \"/Users/johnny/anaconda3/lib/python3.10/site-packages/IPython/core/ultratb.py\", line 736, in format_record\n",
      "    result += ''.join(_format_traceback_lines(frame_info.lines, Colors, self.has_colors, lvals))\n",
      "  File \"/Users/johnny/anaconda3/lib/python3.10/site-packages/stack_data/utils.py\", line 145, in cached_property_wrapper\n",
      "    value = obj.__dict__[self.func.__name__] = self.func(obj)\n",
      "  File \"/Users/johnny/anaconda3/lib/python3.10/site-packages/stack_data/core.py\", line 698, in lines\n",
      "    pieces = self.included_pieces\n",
      "  File \"/Users/johnny/anaconda3/lib/python3.10/site-packages/stack_data/utils.py\", line 145, in cached_property_wrapper\n",
      "    value = obj.__dict__[self.func.__name__] = self.func(obj)\n",
      "  File \"/Users/johnny/anaconda3/lib/python3.10/site-packages/stack_data/core.py\", line 649, in included_pieces\n",
      "    pos = scope_pieces.index(self.executing_piece)\n",
      "  File \"/Users/johnny/anaconda3/lib/python3.10/site-packages/stack_data/utils.py\", line 145, in cached_property_wrapper\n",
      "    value = obj.__dict__[self.func.__name__] = self.func(obj)\n",
      "  File \"/Users/johnny/anaconda3/lib/python3.10/site-packages/stack_data/core.py\", line 628, in executing_piece\n",
      "    return only(\n",
      "  File \"/Users/johnny/anaconda3/lib/python3.10/site-packages/executing/executing.py\", line 164, in only\n",
      "    raise NotOneValueFound('Expected one value, found 0')\n",
      "executing.executing.NotOneValueFound: Expected one value, found 0\n"
     ]
    }
   ],
   "source": [
    "from sentence_transformers import SentenceTransformer, util\n"
   ]
  },
  {
   "cell_type": "code",
   "execution_count": null,
   "id": "a6e7fcbd5b4b623e",
   "metadata": {},
   "outputs": [
    {
     "name": "stdout",
     "output_type": "stream",
     "text": [
      "Server running on port 8000\n",
      "1\n",
      "Selected Response: Let's pick up the pace, time's ticking.\n",
      "\n",
      "Input sentence: this is a day\n",
      "Most tag: PUSH\n",
      "Most similar response: Accelerate, my friend. We haven't got all day.\n",
      "\n",
      "subject response: BOT_MAFIA\n",
      "similarity: tensor([[0.3990]])\n"
     ]
    },
    {
     "name": "stderr",
     "output_type": "stream",
     "text": [
      "127.0.0.1 - - [19/Apr/2024 16:43:25] \"POST / HTTP/1.1\" 200 -\n"
     ]
    },
    {
     "name": "stdout",
     "output_type": "stream",
     "text": [
      "1\n",
      "Selected Response: Sure thing, I'm on board with that.\n",
      "\n",
      "Input sentence: this is a day\n",
      "Most tag: APPROVE\n",
      "Most similar response: Alright, I'm giving you the green light.\n",
      "\n",
      "subject response: BOT_MAFIA\n",
      "similarity: tensor([[0.1565]])\n"
     ]
    },
    {
     "name": "stderr",
     "output_type": "stream",
     "text": [
      "127.0.0.1 - - [19/Apr/2024 16:43:27] \"POST / HTTP/1.1\" 200 -\n"
     ]
    },
    {
     "name": "stdout",
     "output_type": "stream",
     "text": [
      "1\n",
      "Selected Response: Hi\n",
      "Input sentence: hi lou\n",
      "Most tag: CALL\n",
      "Most similar response: Hi\n",
      "subject response: BOT002\n",
      "similarity: tensor([[0.7911]])\n"
     ]
    },
    {
     "name": "stderr",
     "output_type": "stream",
     "text": [
      "127.0.0.1 - - [19/Apr/2024 16:43:29] \"POST / HTTP/1.1\" 200 -\n"
     ]
    },
    {
     "name": "stdout",
     "output_type": "stream",
     "text": [
      "1\n",
      "Selected Response: Salute! What's the scoop?\n",
      "\n",
      "Input sentence: hi lou\n",
      "Most tag: CALL_BACK\n",
      "Most similar response: Hey there, what's the word?\n",
      "\n",
      "subject response: BOT_MAFIA\n",
      "similarity: tensor([[0.2171]])\n"
     ]
    },
    {
     "name": "stderr",
     "output_type": "stream",
     "text": [
      "127.0.0.1 - - [19/Apr/2024 16:43:31] \"POST / HTTP/1.1\" 200 -\n"
     ]
    },
    {
     "name": "stdout",
     "output_type": "stream",
     "text": [
      "1\n",
      "Selected Response: Hi\n",
      "Input sentence: hello\n",
      "Most tag: CALL\n",
      "Most similar response: Hi\n",
      "subject response: BOT002\n",
      "similarity: tensor([[0.7728]])\n"
     ]
    },
    {
     "name": "stderr",
     "output_type": "stream",
     "text": [
      "127.0.0.1 - - [19/Apr/2024 16:43:32] \"POST / HTTP/1.1\" 200 -\n"
     ]
    },
    {
     "name": "stdout",
     "output_type": "stream",
     "text": [
      "1\n",
      "Selected Response: Hey there, what's the word?\n",
      "\n",
      "Input sentence: hello\n",
      "Most tag: CALL_BACK\n",
      "Most similar response: Salute! What's the scoop?\n",
      "\n",
      "subject response: BOT_MAFIA\n",
      "similarity: tensor([[0.3343]])\n"
     ]
    },
    {
     "name": "stderr",
     "output_type": "stream",
     "text": [
      "127.0.0.1 - - [19/Apr/2024 16:43:33] \"POST / HTTP/1.1\" 200 -\n"
     ]
    },
    {
     "name": "stdout",
     "output_type": "stream",
     "text": [
      "1\n",
      "Selected Response: Hi\n",
      "Input sentence: hello\n",
      "Most tag: CALL\n",
      "Most similar response: Hello\n",
      "subject response: BOT001\n",
      "similarity: tensor([[0.7728]])\n"
     ]
    },
    {
     "name": "stderr",
     "output_type": "stream",
     "text": [
      "127.0.0.1 - - [19/Apr/2024 16:44:10] \"POST / HTTP/1.1\" 200 -\n"
     ]
    },
    {
     "name": "stdout",
     "output_type": "stream",
     "text": [
      "1\n",
      "Selected Response: Hey there, what's the word?\n",
      "\n",
      "Input sentence: hello\n",
      "Most tag: CALL_BACK\n",
      "Most similar response: Salute! What's the scoop?\n",
      "\n",
      "subject response: BOT_MAFIA\n",
      "similarity: tensor([[0.3343]])\n"
     ]
    },
    {
     "name": "stderr",
     "output_type": "stream",
     "text": [
      "127.0.0.1 - - [19/Apr/2024 16:44:11] \"POST / HTTP/1.1\" 200 -\n"
     ]
    },
    {
     "name": "stdout",
     "output_type": "stream",
     "text": [
      "1\n",
      "Selected Response: Time to unwind.\n",
      "\n",
      "Input sentence: the summer time\n",
      "Most tag: REST\n",
      "Most similar response: Time to unwind.\n",
      "\n",
      "subject response: BOT_CARTOON\n",
      "similarity: tensor([[0.4145]])\n"
     ]
    },
    {
     "name": "stderr",
     "output_type": "stream",
     "text": [
      "127.0.0.1 - - [19/Apr/2024 16:44:36] \"POST / HTTP/1.1\" 200 -\n"
     ]
    },
    {
     "name": "stdout",
     "output_type": "stream",
     "text": [
      "1\n",
      "Selected Response: You've put in the effort, go get some rest.\n",
      "\n",
      "Input sentence: the summer time\n",
      "Most tag: REST\n",
      "Most similar response: Time to relax, you've done your part.\n",
      "\n",
      "subject response: BOT_MAFIA\n",
      "similarity: tensor([[0.0924]])\n"
     ]
    },
    {
     "name": "stderr",
     "output_type": "stream",
     "text": [
      "127.0.0.1 - - [19/Apr/2024 16:44:37] \"POST / HTTP/1.1\" 200 -\n"
     ]
    },
    {
     "name": "stdout",
     "output_type": "stream",
     "text": [
      "1\n",
      "Selected Response: Yo!\n",
      "Input sentence: oh boo\n",
      "Most tag: CALL\n",
      "Most similar response: Yo!\n",
      "subject response: BOT_STREET_BOY\n",
      "similarity: tensor([[0.5871]])\n"
     ]
    },
    {
     "name": "stderr",
     "output_type": "stream",
     "text": [
      "127.0.0.1 - - [19/Apr/2024 16:44:59] \"POST / HTTP/1.1\" 200 -\n"
     ]
    },
    {
     "name": "stdout",
     "output_type": "stream",
     "text": [
      "1\n",
      "Selected Response: Of course, I will \n",
      "Input sentence: i think\n",
      "Most tag: APPROVE\n",
      "Most similar response: Yes\n",
      "subject response: HOST\n",
      "similarity: tensor([[0.5224]])\n"
     ]
    },
    {
     "name": "stderr",
     "output_type": "stream",
     "text": [
      "127.0.0.1 - - [19/Apr/2024 16:45:11] \"POST / HTTP/1.1\" 200 -\n"
     ]
    },
    {
     "name": "stdout",
     "output_type": "stream",
     "text": [
      "1\n",
      "Selected Response: Solid, dude!\n",
      "Input sentence: i think\n",
      "Most tag: REWARD\n",
      "Most similar response: Solid, dude!\n",
      "subject response: BOT_STREET_BOY\n",
      "similarity: tensor([[0.3748]])\n"
     ]
    },
    {
     "name": "stderr",
     "output_type": "stream",
     "text": [
      "127.0.0.1 - - [19/Apr/2024 16:45:12] \"POST / HTTP/1.1\" 200 -\n"
     ]
    },
    {
     "name": "stdout",
     "output_type": "stream",
     "text": [
      "1\n",
      "Selected Response: Sure thing, I'm on board with that.\n",
      "\n",
      "Input sentence: send them covered as sure\n",
      "Most tag: APPROVE\n",
      "Most similar response: Sure thing, I'm on board with that.\n",
      "\n",
      "subject response: BOT_MAFIA\n",
      "similarity: tensor([[0.4411]])\n"
     ]
    },
    {
     "name": "stderr",
     "output_type": "stream",
     "text": [
      "127.0.0.1 - - [19/Apr/2024 16:45:26] \"POST / HTTP/1.1\" 200 -\n"
     ]
    },
    {
     "name": "stdout",
     "output_type": "stream",
     "text": [
      "1\n",
      "Selected Response: Good work!\n",
      "Input sentence: send them covered as sure\n",
      "Most tag: REWARD\n",
      "Most similar response: That 's what I am talking about.\n",
      "subject response: BOT002\n",
      "similarity: tensor([[0.1742]])\n"
     ]
    },
    {
     "name": "stderr",
     "output_type": "stream",
     "text": [
      "127.0.0.1 - - [19/Apr/2024 16:45:28] \"POST / HTTP/1.1\" 200 -\n"
     ]
    },
    {
     "name": "stdout",
     "output_type": "stream",
     "text": [
      "1\n",
      "Selected Response: Greeting\n",
      "Input sentence: holds\n",
      "Most tag: PALM\n",
      "Most similar response: palms together in a prayer position\n",
      "subject response: BOT001\n",
      "similarity: tensor([[0.3752]])\n"
     ]
    },
    {
     "name": "stderr",
     "output_type": "stream",
     "text": [
      "127.0.0.1 - - [19/Apr/2024 16:45:33] \"POST / HTTP/1.1\" 200 -\n"
     ]
    },
    {
     "name": "stdout",
     "output_type": "stream",
     "text": [
      "1\n",
      "Selected Response: Hey.\n",
      "Input sentence: oh\n",
      "Most tag: APPROVE\n",
      "Most similar response: okay\n",
      "subject response: BOT001\n",
      "similarity: tensor([[0.7540]])\n"
     ]
    },
    {
     "name": "stderr",
     "output_type": "stream",
     "text": [
      "127.0.0.1 - - [19/Apr/2024 16:45:38] \"POST / HTTP/1.1\" 200 -\n"
     ]
    },
    {
     "name": "stdout",
     "output_type": "stream",
     "text": [
      "1\n",
      "Selected Response: very well\n",
      "Input sentence: oh\n",
      "Most tag: REWARD\n",
      "Most similar response: very well\n",
      "subject response: BOT001\n",
      "similarity: tensor([[0.5587]])\n"
     ]
    },
    {
     "name": "stderr",
     "output_type": "stream",
     "text": [
      "127.0.0.1 - - [19/Apr/2024 16:45:39] \"POST / HTTP/1.1\" 200 -\n"
     ]
    },
    {
     "name": "stdout",
     "output_type": "stream",
     "text": [
      "1\n",
      "Selected Response: You bet, I'm up for it.\n",
      "Input sentence: you are testing my passion\n",
      "Most tag: BE_BAD\n",
      "Most similar response: You're testing my patience, huh?\n",
      "subject response: BOT_MAFIA\n",
      "similarity: tensor([[0.4239]])\n"
     ]
    },
    {
     "name": "stderr",
     "output_type": "stream",
     "text": [
      "127.0.0.1 - - [19/Apr/2024 16:45:51] \"POST / HTTP/1.1\" 200 -\n"
     ]
    },
    {
     "name": "stdout",
     "output_type": "stream",
     "text": [
      "1\n",
      "Selected Response: Hey.\n",
      "Input sentence: huh\n",
      "Most tag: APPROVE\n",
      "Most similar response: Yes\n",
      "subject response: HOST\n",
      "similarity: tensor([[0.7330]])\n"
     ]
    },
    {
     "name": "stderr",
     "output_type": "stream",
     "text": [
      "127.0.0.1 - - [19/Apr/2024 16:46:33] \"POST / HTTP/1.1\" 200 -\n"
     ]
    },
    {
     "name": "stdout",
     "output_type": "stream",
     "text": [
      "1\n",
      "Selected Response: Well done.\n",
      "\n",
      "Input sentence: huh\n",
      "Most tag: REWARD\n",
      "Most similar response: Well done.\n",
      "\n",
      "subject response: BOT_CARTOON\n",
      "similarity: tensor([[0.5917]])\n"
     ]
    },
    {
     "name": "stderr",
     "output_type": "stream",
     "text": [
      "127.0.0.1 - - [19/Apr/2024 16:46:35] \"POST / HTTP/1.1\" 200 -\n"
     ]
    },
    {
     "name": "stdout",
     "output_type": "stream",
     "text": [
      "1\n",
      "Selected Response: Hey.\n",
      "Input sentence: huh\n",
      "Most tag: APPROVE\n",
      "Most similar response: Yes\n",
      "subject response: HOST\n",
      "similarity: tensor([[0.7330]])\n"
     ]
    },
    {
     "name": "stderr",
     "output_type": "stream",
     "text": [
      "127.0.0.1 - - [19/Apr/2024 16:46:51] \"POST / HTTP/1.1\" 200 -\n"
     ]
    },
    {
     "name": "stdout",
     "output_type": "stream",
     "text": [
      "1\n",
      "Selected Response: 鼓掌，你做得相当不错！\n",
      "\n",
      "Input sentence: huh\n",
      "Most tag: REWARD\n",
      "Most similar response: 很牛，真不错！\n",
      "\n",
      "subject response: BOT_BRO_CHN\n",
      "similarity: tensor([[0.3142]])\n"
     ]
    },
    {
     "name": "stderr",
     "output_type": "stream",
     "text": [
      "127.0.0.1 - - [19/Apr/2024 16:46:53] \"POST / HTTP/1.1\" 200 -\n"
     ]
    },
    {
     "name": "stdout",
     "output_type": "stream",
     "text": [
      "1\n",
      "Selected Response: Hey.\n",
      "Input sentence: huh\n",
      "Most tag: APPROVE\n",
      "Most similar response: Yes\n",
      "subject response: HOST\n",
      "similarity: tensor([[0.7330]])\n"
     ]
    },
    {
     "name": "stderr",
     "output_type": "stream",
     "text": [
      "127.0.0.1 - - [19/Apr/2024 16:47:12] \"POST / HTTP/1.1\" 200 -\n"
     ]
    },
    {
     "name": "stdout",
     "output_type": "stream",
     "text": [
      "1\n",
      "Selected Response: You're a stand-up guy, keep it up.\n",
      "\n",
      "Input sentence: huh\n",
      "Most tag: REWARD\n",
      "Most similar response: Well done, you've earned your stripes.\n",
      "\n",
      "subject response: BOT_MAFIA\n",
      "similarity: tensor([[0.2898]])\n"
     ]
    },
    {
     "name": "stderr",
     "output_type": "stream",
     "text": [
      "127.0.0.1 - - [19/Apr/2024 16:47:13] \"POST / HTTP/1.1\" 200 -\n"
     ]
    },
    {
     "name": "stdout",
     "output_type": "stream",
     "text": [
      "1\n",
      "Selected Response: Yes\n",
      "Input sentence: huh\n",
      "Most tag: APPROVE\n",
      "Most similar response: Yes\n",
      "subject response: HOST\n",
      "similarity: tensor([[0.7655]])\n"
     ]
    },
    {
     "name": "stderr",
     "output_type": "stream",
     "text": [
      "127.0.0.1 - - [19/Apr/2024 16:47:32] \"POST / HTTP/1.1\" 200 -\n"
     ]
    },
    {
     "name": "stdout",
     "output_type": "stream",
     "text": [
      "1\n",
      "Selected Response: Solid, dude!\n",
      "Input sentence: huh\n",
      "Most tag: REWARD\n",
      "Most similar response: Solid, dude!\n",
      "subject response: BOT_STREET_BOY\n",
      "similarity: tensor([[0.5710]])\n"
     ]
    },
    {
     "name": "stderr",
     "output_type": "stream",
     "text": [
      "127.0.0.1 - - [19/Apr/2024 16:47:33] \"POST / HTTP/1.1\" 200 -\n"
     ]
    },
    {
     "name": "stdout",
     "output_type": "stream",
     "text": [
      "1\n",
      "Selected Response: Hey.\n",
      "Input sentence: huh\n",
      "Most tag: APPROVE\n",
      "Most similar response: Yes\n",
      "subject response: HOST\n",
      "similarity: tensor([[0.7330]])\n"
     ]
    },
    {
     "name": "stderr",
     "output_type": "stream",
     "text": [
      "127.0.0.1 - - [19/Apr/2024 16:48:02] \"POST / HTTP/1.1\" 200 -\n"
     ]
    },
    {
     "name": "stdout",
     "output_type": "stream",
     "text": [
      "1\n",
      "Selected Response: Well done, you've earned your stripes.\n",
      "\n",
      "Input sentence: huh\n",
      "Most tag: REWARD\n",
      "Most similar response: Well done, you've earned your stripes.\n",
      "\n",
      "subject response: BOT_MAFIA\n",
      "similarity: tensor([[0.3370]])\n"
     ]
    },
    {
     "name": "stderr",
     "output_type": "stream",
     "text": [
      "127.0.0.1 - - [19/Apr/2024 16:48:03] \"POST / HTTP/1.1\" 200 -\n"
     ]
    },
    {
     "name": "stdout",
     "output_type": "stream",
     "text": [
      "1\n",
      "Selected Response: Hey.\n",
      "Input sentence: huh\n",
      "Most tag: APPROVE\n",
      "Most similar response: Yes\n",
      "subject response: HOST\n",
      "similarity: tensor([[0.7330]])\n"
     ]
    },
    {
     "name": "stderr",
     "output_type": "stream",
     "text": [
      "127.0.0.1 - - [19/Apr/2024 16:48:49] \"POST / HTTP/1.1\" 200 -\n"
     ]
    },
    {
     "name": "stdout",
     "output_type": "stream",
     "text": [
      "1\n",
      "Selected Response: Way to go, amigo!\n",
      "Input sentence: huh\n",
      "Most tag: REWARD\n",
      "Most similar response: Solid, dude!\n",
      "subject response: BOT_STREET_BOY\n",
      "similarity: tensor([[0.4092]])\n"
     ]
    },
    {
     "name": "stderr",
     "output_type": "stream",
     "text": [
      "127.0.0.1 - - [19/Apr/2024 16:48:50] \"POST / HTTP/1.1\" 200 -\n"
     ]
    },
    {
     "name": "stdout",
     "output_type": "stream",
     "text": [
      "1\n",
      "Selected Response: Hey.\n",
      "Input sentence: huh\n",
      "Most tag: APPROVE\n",
      "Most similar response: Yes\n",
      "subject response: HOST\n",
      "similarity: tensor([[0.7330]])\n"
     ]
    },
    {
     "name": "stderr",
     "output_type": "stream",
     "text": [
      "127.0.0.1 - - [19/Apr/2024 16:49:16] \"POST / HTTP/1.1\" 200 -\n"
     ]
    },
    {
     "name": "stdout",
     "output_type": "stream",
     "text": [
      "1\n",
      "Selected Response: 身材好棒\n",
      "Input sentence: huh\n",
      "Most tag: REWARD\n",
      "Most similar response: 好帥\n",
      "subject response: BOT001_CHN\n",
      "similarity: tensor([[0.3712]])\n"
     ]
    },
    {
     "name": "stderr",
     "output_type": "stream",
     "text": [
      "127.0.0.1 - - [19/Apr/2024 16:49:17] \"POST / HTTP/1.1\" 200 -\n"
     ]
    },
    {
     "name": "stdout",
     "output_type": "stream",
     "text": [
      "1\n",
      "Selected Response: Hey.\n",
      "Input sentence: huh\n",
      "Most tag: APPROVE\n",
      "Most similar response: Yes\n",
      "subject response: HOST\n",
      "similarity: tensor([[0.7330]])\n"
     ]
    },
    {
     "name": "stderr",
     "output_type": "stream",
     "text": [
      "127.0.0.1 - - [19/Apr/2024 16:49:38] \"POST / HTTP/1.1\" 200 -\n"
     ]
    },
    {
     "name": "stdout",
     "output_type": "stream",
     "text": [
      "1\n",
      "Selected Response: You're a stand-up guy, keep it up.\n",
      "\n",
      "Input sentence: huh\n",
      "Most tag: REWARD\n",
      "Most similar response: Well done, you've earned your stripes.\n",
      "\n",
      "subject response: BOT_MAFIA\n",
      "similarity: tensor([[0.2898]])\n"
     ]
    },
    {
     "name": "stderr",
     "output_type": "stream",
     "text": [
      "127.0.0.1 - - [19/Apr/2024 16:49:39] \"POST / HTTP/1.1\" 200 -\n"
     ]
    },
    {
     "name": "stdout",
     "output_type": "stream",
     "text": [
      "1\n",
      "Selected Response: Go for it.\n",
      "\n",
      "Input sentence: with\n",
      "Most tag: PUSH\n",
      "Most similar response: Come on\n",
      "subject response: HOST\n",
      "similarity: tensor([[0.5090]])\n"
     ]
    },
    {
     "name": "stderr",
     "output_type": "stream",
     "text": [
      "127.0.0.1 - - [19/Apr/2024 16:49:43] \"POST / HTTP/1.1\" 200 -\n"
     ]
    },
    {
     "name": "stdout",
     "output_type": "stream",
     "text": [
      "1\n",
      "Selected Response: 哦耶，真帅啊！\n",
      "\n",
      "Input sentence: with\n",
      "Most tag: APPROVE\n",
      "Most similar response: 就是这样，赞同！\n",
      "\n",
      "subject response: BOT_BRO_CHN\n",
      "similarity: tensor([[0.2731]])\n"
     ]
    },
    {
     "name": "stderr",
     "output_type": "stream",
     "text": [
      "127.0.0.1 - - [19/Apr/2024 16:49:44] \"POST / HTTP/1.1\" 200 -\n"
     ]
    },
    {
     "name": "stdout",
     "output_type": "stream",
     "text": [
      "1\n",
      "Selected Response: Hey.\n",
      "Input sentence: huh\n",
      "Most tag: APPROVE\n",
      "Most similar response: Yes\n",
      "subject response: HOST\n",
      "similarity: tensor([[0.7330]])\n"
     ]
    },
    {
     "name": "stderr",
     "output_type": "stream",
     "text": [
      "127.0.0.1 - - [19/Apr/2024 16:50:18] \"POST / HTTP/1.1\" 200 -\n"
     ]
    },
    {
     "name": "stdout",
     "output_type": "stream",
     "text": [
      "1\n",
      "Selected Response: 你真是个爷们儿，继续保持！\n",
      "\n",
      "Input sentence: huh\n",
      "Most tag: REWARD\n",
      "Most similar response: 很牛，真不错！\n",
      "\n",
      "subject response: BOT_BRO_CHN\n",
      "similarity: tensor([[0.3092]])\n"
     ]
    },
    {
     "name": "stderr",
     "output_type": "stream",
     "text": [
      "127.0.0.1 - - [19/Apr/2024 16:50:20] \"POST / HTTP/1.1\" 200 -\n"
     ]
    }
   ],
   "source": [
    "import random\n",
    "from http.server import BaseHTTPRequestHandler, HTTPServer\n",
    "from sentence_transformers import SentenceTransformer, util\n",
    "import mysql.connector\n",
    "import json\n",
    "import torch\n",
    "\n",
    "def connect_to_database():\n",
    "    connection = mysql.connector.connect(\n",
    "        host=\"localhost\",\n",
    "        user=\"root\",\n",
    "        password=\"3659215fF\",\n",
    "        database=\"handle_together\"\n",
    "    )\n",
    "    return connection\n",
    "\n",
    "def send_json_response(self, status_code, data):\n",
    "    # Convert status_code to integer\n",
    "    status_code = int(status_code)\n",
    "\n",
    "    # Set up the HTTP response\n",
    "    self.send_response(status_code)\n",
    "    self.send_header(\"Content-type\", \"application/json\")\n",
    "    self.end_headers()\n",
    "\n",
    "    # Convert the data to JSON\n",
    "    json_response = json.dumps(data)\n",
    "\n",
    "    # Send the JSON response\n",
    "    self.wfile.write(json_response.encode('utf-8'))\n",
    "\n",
    "class WebServerHandler(BaseHTTPRequestHandler):\n",
    "\n",
    "    def do_POST(self):       \n",
    "        # Read the content length from the request headers\n",
    "        content_length = int(self.headers['Content-Length'])\n",
    "\n",
    "        # Read the JSON data from the request body\n",
    "        post_data = self.rfile.read(content_length)\n",
    "        json_data_list = json.loads(post_data.decode('utf-8'))\n",
    "\n",
    "        if json_data_list:\n",
    "            json_data = json_data_list[0]\n",
    "            # Now json_data contains the parameters sent in the JSON format\n",
    "            tag_array = json_data.get('tag_array', [])\n",
    "            subject_array = json_data.get('subject_array', [])\n",
    "            object_array = json_data.get('object_array', [])\n",
    "            input_sentence = json_data.get('input_sentence', '')       \n",
    "            public_ind = json_data.get('public_ind', '')\n",
    "            command_ind = json_data.get('command_ind', '')\n",
    "\n",
    "        # Load the Sentence Transformer model\n",
    "        # model = SentenceTransformer(\"shibing624/text2vec-base-chinese\")\n",
    "        model = SentenceTransformer(\"paraphrase-MiniLM-L6-v2\")\n",
    "\n",
    "        # Fetch distinct subject codes from intent_type table\n",
    "        connection = connect_to_database()\n",
    "        cursor = connection.cursor()\n",
    "\n",
    "        # Use parameterized query to avoid SQL injection\n",
    "        if tag_array and any(tag_array):\n",
    "            tag_condition = \"tag IN ({})\".format(','.join(['%s' for _ in tag_array]))\n",
    "        else:\n",
    "            tag_condition = \"1=1\"  # Always true if tag_array is empty or None\n",
    "            \n",
    "        if command_ind: \n",
    "            tag_condition2 = \"AND COMMAND_IND = '\"+command_ind+\"'\"\n",
    "        else:\n",
    "            tag_condition2 = \"\" \n",
    "        \n",
    "        query = (\"SELECT tag, content, subject FROM intent_training_data WHERE {} AND subject IN ({}) AND object IN ({}) AND PUBLIC_IND = '\"+public_ind+\"'\"+tag_condition2).format(tag_condition, ','.join(['%s' for _ in subject_array]) ,','.join(['%s' for _ in object_array]))\n",
    "        params = tag_array + subject_array + object_array\n",
    "        cursor.execute(query, params)\n",
    "        rows = cursor.fetchall()\n",
    "        candidate_responses_tags = [row[0] for row in rows]\n",
    "        candidate_responses = [row[1] for row in rows]\n",
    "        candidate_responses_subject = [row[2] for row in rows]\n",
    "        cursor.close()\n",
    "        connection.close()\n",
    "        print('1')\n",
    "        # Handle the case when no candidate responses are found\n",
    "        if not candidate_responses:\n",
    "            print('2')\n",
    "\n",
    "            result = {\n",
    "                \"input_sentence\": input_sentence,\n",
    "                \"tag\": \"\",\n",
    "                \"content\": \"😊\",\n",
    "                \"sim_content\": \"\",\n",
    "                \"similarity\": 0.0,\n",
    "                \"subject\": \"\"\n",
    "            }\n",
    "            send_json_response(self, '200', result)\n",
    "            return\n",
    "\n",
    "        # Encode input sentence and candidate responses\n",
    "        input_embedding = model.encode([input_sentence])\n",
    "        response_embeddings = model.encode(candidate_responses)\n",
    "\n",
    "        # Calculate cosine similarity between input and responses\n",
    "        similarities = util.pytorch_cos_sim(input_embedding, response_embeddings)[0]\n",
    "        \n",
    "        most_similar_index = similarities.argmax().item()\n",
    "        top_n_indices = torch.argsort(similarities, descending=True)[:5]\n",
    "\n",
    "        # Randomly select 1 response from the top 5\n",
    "        selected_index = random.choice(top_n_indices)\n",
    "        selected_response_tag = candidate_responses_tags[selected_index]\n",
    "        selected_response = candidate_responses[selected_index]\n",
    "        selected_response_embedding= model.encode([selected_response])\n",
    "        similarity = util.pytorch_cos_sim(input_embedding, selected_response_embedding)\n",
    "\n",
    "        # Print the selected response\n",
    "        print(\"Selected Response:\", selected_response)\n",
    "        # Print the most similar response\n",
    "        print(\"Input sentence:\", input_sentence)\n",
    "        print(\"Most tag:\", candidate_responses_tags[most_similar_index])\n",
    "        print(\"Most similar response:\", candidate_responses[most_similar_index])\n",
    "        print(\"subject response:\", candidate_responses_subject[most_similar_index])\n",
    "        \n",
    "        print(\"similarity:\",similarity)\n",
    "        result = {\n",
    "            \"input_sentence\": input_sentence,\n",
    "            \"tag\": candidate_responses_tags[most_similar_index],\n",
    "            \"content\": selected_response,\n",
    "            \"sim_content\" : candidate_responses[most_similar_index],\n",
    "            \"similarity\" : round(similarity.item(),5),\n",
    "            \"subject\" : candidate_responses_subject[most_similar_index]\n",
    "        }\n",
    "        send_json_response(self, '200', result)\n",
    "\n",
    "if __name__ == '__main__':\n",
    "    try:\n",
    "        port = 8000\n",
    "        server = HTTPServer(('localhost', port), WebServerHandler)\n",
    "        server.max_body_length = 10 * 1024 * 1024  # set to 10 MB\n",
    "\n",
    "        print(f'Server running on port {port}')\n",
    "        \n",
    "        server.serve_forever()\n",
    "    except KeyboardInterrupt:\n",
    "        print('^C received, shutting down server')\n",
    "        server.socket.close()"
   ]
  },
  {
   "cell_type": "code",
   "execution_count": null,
   "id": "fb39e37a",
   "metadata": {},
   "outputs": [],
   "source": []
  }
 ],
 "metadata": {
  "kernelspec": {
   "display_name": "Python 3 (ipykernel)",
   "language": "python",
   "name": "python3"
  },
  "language_info": {
   "codemirror_mode": {
    "name": "ipython",
    "version": 3
   },
   "file_extension": ".py",
   "mimetype": "text/x-python",
   "name": "python",
   "nbconvert_exporter": "python",
   "pygments_lexer": "ipython3",
   "version": "3.10.9"
  }
 },
 "nbformat": 4,
 "nbformat_minor": 5
}
