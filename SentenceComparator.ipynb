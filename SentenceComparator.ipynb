{
 "cells": [
  {
   "cell_type": "code",
   "execution_count": null,
   "id": "18f75d4be9068c53",
   "metadata": {},
   "outputs": [],
   "source": [
    "pip install sentence-transformers"
   ]
  },
  {
   "cell_type": "code",
   "execution_count": null,
   "id": "68891831d40dc6ef",
   "metadata": {},
   "outputs": [],
   "source": [
    "pip install mysql-connector-python"
   ]
  },
  {
   "cell_type": "code",
   "execution_count": null,
   "id": "initial_id",
   "metadata": {},
   "outputs": [],
   "source": []
  },
  {
   "cell_type": "code",
   "execution_count": null,
   "id": "8eaebfb4aa27e744",
   "metadata": {},
   "outputs": [],
   "source": [
    "from sentence_transformers import SentenceTransformer, util\n",
    "\n",
    "model = SentenceTransformer(\"shibing624/text2vec-base-chinese\")\n",
    "\n",
    "sentence1_embeddings = model.encode([\"go to the curch\"])\n",
    "# sentence2_embeddings = model.encode([\"你是誰\"])\n",
    "# sentence2_embeddings = model.encode([\"你過得如何\"])\n",
    "sentence2_embeddings = model.encode([\"come on\"])\n",
    "\n",
    "similarity = util.pytorch_cos_sim(sentence1_embeddings, sentence2_embeddings)\n",
    "print(similarity)"
   ]
  },
  {
   "cell_type": "code",
   "execution_count": null,
   "id": "49eb88a4e22fb1ee",
   "metadata": {},
   "outputs": [],
   "source": [
    "from http.server import BaseHTTPRequestHandler, HTTPServer\n",
    "from sentence_transformers import SentenceTransformer, util\n",
    "import mysql.connector\n",
    "import json\n",
    "\n",
    "def connect_to_database():\n",
    "    connection = mysql.connector.connect(\n",
    "        host=\"localhost\",\n",
    "        user=\"root\",\n",
    "        password=\"3659215fF\",\n",
    "        database=\"handle_together\"\n",
    "    )\n",
    "    return connection\n",
    "\n",
    "def send_json_response(self, status_code, data):\n",
    "    # Convert status_code to integer\n",
    "    status_code = int(status_code)\n",
    "\n",
    "    # Set up the HTTP response\n",
    "    self.send_response(status_code)\n",
    "    self.send_header(\"Content-type\", \"application/json\")\n",
    "    self.end_headers()\n",
    "\n",
    "    # Convert the data to JSON\n",
    "    json_response = json.dumps(data)\n",
    "\n",
    "    # Send the JSON response\n",
    "    self.wfile.write(json_response.encode('utf-8'))\n",
    "\n",
    "class WebServerHandler(BaseHTTPRequestHandler):\n",
    "\n",
    "    def do_POST(self):       \n",
    "        # Read the content length from the request headers\n",
    "        content_length = int(self.headers['Content-Length'])\n",
    "\n",
    "        # Read the JSON data from the request body\n",
    "        post_data = self.rfile.read(content_length)\n",
    "        json_data_list = json.loads(post_data.decode('utf-8'))\n",
    "\n",
    "        if json_data_list:\n",
    "            json_data = json_data_list[0]\n",
    "            # Now json_data contains the parameters sent in the JSON format\n",
    "            tag_array = json_data.get('tag_array', [])\n",
    "            subject_array = json_data.get('subject_array', [])\n",
    "            object_array = json_data.get('object_array', [])\n",
    "            input_sentence = json_data.get('input_sentence', '')       \n",
    "            public_ind = json_data.get('public_ind', '')\n",
    "            command_ind = json_data.get('command_ind', '')\n",
    "\n",
    "            print()\n",
    "        # Load the Sentence Transformer model\n",
    "        model = SentenceTransformer(\"shibing624/text2vec-base-chinese\")\n",
    "\n",
    "        # Fetch distinct subject codes from intent_type table\n",
    "        connection = connect_to_database()\n",
    "        cursor = connection.cursor()\n",
    "\n",
    "        # Use parameterized query to avoid SQL injection\n",
    "        # query = \"SELECT tag, content FROM intent_training_data WHERE tag IN ({}) AND subject IN ({})\".format(','.join(['%s' for _ in tag_array]), ','.join(['%s' for _ in subject_array]))\n",
    "        if tag_array and any(tag_array):\n",
    "            tag_condition = \"tag IN ({})\".format(','.join(['%s' for _ in tag_array]))\n",
    "        else:\n",
    "            tag_condition = \"1=1\"  # Always true if tag_array is empty or None\n",
    "            \n",
    "        if command_ind: \n",
    "            tag_condition2 = \"AND COMMAND_IND = '\"+command_ind+\"'\"\n",
    "        else:\n",
    "            tag_condition2 = \"\"  # Always true if tag_array is empty or None\n",
    "        \n",
    "        query = (\"SELECT tag, content FROM intent_training_data WHERE {} AND subject IN ({}) AND object IN ({}) AND PUBLIC_IND = '\"+public_ind+\"'\"+tag_condition2).format(tag_condition, ','.join(['%s' for _ in subject_array]) ,','.join(['%s' for _ in object_array]))\n",
    "        params = tag_array + subject_array + object_array\n",
    "        cursor.execute(query, params)\n",
    "        rows = cursor.fetchall()\n",
    "        candidate_responses_tags = [row[0] for row in rows]\n",
    "        candidate_responses = [row[1] for row in rows]\n",
    "\n",
    "        cursor.close()\n",
    "        connection.close()\n",
    "\n",
    "        # Encode input sentence and candidate responses\n",
    "        input_embedding = model.encode([input_sentence])\n",
    "        response_embeddings = model.encode(candidate_responses)\n",
    "\n",
    "        # Calculate cosine similarity between input and responses\n",
    "        similarities = util.pytorch_cos_sim(input_embedding, response_embeddings)[0]\n",
    "        \n",
    "        similarity = util.pytorch_cos_sim(input_embedding, response_embeddings)\n",
    "\n",
    "        # Get the index of the most similar response\n",
    "        most_similar_index = similarities.argmax().item()\n",
    "\n",
    "        # Print the most similar response\n",
    "        print(\"Input sentence:\", input_sentence)\n",
    "        print(\"Most tag:\", candidate_responses_tags[most_similar_index])\n",
    "        print(\"Most similar response:\", candidate_responses[most_similar_index])\n",
    "        print(\"similarity:\",similarity)\n",
    "        result = {\n",
    "            \"input_sentence\": input_sentence,\n",
    "            \"tag\": candidate_responses_tags[most_similar_index],\n",
    "            \"content\": candidate_responses[most_similar_index],\n",
    "            \"similarity\" : round(similarity.item(),5)\n",
    "        }\n",
    "        send_json_response(self, '200', result)\n",
    "\n",
    "if __name__ == '__main__':\n",
    "    try:\n",
    "        port = 8000\n",
    "        server = HTTPServer(('localhost', port), WebServerHandler)\n",
    "        server.max_body_length = 10 * 1024 * 1024  # set to 10 MB\n",
    "\n",
    "        print(f'Server running on port {port}')\n",
    "        \n",
    "        server.serve_forever()\n",
    "    except KeyboardInterrupt:\n",
    "        print('^C received, shutting down server')\n",
    "        server.socket.close()\n"
   ]
  },
  {
   "cell_type": "code",
   "execution_count": null,
   "id": "9c9634f3",
   "metadata": {},
   "outputs": [],
   "source": []
  },
  {
   "cell_type": "code",
   "execution_count": null,
   "outputs": [
    {
     "name": "stdout",
     "output_type": "stream",
     "text": [
      "Server running on port 8000\n",
      "Selected Response: aloha!\n",
      "Input sentence: hi\n",
      "Most tag: APPROVE\n",
      "Most similar response: ok\n",
      "similarity: tensor([[0.6089]])\n"
     ]
    },
    {
     "name": "stderr",
     "output_type": "stream",
     "text": [
      "127.0.0.1 - - [20/Dec/2023 15:16:02] \"POST / HTTP/1.1\" 200 -\n"
     ]
    },
    {
     "name": "stdout",
     "output_type": "stream",
     "text": [
      "Selected Response: charming\n",
      "Input sentence: hi\n",
      "Most tag: REWARD\n",
      "Most similar response: very well\n",
      "similarity: tensor([[0.5001]])\n"
     ]
    },
    {
     "name": "stderr",
     "output_type": "stream",
     "text": [
      "127.0.0.1 - - [20/Dec/2023 15:16:04] \"POST / HTTP/1.1\" 200 -\n"
     ]
    },
    {
     "name": "stdout",
     "output_type": "stream",
     "text": [
      "Selected Response: roll in \n",
      "Input sentence: hi\n",
      "Most tag: APPROVE\n",
      "Most similar response: ok\n",
      "similarity: tensor([[0.5969]])\n"
     ]
    },
    {
     "name": "stderr",
     "output_type": "stream",
     "text": [
      "127.0.0.1 - - [20/Dec/2023 15:23:15] \"POST / HTTP/1.1\" 200 -\n"
     ]
    },
    {
     "name": "stdout",
     "output_type": "stream",
     "text": [
      "Selected Response: charming\n",
      "Input sentence: hi\n",
      "Most tag: REWARD\n",
      "Most similar response: very well\n",
      "similarity: tensor([[0.5001]])\n"
     ]
    },
    {
     "name": "stderr",
     "output_type": "stream",
     "text": [
      "127.0.0.1 - - [20/Dec/2023 15:23:18] \"POST / HTTP/1.1\" 200 -\n"
     ]
    },
    {
     "name": "stdout",
     "output_type": "stream",
     "text": [
      "Selected Response: aloha!\n",
      "Input sentence: hi\n",
      "Most tag: APPROVE\n",
      "Most similar response: ok\n",
      "similarity: tensor([[0.6089]])\n"
     ]
    },
    {
     "name": "stderr",
     "output_type": "stream",
     "text": [
      "127.0.0.1 - - [20/Dec/2023 15:23:36] \"POST / HTTP/1.1\" 200 -\n"
     ]
    },
    {
     "name": "stdout",
     "output_type": "stream",
     "text": [
      "Selected Response: cute\n",
      "Input sentence: hi\n",
      "Most tag: REWARD\n",
      "Most similar response: very well\n",
      "similarity: tensor([[0.4187]])\n"
     ]
    },
    {
     "name": "stderr",
     "output_type": "stream",
     "text": [
      "127.0.0.1 - - [20/Dec/2023 15:23:39] \"POST / HTTP/1.1\" 200 -\n"
     ]
    },
    {
     "name": "stdout",
     "output_type": "stream",
     "text": [
      "Selected Response: ok\n",
      "Input sentence: hi\n",
      "Most tag: APPROVE\n",
      "Most similar response: ok\n",
      "similarity: tensor([[0.7042]])\n"
     ]
    },
    {
     "name": "stderr",
     "output_type": "stream",
     "text": [
      "127.0.0.1 - - [20/Dec/2023 15:42:48] \"POST / HTTP/1.1\" 200 -\n"
     ]
    },
    {
     "name": "stdout",
     "output_type": "stream",
     "text": [
      "Selected Response: very nice!\n",
      "Input sentence: hi\n",
      "Most tag: REWARD\n",
      "Most similar response: very well\n",
      "similarity: tensor([[0.4255]])\n"
     ]
    },
    {
     "name": "stderr",
     "output_type": "stream",
     "text": [
      "127.0.0.1 - - [20/Dec/2023 15:42:50] \"POST / HTTP/1.1\" 200 -\n"
     ]
    },
    {
     "name": "stdout",
     "output_type": "stream",
     "text": [
      "Selected Response: no\n",
      "Input sentence: hi\n",
      "Most tag: APPROVE\n",
      "Most similar response: ok\n",
      "similarity: tensor([[0.5894]])\n"
     ]
    },
    {
     "name": "stderr",
     "output_type": "stream",
     "text": [
      "127.0.0.1 - - [20/Dec/2023 15:45:56] \"POST / HTTP/1.1\" 200 -\n"
     ]
    },
    {
     "name": "stdout",
     "output_type": "stream",
     "text": [
      "Selected Response: cute\n",
      "Input sentence: hi\n",
      "Most tag: REWARD\n",
      "Most similar response: very well\n",
      "similarity: tensor([[0.4187]])\n"
     ]
    },
    {
     "name": "stderr",
     "output_type": "stream",
     "text": [
      "127.0.0.1 - - [20/Dec/2023 15:45:59] \"POST / HTTP/1.1\" 200 -\n"
     ]
    },
    {
     "name": "stdout",
     "output_type": "stream",
     "text": [
      "Selected Response: How's your day?\n",
      "Input sentence: what do you want\n",
      "Most tag: ASK_HOW_TO_PLAY\n",
      "Most similar response: What do you want to see tonight?\n",
      "similarity: tensor([[0.5878]])\n"
     ]
    },
    {
     "name": "stderr",
     "output_type": "stream",
     "text": [
      "127.0.0.1 - - [20/Dec/2023 15:46:42] \"POST / HTTP/1.1\" 200 -\n"
     ]
    },
    {
     "name": "stdout",
     "output_type": "stream",
     "text": [
      "Selected Response: How's your day?\n",
      "Input sentence: what do you want\n",
      "Most tag: ASK_HOW_TO_PLAY\n",
      "Most similar response: What do you want to see tonight?\n",
      "similarity: tensor([[0.5878]])\n"
     ]
    },
    {
     "name": "stderr",
     "output_type": "stream",
     "text": [
      "127.0.0.1 - - [20/Dec/2023 15:46:52] \"POST / HTTP/1.1\" 200 -\n"
     ]
    },
    {
     "name": "stdout",
     "output_type": "stream",
     "text": [
      "Selected Response: no way\n",
      "Input sentence: what do you want to see\n",
      "Most tag: ASK_HOW_TO_PLAY\n",
      "Most similar response: What do you want to see tonight?\n",
      "similarity: tensor([[0.5439]])\n"
     ]
    },
    {
     "name": "stderr",
     "output_type": "stream",
     "text": [
      "127.0.0.1 - - [20/Dec/2023 15:47:02] \"POST / HTTP/1.1\" 200 -\n"
     ]
    },
    {
     "name": "stdout",
     "output_type": "stream",
     "text": [
      "Selected Response: What do you want to see tonight?\n",
      "Input sentence: what do you want to see\n",
      "Most tag: ASK_HOW_TO_PLAY\n",
      "Most similar response: What do you want to see tonight?\n",
      "similarity: tensor([[0.7791]])\n"
     ]
    },
    {
     "name": "stderr",
     "output_type": "stream",
     "text": [
      "127.0.0.1 - - [20/Dec/2023 15:48:11] \"POST / HTTP/1.1\" 200 -\n"
     ]
    },
    {
     "name": "stdout",
     "output_type": "stream",
     "text": [
      "Selected Response: Come on\n",
      "Input sentence: what do you want\n",
      "Most tag: ASK_HOW_TO_PLAY\n",
      "Most similar response: What do you want to see tonight?\n",
      "similarity: tensor([[0.5537]])\n"
     ]
    },
    {
     "name": "stderr",
     "output_type": "stream",
     "text": [
      "127.0.0.1 - - [20/Dec/2023 15:48:27] \"POST / HTTP/1.1\" 200 -\n"
     ]
    },
    {
     "name": "stdout",
     "output_type": "stream",
     "text": [
      "Selected Response: Shall we\n",
      "Input sentence: what do you want\n",
      "Most tag: ASK_HOW_TO_PLAY\n",
      "Most similar response: What do you want to see tonight?\n",
      "similarity: tensor([[0.6064]])\n"
     ]
    },
    {
     "name": "stderr",
     "output_type": "stream",
     "text": [
      "127.0.0.1 - - [20/Dec/2023 15:48:34] \"POST / HTTP/1.1\" 200 -\n"
     ]
    },
    {
     "name": "stdout",
     "output_type": "stream",
     "text": [
      "Selected Response: What do you want to see tonight?\n",
      "Input sentence: what do you want\n",
      "Most tag: ASK_HOW_TO_PLAY\n",
      "Most similar response: What do you want to see tonight?\n",
      "similarity: tensor([[0.6776]])\n"
     ]
    },
    {
     "name": "stderr",
     "output_type": "stream",
     "text": [
      "127.0.0.1 - - [20/Dec/2023 15:48:40] \"POST / HTTP/1.1\" 200 -\n"
     ]
    },
    {
     "name": "stdout",
     "output_type": "stream",
     "text": [
      "Selected Response: 17 yr\n",
      "Input sentence: I am 17yr old\n",
      "Most tag: ANS_INFO\n",
      "Most similar response: 17 yr\n",
      "similarity: tensor([[0.6362]])\n"
     ]
    },
    {
     "name": "stderr",
     "output_type": "stream",
     "text": [
      "127.0.0.1 - - [20/Dec/2023 16:36:59] \"POST / HTTP/1.1\" 200 -\n"
     ]
    },
    {
     "name": "stdout",
     "output_type": "stream",
     "text": [
      "Selected Response: 25yr\n",
      "Input sentence: 17yr old\n",
      "Most tag: ANS_INFO\n",
      "Most similar response: 17 yr\n",
      "similarity: tensor([[0.6220]])\n"
     ]
    },
    {
     "name": "stderr",
     "output_type": "stream",
     "text": [
      "127.0.0.1 - - [20/Dec/2023 16:38:06] \"POST / HTTP/1.1\" 200 -\n"
     ]
    },
    {
     "name": "stdout",
     "output_type": "stream",
     "text": [
      "Selected Response: 😊\n",
      "Input sentence: \n",
      "Most tag: BE_GOOD\n",
      "Most similar response: 😂\n",
      "similarity: tensor([[0.4952]])\n"
     ]
    },
    {
     "name": "stderr",
     "output_type": "stream",
     "text": [
      "127.0.0.1 - - [20/Dec/2023 16:38:08] \"POST / HTTP/1.1\" 200 -\n"
     ]
    },
    {
     "name": "stdout",
     "output_type": "stream",
     "text": [
      "Selected Response: I am from US\n",
      "Input sentence: I am 35yr old\n",
      "Most tag: ANS_INFO\n",
      "Most similar response: I am 17 yr old\n",
      "similarity: tensor([[0.6179]])\n"
     ]
    },
    {
     "name": "stderr",
     "output_type": "stream",
     "text": [
      "127.0.0.1 - - [20/Dec/2023 16:39:28] \"POST / HTTP/1.1\" 200 -\n"
     ]
    },
    {
     "name": "stdout",
     "output_type": "stream",
     "text": [
      "Selected Response: 🤗\n",
      "Input sentence: \n",
      "Most tag: BE_GOOD\n",
      "Most similar response: 😂\n",
      "similarity: tensor([[0.4952]])\n"
     ]
    },
    {
     "name": "stderr",
     "output_type": "stream",
     "text": [
      "127.0.0.1 - - [20/Dec/2023 16:39:31] \"POST / HTTP/1.1\" 200 -\n"
     ]
    },
    {
     "name": "stdout",
     "output_type": "stream",
     "text": [
      "Selected Response: roll in \n",
      "Input sentence: hi\n",
      "Most tag: APPROVE\n",
      "Most similar response: ok\n",
      "similarity: tensor([[0.5969]])\n"
     ]
    },
    {
     "name": "stderr",
     "output_type": "stream",
     "text": [
      "127.0.0.1 - - [20/Dec/2023 16:45:26] \"POST / HTTP/1.1\" 200 -\n"
     ]
    },
    {
     "name": "stdout",
     "output_type": "stream",
     "text": [
      "Selected Response: very well\n",
      "Input sentence: hi\n",
      "Most tag: REWARD\n",
      "Most similar response: very well\n",
      "similarity: tensor([[0.5522]])\n"
     ]
    },
    {
     "name": "stderr",
     "output_type": "stream",
     "text": [
      "127.0.0.1 - - [20/Dec/2023 16:45:29] \"POST / HTTP/1.1\" 200 -\n"
     ]
    },
    {
     "name": "stdout",
     "output_type": "stream",
     "text": [
      "Selected Response: no\n",
      "Input sentence: hi\n",
      "Most tag: APPROVE\n",
      "Most similar response: ok\n",
      "similarity: tensor([[0.5894]])\n"
     ]
    },
    {
     "name": "stderr",
     "output_type": "stream",
     "text": [
      "127.0.0.1 - - [20/Dec/2023 16:45:36] \"POST / HTTP/1.1\" 200 -\n"
     ]
    },
    {
     "name": "stdout",
     "output_type": "stream",
     "text": [
      "Selected Response: very well\n",
      "Input sentence: hi\n",
      "Most tag: REWARD\n",
      "Most similar response: very well\n",
      "similarity: tensor([[0.5522]])\n"
     ]
    },
    {
     "name": "stderr",
     "output_type": "stream",
     "text": [
      "127.0.0.1 - - [20/Dec/2023 16:45:39] \"POST / HTTP/1.1\" 200 -\n"
     ]
    },
    {
     "name": "stdout",
     "output_type": "stream",
     "text": [
      "Selected Response: hi~\n",
      "Input sentence: hi\n",
      "Most tag: CALL\n",
      "Most similar response: HI\n",
      "similarity: tensor([[0.7740]])\n"
     ]
    },
    {
     "name": "stderr",
     "output_type": "stream",
     "text": [
      "127.0.0.1 - - [20/Dec/2023 16:49:24] \"POST / HTTP/1.1\" 200 -\n"
     ]
    },
    {
     "name": "stdout",
     "output_type": "stream",
     "text": [
      "Selected Response: :)\n",
      "Input sentence: hi\n",
      "Most tag: CALL_BACK\n",
      "Most similar response: Hi\n",
      "similarity: tensor([[0.4643]])\n"
     ]
    },
    {
     "name": "stderr",
     "output_type": "stream",
     "text": [
      "127.0.0.1 - - [20/Dec/2023 16:49:26] \"POST / HTTP/1.1\" 200 -\n"
     ]
    },
    {
     "name": "stdout",
     "output_type": "stream",
     "text": [
      "Selected Response: 😊\n",
      "Input sentence: hi\n",
      "Most tag: BE_GOOD\n",
      "Most similar response: 😂\n",
      "similarity: tensor([[0.5746]])\n"
     ]
    },
    {
     "name": "stderr",
     "output_type": "stream",
     "text": [
      "127.0.0.1 - - [20/Dec/2023 16:49:27] \"POST / HTTP/1.1\" 200 -\n"
     ]
    },
    {
     "name": "stdout",
     "output_type": "stream",
     "text": [
      "Selected Response: hi~\n",
      "Input sentence: hi\n",
      "Most tag: CALL\n",
      "Most similar response: HI\n",
      "similarity: tensor([[0.7740]])\n"
     ]
    },
    {
     "name": "stderr",
     "output_type": "stream",
     "text": [
      "127.0.0.1 - - [20/Dec/2023 16:49:39] \"POST / HTTP/1.1\" 200 -\n"
     ]
    },
    {
     "name": "stdout",
     "output_type": "stream",
     "text": [
      "Selected Response: how old are u\n",
      "Input sentence: hi\n",
      "Most tag: ASK_INFO\n",
      "Most similar response: how old\n",
      "similarity: tensor([[0.4501]])\n"
     ]
    },
    {
     "name": "stderr",
     "output_type": "stream",
     "text": [
      "127.0.0.1 - - [20/Dec/2023 16:49:41] \"POST / HTTP/1.1\" 200 -\n"
     ]
    },
    {
     "name": "stdout",
     "output_type": "stream",
     "text": [
      "Selected Response: 😎\n",
      "Input sentence: hi\n",
      "Most tag: BE_GOOD\n",
      "Most similar response: 😂\n",
      "similarity: tensor([[0.6245]])\n"
     ]
    },
    {
     "name": "stderr",
     "output_type": "stream",
     "text": [
      "127.0.0.1 - - [20/Dec/2023 16:49:42] \"POST / HTTP/1.1\" 200 -\n"
     ]
    },
    {
     "name": "stdout",
     "output_type": "stream",
     "text": [
      "Selected Response: 36\n",
      "Input sentence: 18\n",
      "Most tag: ANS_INFO\n",
      "Most similar response: 36\n",
      "similarity: tensor([[0.6639]])\n"
     ]
    },
    {
     "name": "stderr",
     "output_type": "stream",
     "text": [
      "127.0.0.1 - - [20/Dec/2023 16:49:59] \"POST / HTTP/1.1\" 200 -\n"
     ]
    },
    {
     "name": "stdout",
     "output_type": "stream",
     "text": [
      "Selected Response: 😂\n",
      "Input sentence: \n",
      "Most tag: BE_GOOD\n",
      "Most similar response: 😂\n",
      "similarity: tensor([[0.5178]])\n"
     ]
    },
    {
     "name": "stderr",
     "output_type": "stream",
     "text": [
      "127.0.0.1 - - [20/Dec/2023 16:50:01] \"POST / HTTP/1.1\" 200 -\n"
     ]
    },
    {
     "name": "stdout",
     "output_type": "stream",
     "text": [
      "Selected Response: 早\n",
      "Input sentence: 18\n",
      "Most tag: ANS_INFO\n",
      "Most similar response: 36\n",
      "similarity: tensor([[0.5938]])\n"
     ]
    },
    {
     "name": "stderr",
     "output_type": "stream",
     "text": [
      "127.0.0.1 - - [20/Dec/2023 16:52:07] \"POST / HTTP/1.1\" 200 -\n"
     ]
    },
    {
     "name": "stdout",
     "output_type": "stream",
     "text": [
      "Selected Response: cool\n",
      "Input sentence: \n",
      "Most tag: BE_GOOD\n",
      "Most similar response: 😂\n",
      "similarity: tensor([[0.5042]])\n"
     ]
    },
    {
     "name": "stderr",
     "output_type": "stream",
     "text": [
      "127.0.0.1 - - [20/Dec/2023 16:52:09] \"POST / HTTP/1.1\" 200 -\n"
     ]
    },
    {
     "name": "stdout",
     "output_type": "stream",
     "text": [
      "Selected Response: 早\n",
      "Input sentence: 18\n",
      "Most tag: ANS_INFO\n",
      "Most similar response: 36\n",
      "similarity: tensor([[0.5938]])\n"
     ]
    },
    {
     "name": "stderr",
     "output_type": "stream",
     "text": [
      "127.0.0.1 - - [20/Dec/2023 16:52:12] \"POST / HTTP/1.1\" 200 -\n"
     ]
    },
    {
     "name": "stdout",
     "output_type": "stream",
     "text": [
      "Selected Response: 😊\n",
      "Input sentence: \n",
      "Most tag: BE_GOOD\n",
      "Most similar response: 😂\n",
      "similarity: tensor([[0.4952]])\n"
     ]
    },
    {
     "name": "stderr",
     "output_type": "stream",
     "text": [
      "127.0.0.1 - - [20/Dec/2023 16:52:14] \"POST / HTTP/1.1\" 200 -\n"
     ]
    },
    {
     "name": "stdout",
     "output_type": "stream",
     "text": [
      "Selected Response: 早\n",
      "Input sentence: 18\n",
      "Most tag: ANS_INFO\n",
      "Most similar response: 36\n",
      "similarity: tensor([[0.5938]])\n"
     ]
    },
    {
     "name": "stderr",
     "output_type": "stream",
     "text": [
      "127.0.0.1 - - [20/Dec/2023 16:52:28] \"POST / HTTP/1.1\" 200 -\n"
     ]
    },
    {
     "name": "stdout",
     "output_type": "stream",
     "text": [
      "Selected Response: 😂\n",
      "Input sentence: \n",
      "Most tag: BE_GOOD\n",
      "Most similar response: 😂\n",
      "similarity: tensor([[0.5178]])\n"
     ]
    },
    {
     "name": "stderr",
     "output_type": "stream",
     "text": [
      "127.0.0.1 - - [20/Dec/2023 16:52:30] \"POST / HTTP/1.1\" 200 -\n"
     ]
    },
    {
     "name": "stdout",
     "output_type": "stream",
     "text": [
      "Selected Response: 早\n",
      "Input sentence: 18\n",
      "Most tag: ANS_INFO\n",
      "Most similar response: 36\n",
      "similarity: tensor([[0.5938]])\n"
     ]
    },
    {
     "name": "stderr",
     "output_type": "stream",
     "text": [
      "127.0.0.1 - - [20/Dec/2023 16:52:34] \"POST / HTTP/1.1\" 200 -\n"
     ]
    },
    {
     "name": "stdout",
     "output_type": "stream",
     "text": [
      "Selected Response: 🤗\n",
      "Input sentence: \n",
      "Most tag: BE_GOOD\n",
      "Most similar response: 😂\n",
      "similarity: tensor([[0.4952]])\n"
     ]
    },
    {
     "name": "stderr",
     "output_type": "stream",
     "text": [
      "127.0.0.1 - - [20/Dec/2023 16:52:36] \"POST / HTTP/1.1\" 200 -\n"
     ]
    },
    {
     "name": "stdout",
     "output_type": "stream",
     "text": [
      "Selected Response: 36\n",
      "Input sentence: 18\n",
      "Most tag: ANS_INFO\n",
      "Most similar response: 36\n",
      "similarity: tensor([[0.6639]])\n"
     ]
    },
    {
     "name": "stderr",
     "output_type": "stream",
     "text": [
      "127.0.0.1 - - [20/Dec/2023 16:52:41] \"POST / HTTP/1.1\" 200 -\n"
     ]
    },
    {
     "name": "stdout",
     "output_type": "stream",
     "text": [
      "Selected Response: 😂\n",
      "Input sentence: \n",
      "Most tag: BE_GOOD\n",
      "Most similar response: 😂\n",
      "similarity: tensor([[0.5178]])\n"
     ]
    },
    {
     "name": "stderr",
     "output_type": "stream",
     "text": [
      "127.0.0.1 - - [20/Dec/2023 16:52:43] \"POST / HTTP/1.1\" 200 -\n"
     ]
    },
    {
     "name": "stdout",
     "output_type": "stream",
     "text": [
      "Selected Response: 17 yr\n",
      "Input sentence: 18\n",
      "Most tag: ANS_INFO\n",
      "Most similar response: 36\n",
      "similarity: tensor([[0.6022]])\n"
     ]
    },
    {
     "name": "stderr",
     "output_type": "stream",
     "text": [
      "127.0.0.1 - - [20/Dec/2023 16:52:46] \"POST / HTTP/1.1\" 200 -\n"
     ]
    },
    {
     "name": "stdout",
     "output_type": "stream",
     "text": [
      "Selected Response: 😊\n",
      "Input sentence: \n",
      "Most tag: BE_GOOD\n",
      "Most similar response: 😂\n",
      "similarity: tensor([[0.4952]])\n"
     ]
    },
    {
     "name": "stderr",
     "output_type": "stream",
     "text": [
      "127.0.0.1 - - [20/Dec/2023 16:52:49] \"POST / HTTP/1.1\" 200 -\n"
     ]
    },
    {
     "name": "stdout",
     "output_type": "stream",
     "text": [
      "Selected Response: 早\n",
      "Input sentence: 18\n",
      "Most tag: ANS_INFO\n",
      "Most similar response: 36\n",
      "similarity: tensor([[0.5938]])\n"
     ]
    },
    {
     "name": "stderr",
     "output_type": "stream",
     "text": [
      "127.0.0.1 - - [20/Dec/2023 16:52:52] \"POST / HTTP/1.1\" 200 -\n"
     ]
    },
    {
     "name": "stdout",
     "output_type": "stream",
     "text": [
      "Selected Response: 🤗\n",
      "Input sentence: \n",
      "Most tag: BE_GOOD\n",
      "Most similar response: 😂\n",
      "similarity: tensor([[0.4952]])\n"
     ]
    },
    {
     "name": "stderr",
     "output_type": "stream",
     "text": [
      "127.0.0.1 - - [20/Dec/2023 16:52:54] \"POST / HTTP/1.1\" 200 -\n"
     ]
    },
    {
     "name": "stdout",
     "output_type": "stream",
     "text": [
      "Selected Response: 17 yr\n",
      "Input sentence: 18\n",
      "Most tag: ANS_INFO\n",
      "Most similar response: 36\n",
      "similarity: tensor([[0.6022]])\n"
     ]
    },
    {
     "name": "stderr",
     "output_type": "stream",
     "text": [
      "127.0.0.1 - - [20/Dec/2023 16:52:58] \"POST / HTTP/1.1\" 200 -\n"
     ]
    },
    {
     "name": "stdout",
     "output_type": "stream",
     "text": [
      "Selected Response: 😊\n",
      "Input sentence: \n",
      "Most tag: BE_GOOD\n",
      "Most similar response: 😂\n",
      "similarity: tensor([[0.4952]])\n"
     ]
    },
    {
     "name": "stderr",
     "output_type": "stream",
     "text": [
      "127.0.0.1 - - [20/Dec/2023 16:53:01] \"POST / HTTP/1.1\" 200 -\n"
     ]
    },
    {
     "name": "stdout",
     "output_type": "stream",
     "text": [
      "Selected Response: 早\n",
      "Input sentence: 18\n",
      "Most tag: ANS_INFO\n",
      "Most similar response: 36\n",
      "similarity: tensor([[0.5938]])\n"
     ]
    },
    {
     "name": "stderr",
     "output_type": "stream",
     "text": [
      "127.0.0.1 - - [20/Dec/2023 16:53:04] \"POST / HTTP/1.1\" 200 -\n"
     ]
    },
    {
     "name": "stdout",
     "output_type": "stream",
     "text": [
      "Selected Response: cool\n",
      "Input sentence: \n",
      "Most tag: BE_GOOD\n",
      "Most similar response: 😂\n",
      "similarity: tensor([[0.5042]])\n"
     ]
    },
    {
     "name": "stderr",
     "output_type": "stream",
     "text": [
      "127.0.0.1 - - [20/Dec/2023 16:53:06] \"POST / HTTP/1.1\" 200 -\n"
     ]
    },
    {
     "name": "stdout",
     "output_type": "stream",
     "text": [
      "Selected Response: 早\n",
      "Input sentence: 18\n",
      "Most tag: ANS_INFO\n",
      "Most similar response: 36\n",
      "similarity: tensor([[0.5938]])\n"
     ]
    },
    {
     "name": "stderr",
     "output_type": "stream",
     "text": [
      "127.0.0.1 - - [20/Dec/2023 16:53:10] \"POST / HTTP/1.1\" 200 -\n"
     ]
    },
    {
     "name": "stdout",
     "output_type": "stream",
     "text": [
      "Selected Response: 🤗\n",
      "Input sentence: \n",
      "Most tag: BE_GOOD\n",
      "Most similar response: 😂\n",
      "similarity: tensor([[0.4952]])\n"
     ]
    },
    {
     "name": "stderr",
     "output_type": "stream",
     "text": [
      "127.0.0.1 - - [20/Dec/2023 16:53:13] \"POST / HTTP/1.1\" 200 -\n"
     ]
    },
    {
     "name": "stdout",
     "output_type": "stream",
     "text": [
      "Selected Response: 早\n",
      "Input sentence: 18\n",
      "Most tag: ANS_INFO\n",
      "Most similar response: 36\n",
      "similarity: tensor([[0.5938]])\n"
     ]
    },
    {
     "name": "stderr",
     "output_type": "stream",
     "text": [
      "127.0.0.1 - - [20/Dec/2023 16:53:17] \"POST / HTTP/1.1\" 200 -\n"
     ]
    },
    {
     "name": "stdout",
     "output_type": "stream",
     "text": [
      "Selected Response: 😊\n",
      "Input sentence: \n",
      "Most tag: BE_GOOD\n",
      "Most similar response: 😂\n",
      "similarity: tensor([[0.4952]])\n"
     ]
    },
    {
     "name": "stderr",
     "output_type": "stream",
     "text": [
      "127.0.0.1 - - [20/Dec/2023 16:53:19] \"POST / HTTP/1.1\" 200 -\n"
     ]
    },
    {
     "name": "stdout",
     "output_type": "stream",
     "text": [
      "Selected Response: 25yr\n",
      "Input sentence: 18\n",
      "Most tag: ANS_INFO\n",
      "Most similar response: 36\n",
      "similarity: tensor([[0.5475]])\n"
     ]
    },
    {
     "name": "stderr",
     "output_type": "stream",
     "text": [
      "127.0.0.1 - - [20/Dec/2023 16:53:24] \"POST / HTTP/1.1\" 200 -\n"
     ]
    },
    {
     "name": "stdout",
     "output_type": "stream",
     "text": [
      "Selected Response: cool\n",
      "Input sentence: \n",
      "Most tag: BE_GOOD\n",
      "Most similar response: 😂\n",
      "similarity: tensor([[0.5042]])\n"
     ]
    },
    {
     "name": "stderr",
     "output_type": "stream",
     "text": [
      "127.0.0.1 - - [20/Dec/2023 16:53:26] \"POST / HTTP/1.1\" 200 -\n"
     ]
    },
    {
     "name": "stdout",
     "output_type": "stream",
     "text": [
      "Selected Response: 25yr\n",
      "Input sentence: 18\n",
      "Most tag: ANS_INFO\n",
      "Most similar response: 36\n",
      "similarity: tensor([[0.5475]])\n"
     ]
    },
    {
     "name": "stderr",
     "output_type": "stream",
     "text": [
      "127.0.0.1 - - [20/Dec/2023 16:54:20] \"POST / HTTP/1.1\" 200 -\n"
     ]
    },
    {
     "name": "stdout",
     "output_type": "stream",
     "text": [
      "Selected Response: 😊\n",
      "Input sentence: \n",
      "Most tag: BE_GOOD\n",
      "Most similar response: 😂\n",
      "similarity: tensor([[0.4952]])\n"
     ]
    },
    {
     "name": "stderr",
     "output_type": "stream",
     "text": [
      "127.0.0.1 - - [20/Dec/2023 16:54:22] \"POST / HTTP/1.1\" 200 -\n"
     ]
    },
    {
     "name": "stdout",
     "output_type": "stream",
     "text": [
      "Selected Response: 25yr\n",
      "Input sentence: 18\n",
      "Most tag: ANS_INFO\n",
      "Most similar response: 36\n",
      "similarity: tensor([[0.5475]])\n"
     ]
    },
    {
     "name": "stderr",
     "output_type": "stream",
     "text": [
      "127.0.0.1 - - [20/Dec/2023 16:54:27] \"POST / HTTP/1.1\" 200 -\n"
     ]
    },
    {
     "name": "stdout",
     "output_type": "stream",
     "text": [
      "Selected Response: 😊\n",
      "Input sentence: \n",
      "Most tag: BE_GOOD\n",
      "Most similar response: 😂\n",
      "similarity: tensor([[0.4952]])\n"
     ]
    },
    {
     "name": "stderr",
     "output_type": "stream",
     "text": [
      "127.0.0.1 - - [20/Dec/2023 16:54:29] \"POST / HTTP/1.1\" 200 -\n"
     ]
    },
    {
     "name": "stdout",
     "output_type": "stream",
     "text": [
      "Selected Response: 17 yr\n",
      "Input sentence: 18\n",
      "Most tag: ANS_INFO\n",
      "Most similar response: 36\n",
      "similarity: tensor([[0.6022]])\n"
     ]
    },
    {
     "name": "stderr",
     "output_type": "stream",
     "text": [
      "127.0.0.1 - - [20/Dec/2023 16:54:33] \"POST / HTTP/1.1\" 200 -\n"
     ]
    },
    {
     "name": "stdout",
     "output_type": "stream",
     "text": [
      "Selected Response: 🤗\n",
      "Input sentence: \n",
      "Most tag: BE_GOOD\n",
      "Most similar response: 😂\n",
      "similarity: tensor([[0.4952]])\n"
     ]
    },
    {
     "name": "stderr",
     "output_type": "stream",
     "text": [
      "127.0.0.1 - - [20/Dec/2023 16:54:35] \"POST / HTTP/1.1\" 200 -\n"
     ]
    },
    {
     "name": "stdout",
     "output_type": "stream",
     "text": [
      "Selected Response: US\n",
      "Input sentence: 18\n",
      "Most tag: ANS_INFO\n",
      "Most similar response: 36\n",
      "similarity: tensor([[0.5319]])\n"
     ]
    },
    {
     "name": "stderr",
     "output_type": "stream",
     "text": [
      "127.0.0.1 - - [20/Dec/2023 16:54:39] \"POST / HTTP/1.1\" 200 -\n"
     ]
    },
    {
     "name": "stdout",
     "output_type": "stream",
     "text": [
      "Selected Response: 😂\n",
      "Input sentence: \n",
      "Most tag: BE_GOOD\n",
      "Most similar response: 😂\n",
      "similarity: tensor([[0.5178]])\n"
     ]
    },
    {
     "name": "stderr",
     "output_type": "stream",
     "text": [
      "127.0.0.1 - - [20/Dec/2023 16:54:42] \"POST / HTTP/1.1\" 200 -\n"
     ]
    },
    {
     "name": "stdout",
     "output_type": "stream",
     "text": [
      "Selected Response: 25yr\n",
      "Input sentence: 18\n",
      "Most tag: ANS_INFO\n",
      "Most similar response: 36\n",
      "similarity: tensor([[0.5475]])\n"
     ]
    },
    {
     "name": "stderr",
     "output_type": "stream",
     "text": [
      "127.0.0.1 - - [20/Dec/2023 16:55:25] \"POST / HTTP/1.1\" 200 -\n"
     ]
    },
    {
     "name": "stdout",
     "output_type": "stream",
     "text": [
      "Selected Response: 😊\n",
      "Input sentence: \n",
      "Most tag: BE_GOOD\n",
      "Most similar response: 😂\n",
      "similarity: tensor([[0.4952]])\n"
     ]
    },
    {
     "name": "stderr",
     "output_type": "stream",
     "text": [
      "127.0.0.1 - - [20/Dec/2023 16:55:28] \"POST / HTTP/1.1\" 200 -\n"
     ]
    },
    {
     "name": "stdout",
     "output_type": "stream",
     "text": [
      "Selected Response: 36\n",
      "Input sentence: 18\n",
      "Most tag: ANS_INFO\n",
      "Most similar response: 36\n",
      "similarity: tensor([[0.6639]])\n"
     ]
    },
    {
     "name": "stderr",
     "output_type": "stream",
     "text": [
      "127.0.0.1 - - [20/Dec/2023 16:55:32] \"POST / HTTP/1.1\" 200 -\n"
     ]
    },
    {
     "name": "stdout",
     "output_type": "stream",
     "text": [
      "Selected Response: 😊\n",
      "Input sentence: \n",
      "Most tag: BE_GOOD\n",
      "Most similar response: 😂\n",
      "similarity: tensor([[0.4952]])\n"
     ]
    },
    {
     "name": "stderr",
     "output_type": "stream",
     "text": [
      "127.0.0.1 - - [20/Dec/2023 16:55:34] \"POST / HTTP/1.1\" 200 -\n"
     ]
    },
    {
     "name": "stdout",
     "output_type": "stream",
     "text": [
      "Selected Response: 早\n",
      "Input sentence: 18\n",
      "Most tag: ANS_INFO\n",
      "Most similar response: 36\n",
      "similarity: tensor([[0.5938]])\n"
     ]
    },
    {
     "name": "stderr",
     "output_type": "stream",
     "text": [
      "127.0.0.1 - - [20/Dec/2023 16:55:38] \"POST / HTTP/1.1\" 200 -\n"
     ]
    },
    {
     "name": "stdout",
     "output_type": "stream",
     "text": [
      "Selected Response: 😊\n",
      "Input sentence: \n",
      "Most tag: BE_GOOD\n",
      "Most similar response: 😂\n",
      "similarity: tensor([[0.4952]])\n"
     ]
    },
    {
     "name": "stderr",
     "output_type": "stream",
     "text": [
      "127.0.0.1 - - [20/Dec/2023 16:55:40] \"POST / HTTP/1.1\" 200 -\n"
     ]
    },
    {
     "name": "stdout",
     "output_type": "stream",
     "text": [
      "Selected Response: US\n",
      "Input sentence: 18\n",
      "Most tag: ANS_INFO\n",
      "Most similar response: 36\n",
      "similarity: tensor([[0.5319]])\n"
     ]
    },
    {
     "name": "stderr",
     "output_type": "stream",
     "text": [
      "127.0.0.1 - - [20/Dec/2023 16:55:45] \"POST / HTTP/1.1\" 200 -\n"
     ]
    },
    {
     "name": "stdout",
     "output_type": "stream",
     "text": [
      "Selected Response: 😊\n",
      "Input sentence: \n",
      "Most tag: BE_GOOD\n",
      "Most similar response: 😂\n",
      "similarity: tensor([[0.4952]])\n"
     ]
    },
    {
     "name": "stderr",
     "output_type": "stream",
     "text": [
      "127.0.0.1 - - [20/Dec/2023 16:55:47] \"POST / HTTP/1.1\" 200 -\n"
     ]
    },
    {
     "name": "stdout",
     "output_type": "stream",
     "text": [
      "Selected Response: 36\n",
      "Input sentence: 18\n",
      "Most tag: ANS_INFO\n",
      "Most similar response: 36\n",
      "similarity: tensor([[0.6639]])\n"
     ]
    },
    {
     "name": "stderr",
     "output_type": "stream",
     "text": [
      "127.0.0.1 - - [20/Dec/2023 16:55:51] \"POST / HTTP/1.1\" 200 -\n"
     ]
    },
    {
     "name": "stdout",
     "output_type": "stream",
     "text": [
      "Selected Response: 😊\n",
      "Input sentence: \n",
      "Most tag: BE_GOOD\n",
      "Most similar response: 😂\n",
      "similarity: tensor([[0.4952]])\n"
     ]
    },
    {
     "name": "stderr",
     "output_type": "stream",
     "text": [
      "127.0.0.1 - - [20/Dec/2023 16:55:53] \"POST / HTTP/1.1\" 200 -\n"
     ]
    },
    {
     "name": "stdout",
     "output_type": "stream",
     "text": [
      "Selected Response: 早\n",
      "Input sentence: 18\n",
      "Most tag: ANS_INFO\n",
      "Most similar response: 36\n",
      "similarity: tensor([[0.5938]])\n"
     ]
    },
    {
     "name": "stderr",
     "output_type": "stream",
     "text": [
      "127.0.0.1 - - [20/Dec/2023 16:55:59] \"POST / HTTP/1.1\" 200 -\n"
     ]
    },
    {
     "name": "stdout",
     "output_type": "stream",
     "text": [
      "Selected Response: 😂\n",
      "Input sentence: \n",
      "Most tag: BE_GOOD\n",
      "Most similar response: 😂\n",
      "similarity: tensor([[0.5178]])\n"
     ]
    },
    {
     "name": "stderr",
     "output_type": "stream",
     "text": [
      "127.0.0.1 - - [20/Dec/2023 16:56:01] \"POST / HTTP/1.1\" 200 -\n"
     ]
    },
    {
     "name": "stdout",
     "output_type": "stream",
     "text": [
      "Selected Response: 早\n",
      "Input sentence: 18\n",
      "Most tag: ANS_INFO\n",
      "Most similar response: 36\n",
      "similarity: tensor([[0.5938]])\n"
     ]
    },
    {
     "name": "stderr",
     "output_type": "stream",
     "text": [
      "127.0.0.1 - - [20/Dec/2023 16:56:40] \"POST / HTTP/1.1\" 200 -\n"
     ]
    },
    {
     "name": "stdout",
     "output_type": "stream",
     "text": [
      "Selected Response: cool\n",
      "Input sentence: \n",
      "Most tag: BE_GOOD\n",
      "Most similar response: 😂\n",
      "similarity: tensor([[0.5042]])\n"
     ]
    },
    {
     "name": "stderr",
     "output_type": "stream",
     "text": [
      "127.0.0.1 - - [20/Dec/2023 16:56:42] \"POST / HTTP/1.1\" 200 -\n"
     ]
    },
    {
     "name": "stdout",
     "output_type": "stream",
     "text": [
      "Selected Response: US\n",
      "Input sentence: 18\n",
      "Most tag: ANS_INFO\n",
      "Most similar response: 36\n",
      "similarity: tensor([[0.5319]])\n"
     ]
    },
    {
     "name": "stderr",
     "output_type": "stream",
     "text": [
      "127.0.0.1 - - [20/Dec/2023 16:56:47] \"POST / HTTP/1.1\" 200 -\n"
     ]
    },
    {
     "name": "stdout",
     "output_type": "stream",
     "text": [
      "Selected Response: 😂\n",
      "Input sentence: \n",
      "Most tag: BE_GOOD\n",
      "Most similar response: 😂\n",
      "similarity: tensor([[0.5178]])\n"
     ]
    },
    {
     "name": "stderr",
     "output_type": "stream",
     "text": [
      "127.0.0.1 - - [20/Dec/2023 16:56:49] \"POST / HTTP/1.1\" 200 -\n"
     ]
    },
    {
     "name": "stdout",
     "output_type": "stream",
     "text": [
      "Selected Response: hi~\n",
      "Input sentence: hi\n",
      "Most tag: CALL\n",
      "Most similar response: HI\n",
      "similarity: tensor([[0.7740]])\n"
     ]
    },
    {
     "name": "stderr",
     "output_type": "stream",
     "text": [
      "127.0.0.1 - - [20/Dec/2023 16:57:05] \"POST / HTTP/1.1\" 200 -\n"
     ]
    },
    {
     "name": "stdout",
     "output_type": "stream",
     "text": [
      "Selected Response: XD\n",
      "Input sentence: hi\n",
      "Most tag: CALL_BACK\n",
      "Most similar response: Hi\n",
      "similarity: tensor([[0.5713]])\n"
     ]
    },
    {
     "name": "stderr",
     "output_type": "stream",
     "text": [
      "127.0.0.1 - - [20/Dec/2023 16:57:07] \"POST / HTTP/1.1\" 200 -\n"
     ]
    },
    {
     "name": "stdout",
     "output_type": "stream",
     "text": [
      "Selected Response: 😂\n",
      "Input sentence: hi\n",
      "Most tag: BE_GOOD\n",
      "Most similar response: 😂\n",
      "similarity: tensor([[0.6369]])\n"
     ]
    },
    {
     "name": "stderr",
     "output_type": "stream",
     "text": [
      "127.0.0.1 - - [20/Dec/2023 16:57:09] \"POST / HTTP/1.1\" 200 -\n"
     ]
    },
    {
     "name": "stdout",
     "output_type": "stream",
     "text": [
      "Selected Response: HI\n",
      "Input sentence: hi\n",
      "Most tag: CALL\n",
      "Most similar response: HI\n",
      "similarity: tensor([[1.]])\n"
     ]
    },
    {
     "name": "stderr",
     "output_type": "stream",
     "text": [
      "127.0.0.1 - - [20/Dec/2023 16:57:49] \"POST / HTTP/1.1\" 200 -\n"
     ]
    },
    {
     "name": "stdout",
     "output_type": "stream",
     "text": [
      "Selected Response: :)\n",
      "Input sentence: hi\n",
      "Most tag: CALL_BACK\n",
      "Most similar response: Hi\n",
      "similarity: tensor([[0.4643]])\n"
     ]
    },
    {
     "name": "stderr",
     "output_type": "stream",
     "text": [
      "127.0.0.1 - - [20/Dec/2023 16:57:51] \"POST / HTTP/1.1\" 200 -\n"
     ]
    },
    {
     "name": "stdout",
     "output_type": "stream",
     "text": [
      "Selected Response: 😂\n",
      "Input sentence: hi\n",
      "Most tag: BE_GOOD\n",
      "Most similar response: 😂\n",
      "similarity: tensor([[0.6369]])\n"
     ]
    },
    {
     "name": "stderr",
     "output_type": "stream",
     "text": [
      "127.0.0.1 - - [20/Dec/2023 16:57:52] \"POST / HTTP/1.1\" 200 -\n"
     ]
    },
    {
     "name": "stdout",
     "output_type": "stream",
     "text": [
      "Selected Response: hi!\n",
      "Input sentence: hi\n",
      "Most tag: CALL\n",
      "Most similar response: HI\n",
      "similarity: tensor([[0.7442]])\n"
     ]
    },
    {
     "name": "stderr",
     "output_type": "stream",
     "text": [
      "127.0.0.1 - - [20/Dec/2023 16:57:57] \"POST / HTTP/1.1\" 200 -\n"
     ]
    },
    {
     "name": "stdout",
     "output_type": "stream",
     "text": [
      "Selected Response: hi~\n",
      "Input sentence: hi\n",
      "Most tag: CALL\n",
      "Most similar response: HI\n",
      "similarity: tensor([[0.7740]])\n"
     ]
    },
    {
     "name": "stderr",
     "output_type": "stream",
     "text": [
      "127.0.0.1 - - [20/Dec/2023 16:58:03] \"POST / HTTP/1.1\" 200 -\n"
     ]
    },
    {
     "name": "stdout",
     "output_type": "stream",
     "text": [
      "Selected Response: how old\n",
      "Input sentence: hi\n",
      "Most tag: ASK_INFO\n",
      "Most similar response: how old\n",
      "similarity: tensor([[0.5219]])\n"
     ]
    },
    {
     "name": "stderr",
     "output_type": "stream",
     "text": [
      "127.0.0.1 - - [20/Dec/2023 16:58:05] \"POST / HTTP/1.1\" 200 -\n"
     ]
    },
    {
     "name": "stdout",
     "output_type": "stream",
     "text": [
      "Selected Response: 😊\n",
      "Input sentence: hi\n",
      "Most tag: BE_GOOD\n",
      "Most similar response: 😂\n",
      "similarity: tensor([[0.5746]])\n"
     ]
    },
    {
     "name": "stderr",
     "output_type": "stream",
     "text": [
      "127.0.0.1 - - [20/Dec/2023 16:58:06] \"POST / HTTP/1.1\" 200 -\n"
     ]
    },
    {
     "name": "stdout",
     "output_type": "stream",
     "text": [
      "Selected Response: hi~\n",
      "Input sentence: hi\n",
      "Most tag: CALL\n",
      "Most similar response: HI\n",
      "similarity: tensor([[0.7740]])\n"
     ]
    },
    {
     "name": "stderr",
     "output_type": "stream",
     "text": [
      "127.0.0.1 - - [20/Dec/2023 16:58:12] \"POST / HTTP/1.1\" 200 -\n"
     ]
    }
   ],
   "source": [
    "import random\n",
    "from http.server import BaseHTTPRequestHandler, HTTPServer\n",
    "from sentence_transformers import SentenceTransformer, util\n",
    "import mysql.connector\n",
    "import json\n",
    "import torch\n",
    "\n",
    "def connect_to_database():\n",
    "    connection = mysql.connector.connect(\n",
    "        host=\"localhost\",\n",
    "        user=\"root\",\n",
    "        password=\"3659215fF\",\n",
    "        database=\"handle_together\"\n",
    "    )\n",
    "    return connection\n",
    "\n",
    "def send_json_response(self, status_code, data):\n",
    "    # Convert status_code to integer\n",
    "    status_code = int(status_code)\n",
    "\n",
    "    # Set up the HTTP response\n",
    "    self.send_response(status_code)\n",
    "    self.send_header(\"Content-type\", \"application/json\")\n",
    "    self.end_headers()\n",
    "\n",
    "    # Convert the data to JSON\n",
    "    json_response = json.dumps(data)\n",
    "\n",
    "    # Send the JSON response\n",
    "    self.wfile.write(json_response.encode('utf-8'))\n",
    "\n",
    "class WebServerHandler(BaseHTTPRequestHandler):\n",
    "\n",
    "    def do_POST(self):       \n",
    "        # Read the content length from the request headers\n",
    "        content_length = int(self.headers['Content-Length'])\n",
    "\n",
    "        # Read the JSON data from the request body\n",
    "        post_data = self.rfile.read(content_length)\n",
    "        json_data_list = json.loads(post_data.decode('utf-8'))\n",
    "\n",
    "        if json_data_list:\n",
    "            json_data = json_data_list[0]\n",
    "            # Now json_data contains the parameters sent in the JSON format\n",
    "            tag_array = json_data.get('tag_array', [])\n",
    "            subject_array = json_data.get('subject_array', [])\n",
    "            object_array = json_data.get('object_array', [])\n",
    "            input_sentence = json_data.get('input_sentence', '')       \n",
    "            public_ind = json_data.get('public_ind', '')\n",
    "            command_ind = json_data.get('command_ind', '')\n",
    "\n",
    "        # Load the Sentence Transformer model\n",
    "        model = SentenceTransformer(\"shibing624/text2vec-base-chinese\")\n",
    "\n",
    "        # Fetch distinct subject codes from intent_type table\n",
    "        connection = connect_to_database()\n",
    "        cursor = connection.cursor()\n",
    "\n",
    "        # Use parameterized query to avoid SQL injection\n",
    "        # query = \"SELECT tag, content FROM intent_training_data WHERE tag IN ({}) AND subject IN ({})\".format(','.join(['%s' for _ in tag_array]), ','.join(['%s' for _ in subject_array]))\n",
    "        if tag_array and any(tag_array):\n",
    "            tag_condition = \"tag IN ({})\".format(','.join(['%s' for _ in tag_array]))\n",
    "        else:\n",
    "            tag_condition = \"1=1\"  # Always true if tag_array is empty or None\n",
    "            \n",
    "        if command_ind: \n",
    "            tag_condition2 = \"AND COMMAND_IND = '\"+command_ind+\"'\"\n",
    "        else:\n",
    "            tag_condition2 = \"\" \n",
    "        query = (\"SELECT tag, content FROM intent_training_data WHERE {} AND subject IN ({}) AND object IN ({}) AND PUBLIC_IND = '\"+public_ind+\"'\"+tag_condition2).format(tag_condition, ','.join(['%s' for _ in subject_array]) ,','.join(['%s' for _ in object_array]))\n",
    "        params = tag_array + subject_array + object_array\n",
    "        cursor.execute(query, params)\n",
    "        rows = cursor.fetchall()\n",
    "        candidate_responses_tags = [row[0] for row in rows]\n",
    "        candidate_responses = [row[1] for row in rows]\n",
    "        # for row in rows:\n",
    "        #     print(row)\n",
    "        # print(\"SQL Query:\", query)\n",
    "        # print(\"Parameters:\", params)\n",
    "        cursor.close()\n",
    "        connection.close()\n",
    "\n",
    "        # Encode input sentence and candidate responses\n",
    "        input_embedding = model.encode([input_sentence])\n",
    "        response_embedding = model.encode([candidate_responses])\n",
    "\n",
    "        response_embeddings = model.encode(candidate_responses)\n",
    "\n",
    "        # Calculate cosine similarity between input and responses\n",
    "        similarities = util.pytorch_cos_sim(input_embedding, response_embeddings)[0]\n",
    "        \n",
    "        most_similar_index = similarities.argmax().item()\n",
    "        top_n_indices = torch.argsort(similarities, descending=True)[:5]\n",
    "\n",
    "        # Randomly select 1 response from the top 5\n",
    "        selected_index = random.choice(top_n_indices)\n",
    "        selected_response_tag = candidate_responses_tags[selected_index]\n",
    "        selected_response = candidate_responses[selected_index]\n",
    "        selected_response_embedding= model.encode([selected_response])\n",
    "        similarity = util.pytorch_cos_sim(input_embedding, selected_response_embedding)\n",
    "\n",
    "        # Print the selected response\n",
    "        print(\"Selected Response:\", selected_response)\n",
    "        # Print the most similar response\n",
    "        print(\"Input sentence:\", input_sentence)\n",
    "        print(\"Most tag:\", candidate_responses_tags[most_similar_index])\n",
    "        print(\"Most similar response:\", candidate_responses[most_similar_index])\n",
    "        print(\"similarity:\",similarity)\n",
    "        result = {\n",
    "            \"input_sentence\": input_sentence,\n",
    "            \"tag\": candidate_responses_tags[most_similar_index],\n",
    "            \"content\": selected_response,\n",
    "            \"similarity\" : round(similarity.item(),5)\n",
    "        }\n",
    "        send_json_response(self, '200', result)\n",
    "\n",
    "if __name__ == '__main__':\n",
    "    try:\n",
    "        port = 8000\n",
    "        server = HTTPServer(('localhost', port), WebServerHandler)\n",
    "        server.max_body_length = 10 * 1024 * 1024  # set to 10 MB\n",
    "\n",
    "        print(f'Server running on port {port}')\n",
    "        \n",
    "        server.serve_forever()\n",
    "    except KeyboardInterrupt:\n",
    "        print('^C received, shutting down server')\n",
    "        server.socket.close()\n"
   ],
   "metadata": {
    "collapsed": false,
    "is_executing": true,
    "ExecuteTime": {
     "start_time": "2023-12-20T07:15:41.034235Z"
    }
   },
   "id": "f09ab4fc"
  },
  {
   "cell_type": "code",
   "execution_count": 8,
   "outputs": [],
   "source": [],
   "metadata": {
    "collapsed": false,
    "ExecuteTime": {
     "end_time": "2023-12-20T07:11:21.647489Z",
     "start_time": "2023-12-20T07:11:21.458971Z"
    }
   },
   "id": "a919bc16ba1fd336"
  }
 ],
 "metadata": {
  "kernelspec": {
   "display_name": "Python 3 (ipykernel)",
   "language": "python",
   "name": "python3"
  },
  "language_info": {
   "codemirror_mode": {
    "name": "ipython",
    "version": 3
   },
   "file_extension": ".py",
   "mimetype": "text/x-python",
   "name": "python",
   "nbconvert_exporter": "python",
   "pygments_lexer": "ipython3",
   "version": "3.10.9"
  }
 },
 "nbformat": 4,
 "nbformat_minor": 5
}
